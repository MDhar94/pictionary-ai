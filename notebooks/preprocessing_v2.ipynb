{
 "cells": [
  {
   "cell_type": "code",
   "execution_count": 58,
   "id": "3bff144d-0e16-48ac-a555-072d2dd0f908",
   "metadata": {},
   "outputs": [],
   "source": [
    "import numpy as np\n",
    "import pandas as pd\n",
    "import os\n",
    "import json\n",
    "import matplotlib.pyplot as plt\n",
    "import linecache\n",
    "from google.cloud import storage\n",
    "import subprocess\n",
    "import re"
   ]
  },
  {
   "cell_type": "markdown",
   "id": "a704437d-602c-4ee1-8894-5960dbe61fc9",
   "metadata": {},
   "source": [
    "# Params"
   ]
  },
  {
   "cell_type": "code",
   "execution_count": 59,
   "id": "3fbb7e4c-ac29-4b5b-86d0-dda9e5ae572d",
   "metadata": {},
   "outputs": [],
   "source": [
    "path_data = '/Users/loicregne/code/rs-uk/raw_data'\n",
    "bucket_drawings_simplified = 'quickdraw-simplified'\n",
    "bucket_drawings_simplified_processed = 'quickdraw-simplified-processed'"
   ]
  },
  {
   "cell_type": "markdown",
   "id": "3554a467-53b8-4ccf-9240-79fe106a8d8d",
   "metadata": {},
   "source": [
    "# Utils"
   ]
  },
  {
   "cell_type": "code",
   "execution_count": 60,
   "id": "c876c477-37d2-49c5-a55a-d5acddbc4a53",
   "metadata": {},
   "outputs": [],
   "source": [
    "# List all the blovs in a given bucket aand return their names in a list\n",
    "def list_blobs(bucket_name: str) -> list:\n",
    "    '''\n",
    "    Lists all the blobs in the bucket.\n",
    "    '''\n",
    "    # Initialize a client\n",
    "    storage_client = storage.Client()\n",
    "\n",
    "    # Get the bucket\n",
    "    bucket = storage_client.bucket(bucket_name)\n",
    "\n",
    "    # List the blobs in the bucket\n",
    "    blobs = bucket.list_blobs()\n",
    "\n",
    "    # Collect the names of blobs into a list\n",
    "    blob_names = [blob.name for blob in blobs]\n",
    "\n",
    "    return blob_names"
   ]
  },
  {
   "cell_type": "code",
   "execution_count": 61,
   "id": "412b9877-62ed-4e14-880e-b5da03952089",
   "metadata": {},
   "outputs": [],
   "source": [
    "# Copy all the content of one bucket to another bucket\n",
    "def copy_bucket(source_bucket_name: str, destination_bucket_name:str) -> None:\n",
    "    '''\n",
    "    Copies all blobs from the source bucket to the destination bucket.\n",
    "    '''\n",
    "    # Initialize clients for source and destination buckets\n",
    "    source_client = storage.Client()\n",
    "    destination_client = storage.Client()\n",
    "\n",
    "    # Get the source and destination buckets\n",
    "    source_bucket = source_client.bucket(source_bucket_name)\n",
    "    destination_bucket = destination_client.bucket(destination_bucket_name)\n",
    "\n",
    "    # List blobs in the source bucket\n",
    "    blobs = source_bucket.list_blobs()\n",
    "\n",
    "    # Copy each blob to the destination bucket\n",
    "    for blob in blobs:\n",
    "        source_blob = source_bucket.blob(blob.name)\n",
    "        destination_blob = destination_bucket.blob(blob.name)\n",
    "        destination_blob.copy(source_blob)"
   ]
  },
  {
   "cell_type": "code",
   "execution_count": 62,
   "id": "785aad86-0463-437a-a379-a2ef6bdd0249",
   "metadata": {},
   "outputs": [],
   "source": [
    "# Download a blob from a bucket and store it locally\n",
    "def download_blob(bucket_name, source_blob_name, destination_file_name) -> None:\n",
    "    '''\n",
    "    Downloads a blob from the bucket.\n",
    "    '''\n",
    "    # Initialize a client\n",
    "    storage_client = storage.Client()\n",
    "\n",
    "    # Get the bucket\n",
    "    bucket = storage_client.bucket(bucket_name)\n",
    "\n",
    "    # Get the blob\n",
    "    blob = bucket.blob(source_blob_name)\n",
    "\n",
    "    # Download the blob to a file\n",
    "    blob.download_to_filename(destination_file_name)"
   ]
  },
  {
   "cell_type": "code",
   "execution_count": 63,
   "id": "ba72af6e-888d-4a58-a7dc-216887791b57",
   "metadata": {},
   "outputs": [],
   "source": [
    "# Upload a file to a bucket\n",
    "def upload_blob(bucket_name, source_file_name, destination_blob_name) -> None:\n",
    "    '''\n",
    "    Uploads a file to the bucket.\n",
    "    '''\n",
    "    # Initialize a client\n",
    "    storage_client = storage.Client()\n",
    "\n",
    "    # Get the bucket\n",
    "    bucket = storage_client.bucket(bucket_name)\n",
    "\n",
    "    # Create a blob\n",
    "    blob = bucket.blob(destination_blob_name)\n",
    "\n",
    "    # Upload the file to the blob\n",
    "    blob.upload_from_filename(source_file_name)"
   ]
  },
  {
   "cell_type": "markdown",
   "id": "5bf1940a-60b4-4b2a-ad7e-df4010cd1138",
   "metadata": {},
   "source": [
    "# Copying the Google data into our own bucket"
   ]
  },
  {
   "cell_type": "code",
   "execution_count": 64,
   "id": "9bf6e0ce-2286-4682-8dfd-94d27925dcef",
   "metadata": {},
   "outputs": [],
   "source": [
    "# Done already by Raj"
   ]
  },
  {
   "cell_type": "markdown",
   "id": "78ab787a-b31b-4be9-9849-426783666d85",
   "metadata": {},
   "source": [
    "# Downloading a simplified class from the bucket"
   ]
  },
  {
   "cell_type": "code",
   "execution_count": 65,
   "id": "8a93145e-a2d1-4fc8-a396-9dd78abe3a87",
   "metadata": {},
   "outputs": [],
   "source": [
    "# Already done"
   ]
  },
  {
   "cell_type": "code",
   "execution_count": 66,
   "id": "2eac59e6-8870-45f2-a1b8-67ec979d5338",
   "metadata": {},
   "outputs": [],
   "source": [
    "file_name_example = 'full_simplified_face.ndjson'"
   ]
  },
  {
   "cell_type": "markdown",
   "id": "acbb3397-b992-468e-9f14-af63196fb30e",
   "metadata": {},
   "source": [
    "# Processing a simplified drawing"
   ]
  },
  {
   "cell_type": "code",
   "execution_count": 67,
   "id": "38124873-b3fd-4201-8ec3-47f64a833e42",
   "metadata": {},
   "outputs": [],
   "source": [
    "##Define the function to process the Simplified file and return an array and class name (the drawing to guess)\n",
    "def parse_line(json_drawing: json) -> np.array:\n",
    "    \"\"\"Parse an ndjson line and return ink (as np array) and classname.\"\"\"\n",
    "    inkarray = json_drawing[\"drawing\"]\n",
    "    stroke_lengths = [len(stroke[0]) for stroke in inkarray]\n",
    "    total_points = sum(stroke_lengths)\n",
    "    np_ink = np.zeros((total_points, 3), dtype=np.float32)\n",
    "    current_t = 0\n",
    "    for stroke in inkarray:\n",
    "        for i in [0, 1]:\n",
    "            np_ink[current_t:(current_t + len(stroke[0])), i] = stroke[i]\n",
    "        current_t += len(stroke[0])\n",
    "        np_ink[current_t - 1, 2] = 1  # stroke_end\n",
    "\n",
    "    # Preprocessing.\n",
    "    # 1. Size normalization.\n",
    "    lower = np.min(np_ink[:, 0:2], axis=0)\n",
    "    upper = np.max(np_ink[:, 0:2], axis=0)\n",
    "    scale = upper - lower\n",
    "    scale[scale == 0] = 1\n",
    "    np_ink[:, 0:2] = (np_ink[:, 0:2] - lower) / scale\n",
    "\n",
    "    # 2. Compute deltas.\n",
    "    np_ink[1:, 0:2] -= np_ink[0:-1, 0:2]\n",
    "    np_ink = np_ink[1:, :]\n",
    "    return np.round(np_ink,decimals=4)"
   ]
  },
  {
   "cell_type": "code",
   "execution_count": 68,
   "id": "3ef816f2-0ceb-4764-b277-911984d6b1fe",
   "metadata": {},
   "outputs": [],
   "source": [
    "#  Extracts the drawing data as an np.array of the deltas between points\n",
    "def process_drawing_data(json_drawing: json) -> np.array:\n",
    "    '''\n",
    "    Extracts the drawing data (strokes list) from a drawing JSON file.\n",
    "    Transforms the strokes from coordinates to deltas.\n",
    "    Returns an np.array of deltas (d_x, d_y, end_of_stroke)\n",
    "    '''\n",
    "    # --- Data extraction ---\n",
    "    list_strokes = json_drawing['drawing']\n",
    "\n",
    "    x = []\n",
    "    y = []\n",
    "    stroke_delimiter = []\n",
    "    list_points = [x, y, stroke_delimiter]\n",
    "\n",
    "    for stroke in list_strokes:\n",
    "        # Creating the third list to pass to the model with 0 all along and a 1 at the end of the stroke\n",
    "        stroke_delimiter = [0.] * len(stroke[0])\n",
    "        stroke_delimiter[-1] = 1\n",
    "        # Appending x, y, and the delimiter to the new list of points\n",
    "        list_points[0] += stroke[0]\n",
    "        list_points[1] += stroke[1]\n",
    "        list_points[2] += stroke_delimiter\n",
    "\n",
    "    np_points = np.asarray(list_points)\n",
    "    np_points = np_points.T\n",
    "\n",
    "    # --- Processing ---\n",
    "    # 1. Size normalization\n",
    "    lower = np.min(np_points[:, 0:2], axis=0) # returns (x_min, y_min)\n",
    "    upper = np.max(np_points[:, 0:2], axis=0) # returns (x_max, y_max)\n",
    "    scale = upper - lower # returns (width, heigth)\n",
    "    scale[scale == 0] = 1\n",
    "    np_points[:, 0:2] = (np_points[:, 0:2] - lower) / scale\n",
    "\n",
    "    # 2. Compute deltas\n",
    "    np_points[1:, 0:2] -= np_points[0:-1, 0:2]\n",
    "    np_points = np_points[1:, :]\n",
    "\n",
    "    return np.round(np_points,decimals=4)"
   ]
  },
  {
   "cell_type": "markdown",
   "id": "0b7dea3e-6fb5-45aa-97aa-b0b96bb17575",
   "metadata": {},
   "source": [
    "# Processing a simplified class"
   ]
  },
  {
   "cell_type": "code",
   "execution_count": 69,
   "id": "4abb8685-3d83-4412-a220-f9384d417817",
   "metadata": {},
   "outputs": [],
   "source": [
    "ndjson_filepath = '/'.join((path_data, file_name_example))"
   ]
  },
  {
   "cell_type": "code",
   "execution_count": 70,
   "id": "45d64f8e-fbb1-463d-b27b-78820a4071f8",
   "metadata": {},
   "outputs": [],
   "source": [
    "def drawings_extraction(ndjson_filepath, nb_drawings_to_load):\n",
    "    list_drawings = []  # Initialize an empty list\n",
    "    with open(ndjson_filepath, 'r') as f:\n",
    "        for i, line in enumerate(f):\n",
    "            json_line = json.loads(line)\n",
    "            np_ink = parse_line(json_line)\n",
    "            length_np_ink = len(np_ink)\n",
    "            dict_drawing_info = {'key_id': json_line['key_id'],\n",
    "                                 'class': json_line['word'],\n",
    "                                 'length_np_ink': length_np_ink,\n",
    "                                 'np_ink': np_ink.tolist()  #need to be transformed to list to dump as Json file later\n",
    "                                }\n",
    "            list_drawings.append(dict_drawing_info)\n",
    "            i += 1\n",
    "            if i == nb_drawings_to_load:\n",
    "                break\n",
    "    return list_drawings"
   ]
  },
  {
   "cell_type": "code",
   "execution_count": 71,
   "id": "91766f3a-2435-41e8-8529-5729f7ff32b0",
   "metadata": {},
   "outputs": [],
   "source": [
    "# Trying a more efficient way to load the data\n",
    "\n",
    "def process_class(ndjson_filepath: object, nb_drawings_to_load: str) -> list:\n",
    "    '''\n",
    "    Extract drawing(s) information from a list of JSON drawings (as NDJSON),\n",
    "    as a list of dictionaries. We specify the number of drawings to load (in\n",
    "    order of the NDJSON) as a string (number or 'all'). Each dictionary contains:\n",
    "        - key_id, as string\n",
    "        - class, as string\n",
    "        - length, as integer\n",
    "        - list_deltas, as list\n",
    "    '''\n",
    "    list_drawings = []  # Initialize the list to return\n",
    "\n",
    "    if nb_drawings_to_load == 'all':\n",
    "        # Getting the number of line in the file using a shell command (fastest way)\n",
    "        nb_drawings_to_load = int(re.search(r'\\d+', str(subprocess.check_output(['wc', '-l', ndjson_filepath]))).group())\n",
    "    elif (isinstance(nb_drawings_to_load, str) and nb_drawings_to_load.isnumeric()) or isinstance(nb_drawings_to_load, int):\n",
    "        # We also escape a number of drawings entered as an integer instead of a string...\n",
    "        nb_drawings_to_load = int(nb_drawings_to_load)\n",
    "    else:\n",
    "        nb_drawings_to_load = 0\n",
    "\n",
    "    for i in range(0, int(nb_drawings_to_load)):\n",
    "        # /!\\ leave double quotes in the dict and not simple quotes for NDJSON formatting\n",
    "        json_drawing = json.loads(linecache.getline(ndjson_filepath, i+1 , module_globals=None))\n",
    "        np_deltas = process_drawing_data(json_drawing)\n",
    "        dict_drawing = {\"key_id\": json_drawing[\"key_id\"],\n",
    "                        \"class\": json_drawing[\"word\"],\n",
    "                        \"length\": len(np_deltas),\n",
    "                        \"list_deltas\": np_deltas.tolist()  # need to be transformed to list to dump as Json file later\n",
    "                       }\n",
    "        list_drawings.append(dict_drawing)\n",
    "    linecache.clearcache()\n",
    "\n",
    "    return list_drawings"
   ]
  },
  {
   "cell_type": "code",
   "execution_count": 74,
   "id": "22480d4a-ff37-485d-8911-5c9452913467",
   "metadata": {},
   "outputs": [
    {
     "name": "stdout",
     "output_type": "stream",
     "text": [
      "CPU times: user 2.89 s, sys: 148 ms, total: 3.04 s\n",
      "Wall time: 3.08 s\n"
     ]
    }
   ],
   "source": [
    "%%time\n",
    "list_drawings = drawings_extraction(ndjson_filepath, 50000)"
   ]
  },
  {
   "cell_type": "code",
   "execution_count": 33,
   "id": "b91dbbb9-a227-4470-8843-02a5d83ef966",
   "metadata": {},
   "outputs": [
    {
     "name": "stdout",
     "output_type": "stream",
     "text": [
      "CPU times: user 143 ms, sys: 66.1 ms, total: 209 ms\n",
      "Wall time: 243 ms\n"
     ]
    }
   ],
   "source": [
    "%%time\n",
    "list_drawings = process_class(ndjson_filepath, 1000)"
   ]
  },
  {
   "cell_type": "code",
   "execution_count": 34,
   "id": "d83ccf3f-9b7b-4c97-abdc-3c3193f00ea1",
   "metadata": {
    "scrolled": true
   },
   "outputs": [
    {
     "data": {
      "text/plain": [
       "{'key_id': '5152530285723648',\n",
       " 'class': 'face',\n",
       " 'length': 65,\n",
       " 'list_deltas': [[-0.0591, 0.018, 0.0],\n",
       "  [-0.063, 0.0676, 0.0],\n",
       "  [-0.0433, 0.0991, 0.0],\n",
       "  [-0.0354, 0.1261, 0.0],\n",
       "  [-0.0315, 0.1757, 0.0],\n",
       "  [0.0, 0.1351, 0.0],\n",
       "  [0.0512, 0.1351, 0.0],\n",
       "  [0.0748, 0.0946, 0.0],\n",
       "  [0.0669, 0.0495, 0.0],\n",
       "  [0.1417, 0.0676, 0.0],\n",
       "  [0.0984, 0.0225, 0.0],\n",
       "  [0.1024, 0.0045, 0.0],\n",
       "  [0.122, 0.0, 0.0],\n",
       "  [0.0866, -0.0225, 0.0],\n",
       "  [0.0787, -0.036, 0.0],\n",
       "  [0.0787, -0.0631, 0.0],\n",
       "  [0.0984, -0.2297, 0.0],\n",
       "  [0.0, -0.1757, 0.0],\n",
       "  [-0.063, -0.1757, 0.0],\n",
       "  [-0.063, -0.0811, 0.0],\n",
       "  [-0.063, -0.0495, 0.0],\n",
       "  [-0.0984, -0.0586, 0.0],\n",
       "  [-0.1732, -0.0721, 0.0],\n",
       "  [-0.2008, -0.036, 0.0],\n",
       "  [-0.1417, 0.0, 0.0],\n",
       "  [-0.0472, 0.0315, 1.0],\n",
       "  [0.1496, 0.2432, 0.0],\n",
       "  [0.0, 0.027, 0.0],\n",
       "  [-0.0197, 0.018, 0.0],\n",
       "  [-0.0472, -0.0045, 0.0],\n",
       "  [-0.0118, -0.027, 0.0],\n",
       "  [0.0, -0.0405, 0.0],\n",
       "  [0.0197, -0.036, 0.0],\n",
       "  [0.0433, -0.009, 0.0],\n",
       "  [0.0433, 0.009, 0.0],\n",
       "  [0.0236, 0.0946, 0.0],\n",
       "  [-0.0118, 0.045, 0.0],\n",
       "  [-0.0276, 0.009, 0.0],\n",
       "  [-0.0591, -0.0135, 0.0],\n",
       "  [-0.0315, -0.0631, 1.0],\n",
       "  [0.4724, 0.0856, 0.0],\n",
       "  [-0.0394, 0.018, 0.0],\n",
       "  [-0.0787, -0.0045, 0.0],\n",
       "  [-0.0512, -0.045, 0.0],\n",
       "  [-0.0118, -0.0495, 0.0],\n",
       "  [0.1063, -0.0586, 0.0],\n",
       "  [0.1378, -0.0045, 0.0],\n",
       "  [0.0236, 0.0405, 0.0],\n",
       "  [-0.0079, 0.0856, 0.0],\n",
       "  [-0.0236, 0.0405, 0.0],\n",
       "  [-0.0512, 0.036, 0.0],\n",
       "  [-0.0787, 0.0045, 0.0],\n",
       "  [-0.0709, -0.027, 0.0],\n",
       "  [-0.0315, -0.0405, 0.0],\n",
       "  [-0.0079, -0.0405, 0.0],\n",
       "  [0.0118, -0.0045, 1.0],\n",
       "  [-0.2953, 0.4369, 0.0],\n",
       "  [0.0433, 0.0541, 0.0],\n",
       "  [0.0472, 0.0225, 0.0],\n",
       "  [0.1181, 0.045, 0.0],\n",
       "  [0.1693, 0.0225, 0.0],\n",
       "  [0.1929, 0.0, 0.0],\n",
       "  [0.0551, -0.0225, 0.0],\n",
       "  [0.0472, -0.0405, 0.0],\n",
       "  [0.0118, -0.0315, 1.0]]}"
      ]
     },
     "execution_count": 34,
     "metadata": {},
     "output_type": "execute_result"
    }
   ],
   "source": [
    "list_drawings[0]"
   ]
  },
  {
   "cell_type": "code",
   "execution_count": 72,
   "id": "21b36916-a706-4ab9-b7c4-b781792a0e4c",
   "metadata": {},
   "outputs": [
    {
     "data": {
      "text/plain": [
       "'/Users/loicregne/code/rs-uk/raw_data/full_simplified_face.ndjson'"
      ]
     },
     "execution_count": 72,
     "metadata": {},
     "output_type": "execute_result"
    }
   ],
   "source": [
    "ndjson_filepath"
   ]
  },
  {
   "cell_type": "code",
   "execution_count": 73,
   "id": "1989807d-2ded-4dd1-b5b1-9344d568bb8e",
   "metadata": {},
   "outputs": [
    {
     "data": {
      "text/plain": [
       "'/Users/loicregne/code/rs-uk/raw_data/processed_full_simplified_face.ndjson'"
      ]
     },
     "execution_count": 73,
     "metadata": {},
     "output_type": "execute_result"
    }
   ],
   "source": [
    "# Where we want to save the output file and a name is given\n",
    "output_filepath = '/'.join((path_data, 'processed_' + file_name_example))\n",
    "output_filepath"
   ]
  },
  {
   "cell_type": "code",
   "execution_count": 74,
   "id": "4412b427-a642-4dfb-94bc-8ee2da640279",
   "metadata": {},
   "outputs": [],
   "source": [
    "# Function to save the dictionary file for the processed images\n",
    "def save_images_dict_to_json(list_drawings, output_file):\n",
    "    with open(output_file, 'w') as json_file:\n",
    "        json.dump(list_drawings, json_file)"
   ]
  },
  {
   "cell_type": "code",
   "execution_count": 75,
   "id": "371be7c8-aea2-442b-8646-debc34bba7e9",
   "metadata": {},
   "outputs": [],
   "source": [
    "# Function to save the drawings in the list to an ndjson file locally\n",
    "def save_drawings_to_ndjson_local(list_drawings: list, output_file: str) -> None:\n",
    "    '''\n",
    "        - list_drawings: contains a dictionary for each drawing\n",
    "        - output_file: the complete filepath to the target file to save/create (.ndjson)\n",
    "    '''\n",
    "    with open(output_file, 'w') as ndjson_file:\n",
    "        # Write each drawing's dict to the file as a new line\n",
    "        for dict_drawing in list_drawings:\n",
    "            ndjson_file.write(str(dict_drawing) + '\\n')"
   ]
  },
  {
   "cell_type": "code",
   "execution_count": 40,
   "id": "191343f8-8f62-4c9f-9d57-a479a7c4a6cc",
   "metadata": {},
   "outputs": [
    {
     "name": "stdout",
     "output_type": "stream",
     "text": [
      "CPU times: user 349 ms, sys: 111 ms, total: 460 ms\n",
      "Wall time: 483 ms\n"
     ]
    }
   ],
   "source": [
    "%%time\n",
    "list_drawings = drawings_extraction_v2(ndjson_filepath, 1000)"
   ]
  },
  {
   "cell_type": "code",
   "execution_count": 42,
   "id": "b29b2584-da51-4051-87a2-b96e3cbee4ba",
   "metadata": {},
   "outputs": [
    {
     "name": "stdout",
     "output_type": "stream",
     "text": [
      "CPU times: user 51.7 ms, sys: 6.59 ms, total: 58.3 ms\n",
      "Wall time: 57.8 ms\n"
     ]
    }
   ],
   "source": [
    "%%time\n",
    "save_drawings_to_ndjson_local(list_drawings, output_file)"
   ]
  },
  {
   "cell_type": "code",
   "execution_count": 48,
   "id": "32eaa17c-5400-4af0-9632-ba9d4ff384c3",
   "metadata": {},
   "outputs": [],
   "source": [
    "upload_blob(bucket_drawings_simplified_processed, output_filepath, 'processed_' + file_name_example)"
   ]
  },
  {
   "cell_type": "markdown",
   "id": "26d90016-ebe8-4ea5-aea2-49b28491b55b",
   "metadata": {},
   "source": [
    "# Go through all the blobs in a bucket"
   ]
  },
  {
   "cell_type": "code",
   "execution_count": 49,
   "id": "582c82c4-ab06-4c4d-aa77-a89df20d4a7a",
   "metadata": {},
   "outputs": [],
   "source": [
    "# TODO:\n",
    "# Push the new file to gcp bucket\n",
    "# Run for the list of ndjson files in a loop\n",
    "# Include the resampling of the raw data"
   ]
  },
  {
   "cell_type": "code",
   "execution_count": 76,
   "id": "63087df3-bd3c-4139-a06c-ab431a23f9bd",
   "metadata": {},
   "outputs": [],
   "source": [
    "list_classes = list_blobs(bucket_drawings_simplified)"
   ]
  },
  {
   "cell_type": "code",
   "execution_count": null,
   "id": "50f637b7-f365-48a8-b035-95fc7eb5442d",
   "metadata": {},
   "outputs": [],
   "source": [
    "%%time\n",
    "for blob_name in list_classes:\n",
    "    # Define the blob files locally\n",
    "    blob_filepath = '/'.join((path_data, blob_name))\n",
    "    blob_processed_filepath = '/'.join((path_data, 'processed_' + blob_name))\n",
    "    # Download that blob from the cloud\n",
    "    download_blob(bucket_drawings_simplified, blob_name, blob_filepath)\n",
    "    # Process that blob (class)\n",
    "    list_drawings = process_class(blob_filepath, 'all')\n",
    "    # Save the processed drawings locally\n",
    "    save_drawings_to_ndjson_local(list_drawings, blob_processed_filepath)\n",
    "    # Upload the processed blobs to the cloud\n",
    "    upload_blob(bucket_drawings_simplified_processed, blob_processed_filepath, 'processed_' + blob_name)"
   ]
  },
  {
   "cell_type": "code",
   "execution_count": null,
   "id": "a594bd0c-3906-4017-a465-8acc039c5b6e",
   "metadata": {},
   "outputs": [],
   "source": []
  },
  {
   "cell_type": "code",
   "execution_count": null,
   "id": "d5c801f3-ef89-40ef-a7aa-4c2c93820e36",
   "metadata": {},
   "outputs": [],
   "source": []
  }
 ],
 "metadata": {
  "kernelspec": {
   "display_name": "Python 3 (ipykernel)",
   "language": "python",
   "name": "python3"
  },
  "language_info": {
   "codemirror_mode": {
    "name": "ipython",
    "version": 3
   },
   "file_extension": ".py",
   "mimetype": "text/x-python",
   "name": "python",
   "nbconvert_exporter": "python",
   "pygments_lexer": "ipython3",
   "version": "3.10.6"
  },
  "toc": {
   "base_numbering": 1,
   "nav_menu": {},
   "number_sections": true,
   "sideBar": true,
   "skip_h1_title": false,
   "title_cell": "Table of Contents",
   "title_sidebar": "Contents",
   "toc_cell": false,
   "toc_position": {},
   "toc_section_display": true,
   "toc_window_display": false
  }
 },
 "nbformat": 4,
 "nbformat_minor": 5
}
