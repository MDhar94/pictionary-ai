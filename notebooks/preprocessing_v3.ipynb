{
 "cells": [
  {
   "cell_type": "code",
   "execution_count": 1,
   "id": "3bff144d-0e16-48ac-a555-072d2dd0f908",
   "metadata": {},
   "outputs": [],
   "source": [
    "import numpy as np\n",
    "import pandas as pd\n",
    "import os\n",
    "import json\n",
    "import matplotlib.pyplot as plt\n",
    "import linecache\n",
    "from google.cloud import storage\n",
    "import subprocess\n",
    "import re\n",
    "import time\n",
    "from tqdm.auto import tqdm"
   ]
  },
  {
   "cell_type": "markdown",
   "id": "a704437d-602c-4ee1-8894-5960dbe61fc9",
   "metadata": {},
   "source": [
    "# Params"
   ]
  },
  {
   "cell_type": "code",
   "execution_count": 2,
   "id": "3fbb7e4c-ac29-4b5b-86d0-dda9e5ae572d",
   "metadata": {},
   "outputs": [],
   "source": [
    "path_data = '/Users/loicregne/code/rs-uk/pictionary-ai/raw_data'\n",
    "bucket_drawings_simplified = 'quickdraw-simplified'\n",
    "bucket_drawings_simplified_processed = 'quickdraw-simplified-processed'"
   ]
  },
  {
   "cell_type": "markdown",
   "id": "ec7eb006-9385-4950-a67e-5c33a1bac262",
   "metadata": {},
   "source": [
    "# Utils"
   ]
  },
  {
   "cell_type": "code",
   "execution_count": null,
   "id": "c876c477-37d2-49c5-a55a-d5acddbc4a53",
   "metadata": {},
   "outputs": [],
   "source": [
    "# List all the blovs in a given bucket aand return their names in a list\n",
    "def list_blobs(bucket_name: str) -> list:\n",
    "    '''\n",
    "    Lists all the blobs in the bucket.\n",
    "    '''\n",
    "    # Initialize a client\n",
    "    storage_client = storage.Client()\n",
    "    \n",
    "    # Get the bucket\n",
    "    bucket = storage_client.bucket(bucket_name)\n",
    "    \n",
    "    # List the blobs in the bucket\n",
    "    blobs = bucket.list_blobs()\n",
    "    \n",
    "    # Collect the names of blobs into a list\n",
    "    blob_names = [blob.name for blob in blobs]\n",
    "    \n",
    "    return blob_names"
   ]
  },
  {
   "cell_type": "code",
   "execution_count": null,
   "id": "412b9877-62ed-4e14-880e-b5da03952089",
   "metadata": {},
   "outputs": [],
   "source": [
    "# Copy all the content of one bucket to another bucket\n",
    "def copy_bucket(source_bucket_name: str, destination_bucket_name:str) -> None:\n",
    "    '''\n",
    "    Copies all blobs from the source bucket to the destination bucket.\n",
    "    '''\n",
    "    # Initialize clients for source and destination buckets\n",
    "    source_client = storage.Client()\n",
    "    destination_client = storage.Client()\n",
    "\n",
    "    # Get the source and destination buckets\n",
    "    source_bucket = source_client.bucket(source_bucket_name)\n",
    "    destination_bucket = destination_client.bucket(destination_bucket_name)\n",
    "\n",
    "    # List blobs in the source bucket\n",
    "    blobs = source_bucket.list_blobs()\n",
    "\n",
    "    # Copy each blob to the destination bucket\n",
    "    for blob in blobs:\n",
    "        source_blob = source_bucket.blob(blob.name)\n",
    "        destination_blob = destination_bucket.blob(blob.name)\n",
    "        destination_blob.copy(source_blob)"
   ]
  },
  {
   "cell_type": "code",
   "execution_count": null,
   "id": "785aad86-0463-437a-a379-a2ef6bdd0249",
   "metadata": {},
   "outputs": [],
   "source": [
    "# Download a blob from a bucket and store it locally\n",
    "def download_blob(bucket_name, source_blob_name, destination_path, destination_file_name=None) -> None:\n",
    "    '''\n",
    "    Downloads a blob from the bucket.\n",
    "    '''\n",
    "    # Initialize a client\n",
    "    storage_client = storage.Client()\n",
    "\n",
    "    # Get the bucket\n",
    "    bucket = storage_client.bucket(bucket_name)\n",
    "\n",
    "    # Get the blob\n",
    "    blob = bucket.blob(source_blob_name)\n",
    "\n",
    "    # Use the blob name for the local file is a filename is not provided\n",
    "    if destination_file_name is None:\n",
    "        destination_file_name = blob.name\n",
    "    \n",
    "    # Define the destination file path\n",
    "    destination_file_path = '/'.join((destination_path, destination_file_name))\n",
    "    \n",
    "    # Download the blob to a file\n",
    "    blob.download_to_filename(destination_file_path)"
   ]
  },
  {
   "cell_type": "code",
   "execution_count": null,
   "id": "ba72af6e-888d-4a58-a7dc-216887791b57",
   "metadata": {},
   "outputs": [],
   "source": [
    "# Upload a local file to a bucket\n",
    "def upload_blob(source_path, source_file_name, bucket_name, destination_blob_name=None) -> None:\n",
    "    '''\n",
    "    Uploads a file to the bucket.\n",
    "    '''\n",
    "    # Initialize a client\n",
    "    storage_client = storage.Client()\n",
    "\n",
    "    # Get the bucket\n",
    "    bucket = storage_client.bucket(bucket_name)\n",
    "\n",
    "    # Use the file name for the blob name if a blob name is not provided\n",
    "    if destination_blob_name is None:\n",
    "        destination_blob_name = source_file_name\n",
    "        \n",
    "    # Create a blob\n",
    "    blob = bucket.blob(destination_blob_name)\n",
    "\n",
    "    # Define the source file path\n",
    "    source_file_path = '/'.join((source_path, source_file_name))\n",
    "    \n",
    "    # Upload the file to the blob\n",
    "    blob.upload_from_filename(source_file_path)"
   ]
  },
  {
   "cell_type": "code",
   "execution_count": null,
   "id": "2913ee54-cdae-4df9-af31-39589754383e",
   "metadata": {},
   "outputs": [],
   "source": [
    "# Download a blob from a bucket and return it as a Blob Class instance\n",
    "def download_blob_to_memory(bucket_name: str, source_blob_name: str) -> Blob:\n",
    "    '''\n",
    "    Downloads a blob from the bucket.\n",
    "    '''\n",
    "    # Initialize a client\n",
    "    storage_client = storage.Client()\n",
    "\n",
    "    # Get the bucket\n",
    "    bucket = storage_client.bucket(bucket_name)\n",
    "\n",
    "    # Get the blob\n",
    "    blob = bucket.blob(source_blob_name)\n",
    "\n",
    "    return blob\n"
   ]
  },
  {
   "cell_type": "code",
   "execution_count": null,
   "id": "7a19f43a-8477-4be5-b945-6d4e577ce453",
   "metadata": {},
   "outputs": [],
   "source": [
    "# Upload a blob from memory to a bucket\n",
    "def upload_blob_from_memory(source_blob: Blob, bucket_name: str, destination_blob_name: str = None) -> None:\n",
    "    '''\n",
    "    Uploads a file to the bucket.\n",
    "    '''\n",
    "    # Initialize a client\n",
    "    storage_client = storage.Client()\n",
    "\n",
    "    # Get the bucket\n",
    "    bucket = storage_client.bucket(bucket_name)\n",
    "\n",
    "    # Use the file name for the blob name if a blob name is not provided\n",
    "    if destination_blob_name is None:\n",
    "        destination_blob_name = source_blob.name\n",
    "\n",
    "    # Create a blob on the destination\n",
    "    target_blob = bucket.blob(destination_blob_name)\n",
    "\n",
    "    # Upload the file to the blob\n",
    "    target_blob.upload_from_file(source_blob.open(mode='rb'))\n"
   ]
  },
  {
   "cell_type": "code",
   "execution_count": null,
   "id": "d17d220c-bb57-4646-8489-eaecb9a7284a",
   "metadata": {},
   "outputs": [],
   "source": []
  },
  {
   "cell_type": "markdown",
   "id": "5bf1940a-60b4-4b2a-ad7e-df4010cd1138",
   "metadata": {},
   "source": [
    "# Copying the Google data into our own bucket"
   ]
  },
  {
   "cell_type": "code",
   "execution_count": null,
   "id": "9bf6e0ce-2286-4682-8dfd-94d27925dcef",
   "metadata": {},
   "outputs": [],
   "source": [
    "# Done already by Raj"
   ]
  },
  {
   "cell_type": "markdown",
   "id": "78ab787a-b31b-4be9-9849-426783666d85",
   "metadata": {
    "jp-MarkdownHeadingCollapsed": true
   },
   "source": [
    "# Downloading a simplified class from the bucket"
   ]
  },
  {
   "cell_type": "code",
   "execution_count": null,
   "id": "8a93145e-a2d1-4fc8-a396-9dd78abe3a87",
   "metadata": {},
   "outputs": [],
   "source": [
    "# Already done"
   ]
  },
  {
   "cell_type": "code",
   "execution_count": null,
   "id": "2eac59e6-8870-45f2-a1b8-67ec979d5338",
   "metadata": {},
   "outputs": [],
   "source": [
    "file_name_example = 'full_simplified_face.ndjson'"
   ]
  },
  {
   "cell_type": "markdown",
   "id": "acbb3397-b992-468e-9f14-af63196fb30e",
   "metadata": {},
   "source": [
    "# Processing a simplified drawing"
   ]
  },
  {
   "cell_type": "code",
   "execution_count": null,
   "id": "3ef816f2-0ceb-4764-b277-911984d6b1fe",
   "metadata": {},
   "outputs": [],
   "source": [
    "#  Extracts the drawing data as an np.array of the deltas between points\n",
    "def process_drawing_data(json_drawing: json) -> np.array:\n",
    "    '''\n",
    "    Extracts the drawing data (strokes list) from a drawing JSON file.\n",
    "    Transforms the strokes from coordinates to deltas.\n",
    "    Returns an np.array of deltas (d_x, d_y, end_of_stroke)\n",
    "    '''\n",
    "    # --- Data extraction ---\n",
    "    list_strokes = json_drawing['drawing']\n",
    "    \n",
    "    x = []\n",
    "    y = []\n",
    "    stroke_delimiter = []\n",
    "    list_points = [x, y, stroke_delimiter]\n",
    "    \n",
    "    for stroke in list_strokes:\n",
    "        # Creating the third list to pass to the model with 0 all along and a 1 at the end of the stroke\n",
    "        stroke_delimiter = [0.] * len(stroke[0])\n",
    "        stroke_delimiter[-1] = 1\n",
    "        # Appending x, y, and the delimiter to the new list of points\n",
    "        list_points[0] += stroke[0]\n",
    "        list_points[1] += stroke[1]\n",
    "        list_points[2] += stroke_delimiter\n",
    "\n",
    "    np_points = np.asarray(list_points)\n",
    "    np_points = np_points.T\n",
    "\n",
    "    # --- Processing ---\n",
    "    # 1. Size normalization\n",
    "    lower = np.min(np_points[:, 0:2], axis=0) # returns (x_min, y_min)\n",
    "    upper = np.max(np_points[:, 0:2], axis=0) # returns (x_max, y_max)\n",
    "    scale = upper - lower # returns (width, heigth)\n",
    "    scale[scale == 0] = 1\n",
    "    np_points[:, 0:2] = (np_points[:, 0:2] - lower) / scale\n",
    "\n",
    "    # 2. Compute deltas\n",
    "    np_points[1:, 0:2] -= np_points[0:-1, 0:2]\n",
    "    np_points = np_points[1:, :]\n",
    "    \n",
    "    return np.round(np_points,decimals=4)"
   ]
  },
  {
   "cell_type": "markdown",
   "id": "0b7dea3e-6fb5-45aa-97aa-b0b96bb17575",
   "metadata": {},
   "source": [
    "# Processing a simplified class"
   ]
  },
  {
   "cell_type": "code",
   "execution_count": null,
   "id": "4abb8685-3d83-4412-a220-f9384d417817",
   "metadata": {},
   "outputs": [],
   "source": [
    "ndjson_filepath = '/'.join((path_data, file_name_example))"
   ]
  },
  {
   "cell_type": "code",
   "execution_count": null,
   "id": "91766f3a-2435-41e8-8529-5729f7ff32b0",
   "metadata": {},
   "outputs": [],
   "source": [
    "def process_class(ndjson_filepath: object, nb_drawings_to_load: str) -> list:\n",
    "    '''\n",
    "    Extract drawing(s) information from a list of JSON drawings (as NDJSON),\n",
    "    as a list of dictionaries. We specify the number of drawings to load (in\n",
    "    order of the NDJSON) as a string (number or 'all'). Each dictionary contains:\n",
    "        - key_id, as string\n",
    "        - class, as string\n",
    "        - length, as integer\n",
    "        - list_deltas, as list\n",
    "    '''\n",
    "    list_drawings = []  # Initialize the list to return\n",
    "\n",
    "    if nb_drawings_to_load == 'all':\n",
    "        # Getting the number of line in the file using a shell command (fastest way)\n",
    "        nb_drawings_to_load = int(re.search(r'\\d+', str(subprocess.check_output(['wc', '-l', ndjson_filepath]))).group())\n",
    "    elif (isinstance(nb_drawings_to_load, str) and nb_drawings_to_load.isnumeric()) or isinstance(nb_drawings_to_load, int):\n",
    "        # We also escape a number of drawings entered as an integer instead of a string...\n",
    "        nb_drawings_to_load = int(nb_drawings_to_load)\n",
    "    else:\n",
    "        nb_drawings_to_load = 0\n",
    "    \n",
    "    l_bar='{percentage:3.0f}%|'\n",
    "    bar = '{bar}'\n",
    "    r_bar='| {n_fmt}/{total_fmt} [{elapsed}<{remaining}, {rate_fmt}{postfix}]'\n",
    "    bar_format = l_bar + bar + r_bar\n",
    "    processing_bar = tqdm(range(int(nb_drawings_to_load)), bar_format=bar_format)\n",
    "\n",
    "    for i in processing_bar:\n",
    "        json_drawing = json.loads(linecache.getline(ndjson_filepath, i+1 , module_globals=None))\n",
    "        np_deltas = process_drawing_data(json_drawing)\n",
    "        dict_drawing = {'key_id': json_drawing['key_id'],\n",
    "                        'class': json_drawing['word'],\n",
    "                        'length': len(np_deltas),\n",
    "                        'list_deltas': np_deltas.tolist()  # need to be transformed to list to dump as Json file later\n",
    "                       }\n",
    "        list_drawings.append(dict_drawing)\n",
    "    linecache.clearcache()\n",
    "    \n",
    "    return list_drawings"
   ]
  },
  {
   "cell_type": "code",
   "execution_count": null,
   "id": "22480d4a-ff37-485d-8911-5c9452913467",
   "metadata": {},
   "outputs": [],
   "source": [
    "%%time\n",
    "list_drawings = drawings_extraction(ndjson_filepath, 1000)"
   ]
  },
  {
   "cell_type": "code",
   "execution_count": null,
   "id": "b91dbbb9-a227-4470-8843-02a5d83ef966",
   "metadata": {},
   "outputs": [],
   "source": [
    "%%time\n",
    "list_drawings = process_class(ndjson_filepath, 1000)"
   ]
  },
  {
   "cell_type": "code",
   "execution_count": null,
   "id": "d83ccf3f-9b7b-4c97-abdc-3c3193f00ea1",
   "metadata": {
    "scrolled": true
   },
   "outputs": [],
   "source": [
    "list_drawings[0]"
   ]
  },
  {
   "cell_type": "code",
   "execution_count": null,
   "id": "21b36916-a706-4ab9-b7c4-b781792a0e4c",
   "metadata": {},
   "outputs": [],
   "source": [
    "ndjson_filepath"
   ]
  },
  {
   "cell_type": "code",
   "execution_count": null,
   "id": "1989807d-2ded-4dd1-b5b1-9344d568bb8e",
   "metadata": {},
   "outputs": [],
   "source": [
    "# Where we want to save the output file and a name is given\n",
    "output_filepath = '/'.join((path_data, 'processed_' + file_name_example))\n",
    "output_filepath"
   ]
  },
  {
   "cell_type": "code",
   "execution_count": null,
   "id": "371be7c8-aea2-442b-8646-debc34bba7e9",
   "metadata": {},
   "outputs": [],
   "source": [
    "# Function to save the drawings in the list to an ndjson file locally\n",
    "def save_drawings_to_ndjson_local(list_drawings: list, output_file: str) -> None:\n",
    "    '''\n",
    "        - list_drawings: contains a dictionary for each drawing\n",
    "        - output_file: the complete filepath to the target file to save/create (.ndjson)\n",
    "    '''\n",
    "    with open(output_file, 'w') as ndjson_file:\n",
    "        # Write each drawing's dict to the file as a new line\n",
    "        for dict_drawing in list_drawings:\n",
    "            json.dump(dict_drawing, ndjson_file)\n",
    "            ndjson_file.write('\\n')"
   ]
  },
  {
   "cell_type": "code",
   "execution_count": null,
   "id": "191343f8-8f62-4c9f-9d57-a479a7c4a6cc",
   "metadata": {},
   "outputs": [],
   "source": [
    "%%time\n",
    "list_drawings = drawings_extraction_v2(ndjson_filepath, 1000)"
   ]
  },
  {
   "cell_type": "code",
   "execution_count": null,
   "id": "b29b2584-da51-4051-87a2-b96e3cbee4ba",
   "metadata": {},
   "outputs": [],
   "source": [
    "%%time\n",
    "save_drawings_to_ndjson_local(list_drawings, output_file)"
   ]
  },
  {
   "cell_type": "code",
   "execution_count": null,
   "id": "32eaa17c-5400-4af0-9632-ba9d4ff384c3",
   "metadata": {},
   "outputs": [],
   "source": [
    "upload_blob(bucket_drawings_simplified_processed, output_filepath, 'processed_' + file_name_example)"
   ]
  },
  {
   "cell_type": "markdown",
   "id": "26d90016-ebe8-4ea5-aea2-49b28491b55b",
   "metadata": {},
   "source": [
    "# Go through all the blobs in a bucket"
   ]
  },
  {
   "cell_type": "code",
   "execution_count": null,
   "id": "582c82c4-ab06-4c4d-aa77-a89df20d4a7a",
   "metadata": {},
   "outputs": [],
   "source": [
    "# TODO:\n",
    "# Push the new file to gcp bucket\n",
    "# Run for the list of ndjson files in a loop\n",
    "# Include the resampling of the raw data "
   ]
  },
  {
   "cell_type": "code",
   "execution_count": null,
   "id": "63087df3-bd3c-4139-a06c-ab431a23f9bd",
   "metadata": {},
   "outputs": [],
   "source": [
    "list_classes = list_blobs(bucket_drawings_simplified)"
   ]
  },
  {
   "cell_type": "code",
   "execution_count": null,
   "id": "a594bd0c-3906-4017-a465-8acc039c5b6e",
   "metadata": {},
   "outputs": [],
   "source": []
  },
  {
   "cell_type": "code",
   "execution_count": null,
   "id": "f8a7cc97-f093-4166-b298-02eff2dec06b",
   "metadata": {},
   "outputs": [],
   "source": [
    "!pip install tqdm"
   ]
  },
  {
   "cell_type": "code",
   "execution_count": null,
   "id": "0f521286-1dd6-42ba-8662-fcf3288bdd97",
   "metadata": {
    "scrolled": true
   },
   "outputs": [],
   "source": [
    "nb_classes = len(list_classes)\n",
    "\n",
    "l_bar='{percentage:3.0f}%|'\n",
    "bar = '{bar}'\n",
    "r_bar='| {n_fmt}/{total_fmt} [{elapsed}<{remaining}, {rate_fmt}{postfix}] {desc}'\n",
    "bar_format = l_bar + bar + r_bar\n",
    "processing_bar = tqdm(list_classes, bar_format=bar_format)\n",
    "\n",
    "for blob_name in processing_bar:\n",
    "    processing_bar.set_description(\"Processing %s\" % blob_name)\n",
    "    # Define the blob files locally\n",
    "    blob_filepath = '/'.join((path_data, blob_name))\n",
    "    blob_processed_filepath = '/'.join((path_data, 'test_' + blob_name))\n",
    "    # Download that blob from the cloud\n",
    "    # download_blob(bucket_drawings_simplified, blob_name, blob_filepath)\n",
    "    # Process that blob (class)\n",
    "    list_drawings = process_class(blob_filepath, 'all')\n",
    "    # Save the processed drawings locally\n",
    "    save_drawings_to_ndjson_local(list_drawings, blob_processed_filepath)\n",
    "    # Upload the processed blobs to the cloud\n",
    "    # upload_blob(bucket_drawings_simplified_processed, blob_processed_filepath, 'test_' + blob_name)\n"
   ]
  },
  {
   "cell_type": "code",
   "execution_count": null,
   "id": "cc26511c-dc18-489f-8076-3c887c03e54e",
   "metadata": {},
   "outputs": [],
   "source": []
  },
  {
   "cell_type": "code",
   "execution_count": 3,
   "id": "1664a84b-b969-4851-91c0-8bfe605d6e15",
   "metadata": {},
   "outputs": [],
   "source": [
    "# For the purpose of concatenating blobs, try:\n",
    "blob1.compose(blob2)"
   ]
  },
  {
   "cell_type": "code",
   "execution_count": null,
   "id": "2a12a2c7-0ff0-4470-bbfd-22880a712bdf",
   "metadata": {},
   "outputs": [],
   "source": []
  },
  {
   "cell_type": "code",
   "execution_count": null,
   "id": "800474ec-9bbc-4baa-a6ee-f2eff69b765b",
   "metadata": {},
   "outputs": [],
   "source": [
    "!wc -l '/Users/loicregne/code/rs-uk/raw_data/face.ndjson'  "
   ]
  },
  {
   "cell_type": "code",
   "execution_count": null,
   "id": "289746ba-85e4-417e-abab-07d280f0b62c",
   "metadata": {},
   "outputs": [],
   "source": [
    "subprocess.check_output(['wc', '-l', '/Users/loicregne/code/rs-uk/raw_data/face.ndjson'])"
   ]
  },
  {
   "cell_type": "code",
   "execution_count": null,
   "id": "797849fd-21cd-410b-a24b-a808d8cb6eab",
   "metadata": {},
   "outputs": [],
   "source": []
  }
 ],
 "metadata": {
  "kernelspec": {
   "display_name": "Python 3 (ipykernel)",
   "language": "python",
   "name": "python3"
  },
  "language_info": {
   "codemirror_mode": {
    "name": "ipython",
    "version": 3
   },
   "file_extension": ".py",
   "mimetype": "text/x-python",
   "name": "python",
   "nbconvert_exporter": "python",
   "pygments_lexer": "ipython3",
   "version": "3.10.6"
  },
  "toc": {
   "base_numbering": 1,
   "nav_menu": {},
   "number_sections": true,
   "sideBar": true,
   "skip_h1_title": false,
   "title_cell": "Table of Contents",
   "title_sidebar": "Contents",
   "toc_cell": false,
   "toc_position": {},
   "toc_section_display": true,
   "toc_window_display": false
  }
 },
 "nbformat": 4,
 "nbformat_minor": 5
}
