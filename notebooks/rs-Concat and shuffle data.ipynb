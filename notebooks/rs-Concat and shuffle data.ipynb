{
 "cells": [
  {
   "cell_type": "markdown",
   "id": "63789415-dca3-439c-a2a4-e8569486d6ac",
   "metadata": {},
   "source": [
    "# Looping through modelready python files and concat"
   ]
  },
  {
   "cell_type": "code",
   "execution_count": 4,
   "id": "5f055f31-70fe-4654-a720-091a96bde7ee",
   "metadata": {
    "tags": []
   },
   "outputs": [],
   "source": [
    "%load_ext autoreload\n",
    "%autoreload 2"
   ]
  },
  {
   "cell_type": "code",
   "execution_count": 5,
   "id": "b40fbc1c-cad8-4c73-b2e2-923ccba48c4c",
   "metadata": {
    "tags": []
   },
   "outputs": [],
   "source": [
    "from google.cloud import storage\n",
    "import json\n",
    "import random\n",
    "import numpy as np"
   ]
  },
  {
   "cell_type": "code",
   "execution_count": 6,
   "id": "48a54699-23ea-4072-9de8-adcfc40b36d6",
   "metadata": {
    "tags": []
   },
   "outputs": [],
   "source": [
    "# Parameters\n",
    "max_length = 150\n",
    "from_bucket_name = 'quickdraw-simplified-modelready'\n",
    "to_bucket_name = 'quickdraw-simplified-modelready'\n",
    "test_split = 0.3"
   ]
  },
  {
   "cell_type": "markdown",
   "id": "729726c3-995b-4a10-b204-c078fd7e68c6",
   "metadata": {},
   "source": [
    "## Create a list of the files we will be concatenating"
   ]
  },
  {
   "cell_type": "code",
   "execution_count": 7,
   "id": "2a3f9aa8-9958-42ee-9a8d-199e401a47ad",
   "metadata": {
    "tags": []
   },
   "outputs": [],
   "source": [
    "def list_blobs(bucket_name: str) -> list:\n",
    "    '''\n",
    "    Lists all the blobs in the bucket.\n",
    "    '''\n",
    "    # Initialize a client\n",
    "    storage_client = storage.Client()\n",
    "\n",
    "    # Get the bucket\n",
    "    bucket = storage_client.bucket(bucket_name)\n",
    "\n",
    "    # List the blobs in the bucket\n",
    "    blobs = bucket.list_blobs()\n",
    "\n",
    "    # Collect the names of blobs into a list\n",
    "    blob_names = [blob.name for blob in blobs]\n",
    "\n",
    "    return blob_names"
   ]
  },
  {
   "cell_type": "code",
   "execution_count": null,
   "id": "3358dbb3-83f9-45bf-9196-409eaa63f9dc",
   "metadata": {},
   "outputs": [],
   "source": []
  },
  {
   "cell_type": "code",
   "execution_count": 9,
   "id": "b5e8ef98-265a-49d4-8df1-865af68c692f",
   "metadata": {
    "tags": []
   },
   "outputs": [
    {
     "name": "stdout",
     "output_type": "stream",
     "text": [
      "1382\n"
     ]
    }
   ],
   "source": [
    "blob_list = list_blobs(from_bucket_name)\n",
    "print(len(blob_list))"
   ]
  },
  {
   "cell_type": "code",
   "execution_count": 10,
   "id": "439e3b41-9108-47da-96fd-fb0bb8fca08c",
   "metadata": {
    "tags": []
   },
   "outputs": [
    {
     "data": {
      "text/plain": [
       "345"
      ]
     },
     "execution_count": 10,
     "metadata": {},
     "output_type": "execute_result"
    }
   ],
   "source": [
    "test_10_pc = [blob for blob in blob_list if blob.find('test_10pc') != -1]\n",
    "len(test_10_pc)"
   ]
  },
  {
   "cell_type": "code",
   "execution_count": 11,
   "id": "00e30c79-664d-43f8-976f-4b0f3fd5b06f",
   "metadata": {
    "tags": []
   },
   "outputs": [
    {
     "data": {
      "text/plain": [
       "345"
      ]
     },
     "execution_count": 11,
     "metadata": {},
     "output_type": "execute_result"
    }
   ],
   "source": [
    "train_10_pc = [blob for blob in blob_list if blob.find('train_10pc') != -1]\n",
    "len(train_10_pc)"
   ]
  },
  {
   "cell_type": "code",
   "execution_count": 12,
   "id": "3ddad22b-fe96-4616-b979-0b1df3a23a90",
   "metadata": {
    "tags": []
   },
   "outputs": [
    {
     "data": {
      "text/plain": [
       "345"
      ]
     },
     "execution_count": 12,
     "metadata": {},
     "output_type": "execute_result"
    }
   ],
   "source": [
    "test = [blob for blob in blob_list if (blob.find('test_') != -1 and blob.find('test_10pc') == -1)]\n",
    "len(test)"
   ]
  },
  {
   "cell_type": "code",
   "execution_count": 13,
   "id": "f7ed7629-c45c-4edd-8746-8469482764e5",
   "metadata": {
    "tags": []
   },
   "outputs": [
    {
     "data": {
      "text/plain": [
       "345"
      ]
     },
     "execution_count": 13,
     "metadata": {},
     "output_type": "execute_result"
    }
   ],
   "source": [
    "train = [blob for blob in blob_list if (blob.find('train_') != -1 and blob.find('train_10pc') == -1)]\n",
    "len(test)"
   ]
  },
  {
   "cell_type": "code",
   "execution_count": 29,
   "id": "d66f8db2-11a3-4246-9fdb-aaa93285715d",
   "metadata": {
    "tags": []
   },
   "outputs": [
    {
     "name": "stdout",
     "output_type": "stream",
     "text": [
      "Saved data to /home/jupyter/data/test_10_pc.json\n",
      "Saved data to /home/jupyter/data/train_10_pc.json\n",
      "Saved data to /home/jupyter/data/test.json\n",
      "Saved data to /home/jupyter/data/train.json\n"
     ]
    }
   ],
   "source": [
    "save_json_to_local(test_10_pc, '/home/jupyter/data/', 'test_10_pc.json')\n",
    "save_json_to_local(train_10_pc, '/home/jupyter/data/', 'train_10_pc.json')\n",
    "save_json_to_local(test, '/home/jupyter/data/', 'test.json')\n",
    "save_json_to_local(train, '/home/jupyter/data/', 'train.json')"
   ]
  },
  {
   "cell_type": "markdown",
   "id": "efebeab6-45f3-4ea7-bcc3-440e1b5e33c1",
   "metadata": {},
   "source": [
    "## Download locally and concatenate"
   ]
  },
  {
   "cell_type": "code",
   "execution_count": 14,
   "id": "6c58ac53-0212-49b9-a323-1f645f0b8dc7",
   "metadata": {
    "tags": []
   },
   "outputs": [],
   "source": [
    "# Download a blob from a bucket and store it in memory\n",
    "def download_blob_to_memory(bucket_name: str, source_blob_name: str) -> list:\n",
    "    '''\n",
    "    Downloads a (ndjson) blob from the bucket and return json file as dict\n",
    "    '''\n",
    "    # Initialize a client\n",
    "    storage_client = storage.Client()\n",
    "\n",
    "    # Get the bucket\n",
    "    bucket = storage_client.bucket(bucket_name)\n",
    "\n",
    "    # Get the blob\n",
    "    blob = bucket.blob(source_blob_name)\n",
    "\n",
    "    # Download the blob content as a string\n",
    "    blob_content = blob.download_as_string()\n",
    "\n",
    "    # Need to replace all single quotes with double quotes for processed\n",
    "    # Not need once processing code has been updated\n",
    "    # blob_content = str(blob_content, encoding='utf-8').replace(\"'\",'\"')\n",
    "\n",
    "    # Load JSON from the blob contents\n",
    "    json_data = json.loads(blob_content)\n",
    "\n",
    "    # Returns a list of dictionaries - each dictionary represents one drawing\n",
    "    return json_data"
   ]
  },
  {
   "cell_type": "code",
   "execution_count": 15,
   "id": "b1fc3459-fcfd-4924-835f-20e846a2fdde",
   "metadata": {
    "tags": []
   },
   "outputs": [],
   "source": [
    "# # Function to save the drawings in the list to an json file locally\n",
    "# def save_drawings_to_json_local(list_drawings: list, output_file: str) -> None:\n",
    "#     '''\n",
    "#         - list_drawings: contains a dictionary for each drawing\n",
    "#         - output_file: the complete filepath to the target file to save/create (.json)\n",
    "#     '''\n",
    "#     with open(output_file, 'w') as json_file:\n",
    "#         # Write each drawing's dict to the file as a new line\n",
    "#         for dict_drawing in list_drawings:\n",
    "#             json.dump(dict_drawing, json_file)"
   ]
  },
  {
   "cell_type": "code",
   "execution_count": 10,
   "id": "f1795986-b1e3-4727-bda9-162b51cbd688",
   "metadata": {},
   "outputs": [],
   "source": [
    "def load_json_from_local (folder_path: str, file_name: str) -> list: \n",
    "    file_path = folder_path+file_name\n",
    "    with open(file_path, 'r') as file : \n",
    "        json_data = json.load(file)\n",
    "    print(f'Loaded {file_name} from {folder_path}')\n",
    "    return json_data"
   ]
  },
  {
   "cell_type": "code",
   "execution_count": 2,
   "id": "ef695755-b45f-4ddb-978a-c49509c781e4",
   "metadata": {
    "tags": []
   },
   "outputs": [],
   "source": [
    "def save_json_to_local (data: list, folder_path: str, file_name: str) -> None: \n",
    "    file_path = folder_path+file_name\n",
    "    with open(file_path, 'w') as file : \n",
    "        json.dump(data, file)\n",
    "    print(f'Saved data to {file_path}')\n",
    "    return None"
   ]
  },
  {
   "cell_type": "markdown",
   "id": "3d22261b-f983-45d0-ab7b-511211e36d50",
   "metadata": {},
   "source": [
    "# Create 50 class data set"
   ]
  },
  {
   "cell_type": "code",
   "execution_count": 14,
   "id": "487829e6-d203-4f9e-8e06-10a255ce00f1",
   "metadata": {
    "tags": []
   },
   "outputs": [
    {
     "name": "stdout",
     "output_type": "stream",
     "text": [
      "[3, 12, 13, 15, 16, 22, 40, 44, 47, 49, 52, 57, 63, 71, 79, 81, 101, 110, 111, 112, 114, 119, 125, 135, 140, 142, 150, 172, 174, 176, 183, 193, 194, 214, 216, 229, 235, 258, 274, 279, 282, 287, 301, 302, 308, 309, 316, 321, 327, 332]\n"
     ]
    }
   ],
   "source": [
    "# Select 50 random numbers for choosing classes used \n",
    "random.seed(42) # Keeps same random sample\n",
    "random_50 = random.sample(range(0,len(test_10_pc)),50)\n",
    "random_50.sort()\n",
    "print(random_50)"
   ]
  },
  {
   "cell_type": "code",
   "execution_count": 27,
   "id": "63ff62db-7e39-44cf-ba92-326c0362dc08",
   "metadata": {
    "tags": []
   },
   "outputs": [
    {
     "name": "stdout",
     "output_type": "stream",
     "text": [
      "Saved data to /home/jupyter/data/random_50.json\n"
     ]
    }
   ],
   "source": [
    "folder_path = '/home/jupyter/data/'\n",
    "file_name = 'random_50.json'\n",
    "\n",
    "save_json_to_local(random_50, folder_path, file_name)"
   ]
  },
  {
   "cell_type": "code",
   "execution_count": 30,
   "id": "76e502e1-187f-4a47-b0ce-6dc516920a25",
   "metadata": {
    "tags": []
   },
   "outputs": [],
   "source": [
    "def append_random_jsons_from_gcb(blob_list: list, sample_n: int) -> list: \n",
    "    appended_json = []\n",
    "    count = 0\n",
    "    \n",
    "    # random.seed(42) # To keep random sample repeatable\n",
    "    # random_list = random.sample(range(0,len(blob_list)),sample_n)\n",
    "    \n",
    "    # Used pre-stored random number list\n",
    "    random_list = load_json_from_local('/home/jupyter/data/', 'random_50.json')\n",
    "    \n",
    "    # Iterate over each blob in the list\n",
    "    for i in random_list : \n",
    "        count += 1\n",
    "        print(count)\n",
    "        \n",
    "        blob = blob_list[i]\n",
    "        json_data = download_blob_to_memory(from_bucket_name, blob)\n",
    "        print(f'{blob} downloaded: {len(json_data)} drawings')\n",
    "\n",
    "        # Append the dictionary to the list\n",
    "        appended_json = appended_json + json_data\n",
    "        print(f'{blob} appended: {len(appended_json)} drawing in total')\n",
    "    \n",
    "    return appended_json"
   ]
  },
  {
   "cell_type": "code",
   "execution_count": 32,
   "id": "ee1473a5-05b5-4cc4-962a-d3cdd53d98cf",
   "metadata": {
    "tags": []
   },
   "outputs": [],
   "source": [
    "def append_random_jsons_from_local(folder_path: str, blob_list: list, sample_n: int) -> list: \n",
    "    appended_json = []\n",
    "    count = 0\n",
    "    \n",
    "    # random.seed(42) # To keep random sample repeatable\n",
    "    # random_list = random.sample(range(0,len(blob_list)),sample_n)\n",
    "    \n",
    "    # Used pre-stored random number list\n",
    "    random_list = load_json_from_local('/home/jupyter/data/', 'random_50.json')\n",
    "    \n",
    "    # Iterate over each blob in the list  \n",
    "    for i in random_list : \n",
    "        count += 1\n",
    "        print(count)\n",
    "        \n",
    "        blob = blob_list[i]\n",
    "        json_data = load_json_from_local(folder_path, blob)\n",
    "        print(f'{blob} downloaded: {len(json_data)} drawings')\n",
    "\n",
    "        # Append the dictionary to the list\n",
    "        appended_json = appended_json + json_data\n",
    "        print(f'{blob} appended: {len(appended_json)} drawing in total')\n",
    "    \n",
    "    return appended_json"
   ]
  },
  {
   "cell_type": "code",
   "execution_count": 33,
   "id": "8c37296d-8209-4ac3-a8c8-98777165f5a6",
   "metadata": {
    "tags": []
   },
   "outputs": [
    {
     "name": "stdout",
     "output_type": "stream",
     "text": [
      "Loaded random_50.json from /home/jupyter/data/\n",
      "1\n",
      "Loaded test_10pc_aircraft carrier.ndjson from /home/jupyter/data/test_data/\n",
      "test_10pc_aircraft carrier.ndjson downloaded: 3496 drawings\n",
      "test_10pc_aircraft carrier.ndjson appended: 3496 drawing in total\n",
      "2\n",
      "Loaded test_10pc_arm.ndjson from /home/jupyter/data/test_data/\n",
      "test_10pc_arm.ndjson downloaded: 3629 drawings\n",
      "test_10pc_arm.ndjson appended: 7125 drawing in total\n",
      "3\n",
      "Loaded test_10pc_asparagus.ndjson from /home/jupyter/data/test_data/\n",
      "test_10pc_asparagus.ndjson downloaded: 5044 drawings\n",
      "test_10pc_asparagus.ndjson appended: 12169 drawing in total\n",
      "4\n",
      "Loaded test_10pc_backpack.ndjson from /home/jupyter/data/test_data/\n",
      "test_10pc_backpack.ndjson downloaded: 3775 drawings\n",
      "test_10pc_backpack.ndjson appended: 15944 drawing in total\n",
      "5\n",
      "Loaded test_10pc_banana.ndjson from /home/jupyter/data/test_data/\n",
      "test_10pc_banana.ndjson downloaded: 9239 drawings\n",
      "test_10pc_banana.ndjson appended: 25183 drawing in total\n",
      "6\n",
      "Loaded test_10pc_basketball.ndjson from /home/jupyter/data/test_data/\n",
      "test_10pc_basketball.ndjson downloaded: 4014 drawings\n",
      "test_10pc_basketball.ndjson appended: 29197 drawing in total\n",
      "7\n",
      "Loaded test_10pc_bottlecap.ndjson from /home/jupyter/data/test_data/\n",
      "test_10pc_bottlecap.ndjson downloaded: 4597 drawings\n",
      "test_10pc_bottlecap.ndjson appended: 33794 drawing in total\n",
      "8\n",
      "Loaded test_10pc_bread.ndjson from /home/jupyter/data/test_data/\n",
      "test_10pc_bread.ndjson downloaded: 3618 drawings\n",
      "test_10pc_bread.ndjson appended: 37412 drawing in total\n",
      "9\n",
      "Loaded test_10pc_broom.ndjson from /home/jupyter/data/test_data/\n",
      "test_10pc_broom.ndjson downloaded: 3508 drawings\n",
      "test_10pc_broom.ndjson appended: 40920 drawing in total\n",
      "10\n",
      "Loaded test_10pc_bulldozer.ndjson from /home/jupyter/data/test_data/\n",
      "test_10pc_bulldozer.ndjson downloaded: 5623 drawings\n",
      "test_10pc_bulldozer.ndjson appended: 46543 drawing in total\n",
      "11\n",
      "Loaded test_10pc_butterfly.ndjson from /home/jupyter/data/test_data/\n",
      "test_10pc_butterfly.ndjson downloaded: 3540 drawings\n",
      "test_10pc_butterfly.ndjson appended: 50083 drawing in total\n",
      "12\n",
      "Loaded test_10pc_camel.ndjson from /home/jupyter/data/test_data/\n",
      "test_10pc_camel.ndjson downloaded: 3642 drawings\n",
      "test_10pc_camel.ndjson appended: 53725 drawing in total\n",
      "13\n",
      "Loaded test_10pc_canoe.ndjson from /home/jupyter/data/test_data/\n",
      "test_10pc_canoe.ndjson downloaded: 3714 drawings\n",
      "test_10pc_canoe.ndjson appended: 57439 drawing in total\n",
      "14\n",
      "Loaded test_10pc_chair.ndjson from /home/jupyter/data/test_data/\n",
      "test_10pc_chair.ndjson downloaded: 6682 drawings\n",
      "test_10pc_chair.ndjson appended: 64121 drawing in total\n",
      "15\n",
      "Loaded test_10pc_compass.ndjson from /home/jupyter/data/test_data/\n",
      "test_10pc_compass.ndjson downloaded: 3829 drawings\n",
      "test_10pc_compass.ndjson appended: 67950 drawing in total\n",
      "16\n",
      "Loaded test_10pc_cookie.ndjson from /home/jupyter/data/test_data/\n",
      "test_10pc_cookie.ndjson downloaded: 3941 drawings\n",
      "test_10pc_cookie.ndjson appended: 71891 drawing in total\n",
      "17\n",
      "Loaded test_10pc_drums.ndjson from /home/jupyter/data/test_data/\n",
      "test_10pc_drums.ndjson downloaded: 4119 drawings\n",
      "test_10pc_drums.ndjson appended: 76010 drawing in total\n",
      "18\n",
      "Loaded test_10pc_eyeglasses.ndjson from /home/jupyter/data/test_data/\n",
      "test_10pc_eyeglasses.ndjson downloaded: 6773 drawings\n",
      "test_10pc_eyeglasses.ndjson appended: 82783 drawing in total\n",
      "19\n",
      "Loaded test_10pc_face.ndjson from /home/jupyter/data/test_data/\n",
      "test_10pc_face.ndjson downloaded: 4850 drawings\n",
      "test_10pc_face.ndjson appended: 87633 drawing in total\n",
      "20\n",
      "Loaded test_10pc_fan.ndjson from /home/jupyter/data/test_data/\n",
      "test_10pc_fan.ndjson downloaded: 4085 drawings\n",
      "test_10pc_fan.ndjson appended: 91718 drawing in total\n",
      "21\n",
      "Loaded test_10pc_fence.ndjson from /home/jupyter/data/test_data/\n",
      "test_10pc_fence.ndjson downloaded: 3883 drawings\n",
      "test_10pc_fence.ndjson appended: 95601 drawing in total\n",
      "22\n",
      "Loaded test_10pc_fish.ndjson from /home/jupyter/data/test_data/\n",
      "test_10pc_fish.ndjson downloaded: 4025 drawings\n",
      "test_10pc_fish.ndjson appended: 99626 drawing in total\n",
      "23\n",
      "Loaded test_10pc_flying saucer.ndjson from /home/jupyter/data/test_data/\n",
      "test_10pc_flying saucer.ndjson downloaded: 4559 drawings\n",
      "test_10pc_flying saucer.ndjson appended: 104185 drawing in total\n",
      "24\n",
      "Loaded test_10pc_grapes.ndjson from /home/jupyter/data/test_data/\n",
      "test_10pc_grapes.ndjson downloaded: 4660 drawings\n",
      "test_10pc_grapes.ndjson appended: 108845 drawing in total\n",
      "25\n",
      "Loaded test_10pc_hand.ndjson from /home/jupyter/data/test_data/\n",
      "test_10pc_hand.ndjson downloaded: 8754 drawings\n",
      "test_10pc_hand.ndjson appended: 117599 drawing in total\n",
      "26\n",
      "Loaded test_10pc_hat.ndjson from /home/jupyter/data/test_data/\n",
      "test_10pc_hat.ndjson downloaded: 6679 drawings\n",
      "test_10pc_hat.ndjson appended: 124278 drawing in total\n",
      "27\n",
      "Loaded test_10pc_horse.ndjson from /home/jupyter/data/test_data/\n",
      "test_10pc_horse.ndjson downloaded: 5349 drawings\n",
      "test_10pc_horse.ndjson appended: 129627 drawing in total\n",
      "28\n",
      "Loaded test_10pc_light bulb.ndjson from /home/jupyter/data/test_data/\n",
      "test_10pc_light bulb.ndjson downloaded: 3627 drawings\n",
      "test_10pc_light bulb.ndjson appended: 133254 drawing in total\n",
      "29\n",
      "Loaded test_10pc_lighthouse.ndjson from /home/jupyter/data/test_data/\n",
      "test_10pc_lighthouse.ndjson downloaded: 4828 drawings\n",
      "test_10pc_lighthouse.ndjson appended: 138082 drawing in total\n",
      "30\n",
      "Loaded test_10pc_line.ndjson from /home/jupyter/data/test_data/\n",
      "test_10pc_line.ndjson downloaded: 4307 drawings\n",
      "test_10pc_line.ndjson appended: 142389 drawing in total\n",
      "31\n",
      "Loaded test_10pc_marker.ndjson from /home/jupyter/data/test_data/\n",
      "test_10pc_marker.ndjson downloaded: 9575 drawings\n",
      "test_10pc_marker.ndjson appended: 151964 drawing in total\n",
      "32\n",
      "Loaded test_10pc_mountain.ndjson from /home/jupyter/data/test_data/\n",
      "test_10pc_mountain.ndjson downloaded: 3857 drawings\n",
      "test_10pc_mountain.ndjson appended: 155821 drawing in total\n",
      "33\n",
      "Loaded test_10pc_mouse.ndjson from /home/jupyter/data/test_data/\n",
      "test_10pc_mouse.ndjson downloaded: 5365 drawings\n",
      "test_10pc_mouse.ndjson appended: 161186 drawing in total\n",
      "34\n",
      "Loaded test_10pc_parachute.ndjson from /home/jupyter/data/test_data/\n",
      "test_10pc_parachute.ndjson downloaded: 3820 drawings\n",
      "test_10pc_parachute.ndjson appended: 165006 drawing in total\n",
      "35\n",
      "Loaded test_10pc_passport.ndjson from /home/jupyter/data/test_data/\n",
      "test_10pc_passport.ndjson downloaded: 4508 drawings\n",
      "test_10pc_passport.ndjson appended: 169514 drawing in total\n",
      "36\n",
      "Loaded test_10pc_pliers.ndjson from /home/jupyter/data/test_data/\n",
      "test_10pc_pliers.ndjson downloaded: 5177 drawings\n",
      "test_10pc_pliers.ndjson appended: 174691 drawing in total\n",
      "37\n",
      "Loaded test_10pc_potato.ndjson from /home/jupyter/data/test_data/\n",
      "test_10pc_potato.ndjson downloaded: 9877 drawings\n",
      "test_10pc_potato.ndjson appended: 184568 drawing in total\n",
      "38\n",
      "Loaded test_10pc_sea turtle.ndjson from /home/jupyter/data/test_data/\n",
      "test_10pc_sea turtle.ndjson downloaded: 3597 drawings\n",
      "test_10pc_sea turtle.ndjson appended: 188165 drawing in total\n",
      "39\n",
      "Loaded test_10pc_snowflake.ndjson from /home/jupyter/data/test_data/\n",
      "test_10pc_snowflake.ndjson downloaded: 3501 drawings\n",
      "test_10pc_snowflake.ndjson appended: 191666 drawing in total\n",
      "40\n",
      "Loaded test_10pc_spider.ndjson from /home/jupyter/data/test_data/\n",
      "test_10pc_spider.ndjson downloaded: 6284 drawings\n",
      "test_10pc_spider.ndjson appended: 197950 drawing in total\n",
      "41\n",
      "Loaded test_10pc_square.ndjson from /home/jupyter/data/test_data/\n",
      "test_10pc_square.ndjson downloaded: 3755 drawings\n",
      "test_10pc_square.ndjson appended: 201705 drawing in total\n",
      "42\n",
      "Loaded test_10pc_steak.ndjson from /home/jupyter/data/test_data/\n",
      "test_10pc_steak.ndjson downloaded: 3662 drawings\n",
      "test_10pc_steak.ndjson appended: 205367 drawing in total\n",
      "43\n",
      "Loaded test_10pc_swing set.ndjson from /home/jupyter/data/test_data/\n",
      "test_10pc_swing set.ndjson downloaded: 3581 drawings\n",
      "test_10pc_swing set.ndjson appended: 208948 drawing in total\n",
      "44\n",
      "Loaded test_10pc_sword.ndjson from /home/jupyter/data/test_data/\n",
      "test_10pc_sword.ndjson downloaded: 3715 drawings\n",
      "test_10pc_sword.ndjson appended: 212663 drawing in total\n",
      "45\n",
      "Loaded test_10pc_telephone.ndjson from /home/jupyter/data/test_data/\n",
      "test_10pc_telephone.ndjson downloaded: 3837 drawings\n",
      "test_10pc_telephone.ndjson appended: 216500 drawing in total\n",
      "46\n",
      "Loaded test_10pc_television.ndjson from /home/jupyter/data/test_data/\n",
      "test_10pc_television.ndjson downloaded: 3695 drawings\n",
      "test_10pc_television.ndjson appended: 220195 drawing in total\n",
      "47\n",
      "Loaded test_10pc_tooth.ndjson from /home/jupyter/data/test_data/\n",
      "test_10pc_tooth.ndjson downloaded: 3752 drawings\n",
      "test_10pc_tooth.ndjson appended: 223947 drawing in total\n",
      "48\n",
      "Loaded test_10pc_traffic light.ndjson from /home/jupyter/data/test_data/\n",
      "test_10pc_traffic light.ndjson downloaded: 3760 drawings\n",
      "test_10pc_traffic light.ndjson appended: 227707 drawing in total\n",
      "49\n",
      "Loaded test_10pc_trumpet.ndjson from /home/jupyter/data/test_data/\n",
      "test_10pc_trumpet.ndjson downloaded: 5087 drawings\n",
      "test_10pc_trumpet.ndjson appended: 232794 drawing in total\n",
      "50\n",
      "Loaded test_10pc_violin.ndjson from /home/jupyter/data/test_data/\n",
      "test_10pc_violin.ndjson downloaded: 6518 drawings\n",
      "test_10pc_violin.ndjson appended: 239312 drawing in total\n"
     ]
    }
   ],
   "source": [
    "folder_path = '/home/jupyter/data/test_data/'\n",
    "\n",
    "appended_json = append_random_jsons_from_local(folder_path, test_10_pc, 50)"
   ]
  },
  {
   "cell_type": "code",
   "execution_count": 34,
   "id": "1fea7caa-5827-4560-8e73-a5a247af44cc",
   "metadata": {
    "tags": []
   },
   "outputs": [
    {
     "name": "stdout",
     "output_type": "stream",
     "text": [
      "Saved data to /home/jupyter/data/all_classes/test_50_classes.json\n"
     ]
    }
   ],
   "source": [
    "save_json_to_local(appended_json, '/home/jupyter/data/all_classes/', 'test_50_classes.json')"
   ]
  },
  {
   "cell_type": "code",
   "execution_count": null,
   "id": "d6b5d104-0bac-4014-a52f-795fb5d8ccd0",
   "metadata": {},
   "outputs": [],
   "source": [
    "# folder_path = '/home/jupyter/data/test_data/'\n",
    "\n",
    "# appended_json = append_random_jsons_from_local(folder_path, train_10_pc, 50)\n",
    "\n",
    "# save_json_to_local(appended_json, '/home/jupyter/data/all_classes/', 'test_50_classes.json')"
   ]
  },
  {
   "cell_type": "markdown",
   "id": "011dc7b6-833c-42c0-b048-dfe6e1de0d61",
   "metadata": {
    "tags": []
   },
   "source": [
    "# SHUFFLE JSON"
   ]
  },
  {
   "cell_type": "code",
   "execution_count": 36,
   "id": "fcfa501e-1b2b-4758-9e3c-30aec4d22288",
   "metadata": {
    "tags": []
   },
   "outputs": [],
   "source": [
    "# Shuffle the 50 class dataset\n",
    "random.shuffle(appended_json)"
   ]
  },
  {
   "cell_type": "code",
   "execution_count": 39,
   "id": "8c0e96bd-29c7-4003-afcd-25410ef3b065",
   "metadata": {},
   "outputs": [
    {
     "name": "stdout",
     "output_type": "stream",
     "text": [
      "Saved data to /home/jupyter/data/all_classes/test_50_classes_shuffled.json\n"
     ]
    }
   ],
   "source": [
    "save_json_to_local(appended_json, '/home/jupyter/data/all_classes/', 'test_50_classes_shuffled.json')"
   ]
  },
  {
   "cell_type": "code",
   "execution_count": 40,
   "id": "52c0a6a7-65c5-41ff-91bc-b82db16f7b3a",
   "metadata": {
    "tags": []
   },
   "outputs": [
    {
     "data": {
      "text/plain": [
       "239312"
      ]
     },
     "execution_count": 40,
     "metadata": {},
     "output_type": "execute_result"
    }
   ],
   "source": [
    "len(appended_json)"
   ]
  },
  {
   "cell_type": "code",
   "execution_count": 47,
   "id": "df8b163b-cba3-441b-8091-b3a5f8d51ac1",
   "metadata": {
    "tags": []
   },
   "outputs": [
    {
     "name": "stdout",
     "output_type": "stream",
     "text": [
      "['eyeglasses', 'potato', 'grapes', 'compass', 'mouse', 'basketball', 'hand', 'trumpet', 'fish', 'fan', 'butterfly', 'hat', 'marker', 'eyeglasses', 'fence', 'lighthouse', 'telephone', 'asparagus', 'drums', 'mouse', 'potato', 'arm', 'chair', 'sword', 'compass', 'camel', 'fence', 'face', 'line', 'bulldozer', 'eyeglasses', 'fish', 'camel', 'lighthouse', 'bread', 'broom', 'chair', 'bread', 'trumpet', 'steak', 'chair', 'violin', 'mouse', 'sword', 'telephone', 'spider', 'bread', 'basketball', 'sword', 'sea turtle']\n"
     ]
    }
   ],
   "source": [
    "# Check list is shuffled\n",
    "print([drawing['class'] for drawing in appended_json][0:50])"
   ]
  },
  {
   "cell_type": "code",
   "execution_count": 51,
   "id": "94053976-c10f-4caf-8362-43f0ddf34352",
   "metadata": {
    "tags": []
   },
   "outputs": [],
   "source": [
    "# Extract X_test list deltas\n",
    "X_test_50_classes = [{'key_id':drawing['key_id'], 'class':drawing['class'],'list_deltas':drawing['list_deltas']} for drawing in appended_json]"
   ]
  },
  {
   "cell_type": "code",
   "execution_count": 54,
   "id": "9271d9a3-4c39-46ad-a133-e089e6a74772",
   "metadata": {
    "collapsed": true,
    "jupyter": {
     "outputs_hidden": true
    },
    "tags": []
   },
   "outputs": [
    {
     "data": {
      "text/plain": [
       "[{'key_id': '4817705540517888',\n",
       "  'class': 'eyeglasses',\n",
       "  'list_deltas': [[0.5961, -0.0538, 1.0],\n",
       "   [-0.5961, 0.043, 0.0],\n",
       "   [0.0314, 0.4301, 0.0],\n",
       "   [0.0314, 0.0968, 0.0],\n",
       "   [0.0588, 0.0645, 0.0],\n",
       "   [0.0745, -0.0323, 0.0],\n",
       "   [0.0471, -0.1075, 0.0],\n",
       "   [0.0353, -0.2043, 0.0],\n",
       "   [-0.0078, -0.2151, 1.0],\n",
       "   [-0.0118, 0.0108, 0.0],\n",
       "   [0.051, 0.4301, 0.0],\n",
       "   [0.0471, 0.086, 0.0],\n",
       "   [0.0549, 0.0215, 0.0],\n",
       "   [0.0588, -0.0753, 0.0],\n",
       "   [0.0431, -0.1398, 0.0],\n",
       "   [0.051, -0.2366, 0.0],\n",
       "   [0.0078, -0.1828, 1.0],\n",
       "   [-0.5451, 0.1398, 0.0],\n",
       "   [-0.0706, -0.1505, 0.0],\n",
       "   [-0.1216, -0.129, 1.0],\n",
       "   [0.7647, 0.1398, 0.0],\n",
       "   [0.1333, -0.2903, 1.0],\n",
       "   [-0.9255, 0.1935, 0.0],\n",
       "   [0.2471, 0.3011, 1.0],\n",
       "   [0.5529, -0.0968, 0.0],\n",
       "   [0.2, -0.4624, 1.0],\n",
       "   [99, 99, 99],\n",
       "   [99, 99, 99],\n",
       "   [99, 99, 99],\n",
       "   [99, 99, 99],\n",
       "   [99, 99, 99],\n",
       "   [99, 99, 99],\n",
       "   [99, 99, 99],\n",
       "   [99, 99, 99],\n",
       "   [99, 99, 99],\n",
       "   [99, 99, 99],\n",
       "   [99, 99, 99],\n",
       "   [99, 99, 99],\n",
       "   [99, 99, 99],\n",
       "   [99, 99, 99],\n",
       "   [99, 99, 99],\n",
       "   [99, 99, 99],\n",
       "   [99, 99, 99],\n",
       "   [99, 99, 99],\n",
       "   [99, 99, 99],\n",
       "   [99, 99, 99],\n",
       "   [99, 99, 99],\n",
       "   [99, 99, 99],\n",
       "   [99, 99, 99],\n",
       "   [99, 99, 99],\n",
       "   [99, 99, 99],\n",
       "   [99, 99, 99],\n",
       "   [99, 99, 99],\n",
       "   [99, 99, 99],\n",
       "   [99, 99, 99],\n",
       "   [99, 99, 99],\n",
       "   [99, 99, 99],\n",
       "   [99, 99, 99],\n",
       "   [99, 99, 99],\n",
       "   [99, 99, 99],\n",
       "   [99, 99, 99],\n",
       "   [99, 99, 99],\n",
       "   [99, 99, 99],\n",
       "   [99, 99, 99],\n",
       "   [99, 99, 99],\n",
       "   [99, 99, 99],\n",
       "   [99, 99, 99],\n",
       "   [99, 99, 99],\n",
       "   [99, 99, 99],\n",
       "   [99, 99, 99],\n",
       "   [99, 99, 99],\n",
       "   [99, 99, 99],\n",
       "   [99, 99, 99],\n",
       "   [99, 99, 99],\n",
       "   [99, 99, 99],\n",
       "   [99, 99, 99],\n",
       "   [99, 99, 99],\n",
       "   [99, 99, 99],\n",
       "   [99, 99, 99],\n",
       "   [99, 99, 99],\n",
       "   [99, 99, 99],\n",
       "   [99, 99, 99],\n",
       "   [99, 99, 99],\n",
       "   [99, 99, 99],\n",
       "   [99, 99, 99],\n",
       "   [99, 99, 99],\n",
       "   [99, 99, 99],\n",
       "   [99, 99, 99],\n",
       "   [99, 99, 99],\n",
       "   [99, 99, 99],\n",
       "   [99, 99, 99],\n",
       "   [99, 99, 99],\n",
       "   [99, 99, 99],\n",
       "   [99, 99, 99],\n",
       "   [99, 99, 99],\n",
       "   [99, 99, 99],\n",
       "   [99, 99, 99],\n",
       "   [99, 99, 99],\n",
       "   [99, 99, 99],\n",
       "   [99, 99, 99],\n",
       "   [99, 99, 99],\n",
       "   [99, 99, 99],\n",
       "   [99, 99, 99],\n",
       "   [99, 99, 99],\n",
       "   [99, 99, 99],\n",
       "   [99, 99, 99],\n",
       "   [99, 99, 99],\n",
       "   [99, 99, 99],\n",
       "   [99, 99, 99],\n",
       "   [99, 99, 99],\n",
       "   [99, 99, 99],\n",
       "   [99, 99, 99],\n",
       "   [99, 99, 99],\n",
       "   [99, 99, 99],\n",
       "   [99, 99, 99],\n",
       "   [99, 99, 99],\n",
       "   [99, 99, 99],\n",
       "   [99, 99, 99],\n",
       "   [99, 99, 99],\n",
       "   [99, 99, 99],\n",
       "   [99, 99, 99],\n",
       "   [99, 99, 99],\n",
       "   [99, 99, 99],\n",
       "   [99, 99, 99],\n",
       "   [99, 99, 99],\n",
       "   [99, 99, 99],\n",
       "   [99, 99, 99],\n",
       "   [99, 99, 99],\n",
       "   [99, 99, 99],\n",
       "   [99, 99, 99],\n",
       "   [99, 99, 99],\n",
       "   [99, 99, 99],\n",
       "   [99, 99, 99],\n",
       "   [99, 99, 99],\n",
       "   [99, 99, 99],\n",
       "   [99, 99, 99],\n",
       "   [99, 99, 99],\n",
       "   [99, 99, 99],\n",
       "   [99, 99, 99],\n",
       "   [99, 99, 99],\n",
       "   [99, 99, 99],\n",
       "   [99, 99, 99],\n",
       "   [99, 99, 99],\n",
       "   [99, 99, 99],\n",
       "   [99, 99, 99],\n",
       "   [99, 99, 99],\n",
       "   [99, 99, 99],\n",
       "   [99, 99, 99],\n",
       "   [99, 99, 99],\n",
       "   [99, 99, 99]]},\n",
       " {'key_id': '5932336841490432',\n",
       "  'class': 'potato',\n",
       "  'list_deltas': [[0.1111, 0.5098, 0.0],\n",
       "   [0.1373, 0.2235, 0.0],\n",
       "   [0.1242, 0.0863, 0.0],\n",
       "   [0.1307, 0.0353, 0.0],\n",
       "   [0.1373, 0.0196, 0.0],\n",
       "   [0.0719, -0.0235, 0.0],\n",
       "   [0.2222, -0.1255, 0.0],\n",
       "   [0.0458, -0.0353, 0.0],\n",
       "   [0.0196, -0.0392, 0.0],\n",
       "   [-0.0065, -0.2118, 0.0],\n",
       "   [-0.0719, -0.1843, 0.0],\n",
       "   [-0.1046, -0.1725, 0.0],\n",
       "   [-0.1438, -0.1451, 0.0],\n",
       "   [-0.098, -0.0627, 0.0],\n",
       "   [-0.2614, 0.0, 0.0],\n",
       "   [-0.085, 0.0118, 0.0],\n",
       "   [-0.0784, 0.0471, 0.0],\n",
       "   [-0.1307, 0.1216, 0.0],\n",
       "   [-0.0065, 0.0275, 1.0],\n",
       "   [99, 99, 99],\n",
       "   [99, 99, 99],\n",
       "   [99, 99, 99],\n",
       "   [99, 99, 99],\n",
       "   [99, 99, 99],\n",
       "   [99, 99, 99],\n",
       "   [99, 99, 99],\n",
       "   [99, 99, 99],\n",
       "   [99, 99, 99],\n",
       "   [99, 99, 99],\n",
       "   [99, 99, 99],\n",
       "   [99, 99, 99],\n",
       "   [99, 99, 99],\n",
       "   [99, 99, 99],\n",
       "   [99, 99, 99],\n",
       "   [99, 99, 99],\n",
       "   [99, 99, 99],\n",
       "   [99, 99, 99],\n",
       "   [99, 99, 99],\n",
       "   [99, 99, 99],\n",
       "   [99, 99, 99],\n",
       "   [99, 99, 99],\n",
       "   [99, 99, 99],\n",
       "   [99, 99, 99],\n",
       "   [99, 99, 99],\n",
       "   [99, 99, 99],\n",
       "   [99, 99, 99],\n",
       "   [99, 99, 99],\n",
       "   [99, 99, 99],\n",
       "   [99, 99, 99],\n",
       "   [99, 99, 99],\n",
       "   [99, 99, 99],\n",
       "   [99, 99, 99],\n",
       "   [99, 99, 99],\n",
       "   [99, 99, 99],\n",
       "   [99, 99, 99],\n",
       "   [99, 99, 99],\n",
       "   [99, 99, 99],\n",
       "   [99, 99, 99],\n",
       "   [99, 99, 99],\n",
       "   [99, 99, 99],\n",
       "   [99, 99, 99],\n",
       "   [99, 99, 99],\n",
       "   [99, 99, 99],\n",
       "   [99, 99, 99],\n",
       "   [99, 99, 99],\n",
       "   [99, 99, 99],\n",
       "   [99, 99, 99],\n",
       "   [99, 99, 99],\n",
       "   [99, 99, 99],\n",
       "   [99, 99, 99],\n",
       "   [99, 99, 99],\n",
       "   [99, 99, 99],\n",
       "   [99, 99, 99],\n",
       "   [99, 99, 99],\n",
       "   [99, 99, 99],\n",
       "   [99, 99, 99],\n",
       "   [99, 99, 99],\n",
       "   [99, 99, 99],\n",
       "   [99, 99, 99],\n",
       "   [99, 99, 99],\n",
       "   [99, 99, 99],\n",
       "   [99, 99, 99],\n",
       "   [99, 99, 99],\n",
       "   [99, 99, 99],\n",
       "   [99, 99, 99],\n",
       "   [99, 99, 99],\n",
       "   [99, 99, 99],\n",
       "   [99, 99, 99],\n",
       "   [99, 99, 99],\n",
       "   [99, 99, 99],\n",
       "   [99, 99, 99],\n",
       "   [99, 99, 99],\n",
       "   [99, 99, 99],\n",
       "   [99, 99, 99],\n",
       "   [99, 99, 99],\n",
       "   [99, 99, 99],\n",
       "   [99, 99, 99],\n",
       "   [99, 99, 99],\n",
       "   [99, 99, 99],\n",
       "   [99, 99, 99],\n",
       "   [99, 99, 99],\n",
       "   [99, 99, 99],\n",
       "   [99, 99, 99],\n",
       "   [99, 99, 99],\n",
       "   [99, 99, 99],\n",
       "   [99, 99, 99],\n",
       "   [99, 99, 99],\n",
       "   [99, 99, 99],\n",
       "   [99, 99, 99],\n",
       "   [99, 99, 99],\n",
       "   [99, 99, 99],\n",
       "   [99, 99, 99],\n",
       "   [99, 99, 99],\n",
       "   [99, 99, 99],\n",
       "   [99, 99, 99],\n",
       "   [99, 99, 99],\n",
       "   [99, 99, 99],\n",
       "   [99, 99, 99],\n",
       "   [99, 99, 99],\n",
       "   [99, 99, 99],\n",
       "   [99, 99, 99],\n",
       "   [99, 99, 99],\n",
       "   [99, 99, 99],\n",
       "   [99, 99, 99],\n",
       "   [99, 99, 99],\n",
       "   [99, 99, 99],\n",
       "   [99, 99, 99],\n",
       "   [99, 99, 99],\n",
       "   [99, 99, 99],\n",
       "   [99, 99, 99],\n",
       "   [99, 99, 99],\n",
       "   [99, 99, 99],\n",
       "   [99, 99, 99],\n",
       "   [99, 99, 99],\n",
       "   [99, 99, 99],\n",
       "   [99, 99, 99],\n",
       "   [99, 99, 99],\n",
       "   [99, 99, 99],\n",
       "   [99, 99, 99],\n",
       "   [99, 99, 99],\n",
       "   [99, 99, 99],\n",
       "   [99, 99, 99],\n",
       "   [99, 99, 99],\n",
       "   [99, 99, 99],\n",
       "   [99, 99, 99],\n",
       "   [99, 99, 99],\n",
       "   [99, 99, 99],\n",
       "   [99, 99, 99],\n",
       "   [99, 99, 99],\n",
       "   [99, 99, 99]]}]"
      ]
     },
     "execution_count": 54,
     "metadata": {},
     "output_type": "execute_result"
    }
   ],
   "source": [
    "# Check \n",
    "X_test_50_classes[0:2]"
   ]
  },
  {
   "cell_type": "code",
   "execution_count": 55,
   "id": "f4c07255-15c4-47e5-8b50-1cff17e72dff",
   "metadata": {
    "tags": []
   },
   "outputs": [
    {
     "name": "stdout",
     "output_type": "stream",
     "text": [
      "Saved data to /home/jupyter/data/all_classes/X_test_50_classes.json\n"
     ]
    }
   ],
   "source": [
    "save_json_to_local(X_test_50_classes, '/home/jupyter/data/all_classes/', 'X_test_50_classes.json')"
   ]
  },
  {
   "cell_type": "code",
   "execution_count": 74,
   "id": "e398e499-2612-45b2-9702-79da370ff14c",
   "metadata": {
    "tags": []
   },
   "outputs": [],
   "source": [
    "# Extract y_train OHC class\n",
    "# However, need to change OHC to reflect subset of 50 classes!"
   ]
  },
  {
   "cell_type": "code",
   "execution_count": 15,
   "id": "316c14e8-5c23-4b0e-bd81-2d182f80c39d",
   "metadata": {
    "tags": []
   },
   "outputs": [
    {
     "name": "stdout",
     "output_type": "stream",
     "text": [
      "{'aircraft carrier': 0, 'arm': 1, 'asparagus': 2, 'backpack': 3, 'banana': 4, 'basketball': 5, 'bottlecap': 6, 'bread': 7, 'broom': 8, 'bulldozer': 9, 'butterfly': 10, 'camel': 11, 'canoe': 12, 'chair': 13, 'compass': 14, 'cookie': 15, 'drums': 16, 'eyeglasses': 17, 'face': 18, 'fan': 19, 'fence': 20, 'fish': 21, 'flying saucer': 22, 'grapes': 23, 'hand': 24, 'hat': 25, 'horse': 26, 'light bulb': 27, 'lighthouse': 28, 'line': 29, 'marker': 30, 'mountain': 31, 'mouse': 32, 'parachute': 33, 'passport': 34, 'pliers': 35, 'potato': 36, 'sea turtle': 37, 'snowflake': 38, 'spider': 39, 'square': 40, 'steak': 41, 'swing set': 42, 'sword': 43, 'telephone': 44, 'television': 45, 'tooth': 46, 'traffic light': 47, 'trumpet': 48, 'violin': 49}\n"
     ]
    }
   ],
   "source": [
    "# Need to re-OHC the classes for the 50 class subset\n",
    "class_list = [test_10_pc[i] for i in random_50]\n",
    "class_names=[class_.replace('test_10pc_','').replace('.ndjson','') for class_ in class_list]\n",
    "#print(class_names)\n",
    "\n",
    "dict_class_10pc = {}\n",
    "for key, value in enumerate(class_names) :\n",
    "    dict_class_10pc[value] = key\n",
    "    \n",
    "print(dict_class_10pc)"
   ]
  },
  {
   "cell_type": "code",
   "execution_count": 16,
   "id": "51d697ed-cfe7-4029-82bc-9676d1650be6",
   "metadata": {
    "tags": []
   },
   "outputs": [
    {
     "name": "stdout",
     "output_type": "stream",
     "text": [
      "Saved data to /home/jupyter/data/mappings/dict_50_class_subset.json\n"
     ]
    }
   ],
   "source": [
    "save_json_to_local(dict_class_10pc, '/home/jupyter/data/mappings/', 'dict_50_class_subset.json')"
   ]
  },
  {
   "cell_type": "code",
   "execution_count": 76,
   "id": "3c2d1255-0568-4fae-8711-7edebe9c8249",
   "metadata": {
    "tags": []
   },
   "outputs": [],
   "source": [
    "def OHC_class_name(class_name: str) -> np.ndarray:\n",
    "    OHC_output = np.zeros((1,len(dict_class_10pc)))\n",
    "    OHC_output[0, dict_class_10pc[class_name]] = 1\n",
    "\n",
    "    # Need to convert the np.ndarray into a list so it can be parsed into JSON\n",
    "    return OHC_output.tolist()"
   ]
  },
  {
   "cell_type": "code",
   "execution_count": 77,
   "id": "e194cb18-40ee-4fba-9e66-f1013587a0b8",
   "metadata": {
    "tags": []
   },
   "outputs": [],
   "source": [
    "y_test_50_classes = [{'key_id':drawing['key_id'], 'class':drawing['class'],'OHC_class':OHC_class_name(drawing['class'])} for drawing in appended_json]\n"
   ]
  },
  {
   "cell_type": "code",
   "execution_count": 86,
   "id": "ba279a9d-bee2-4be6-9710-cdbfa3ff9697",
   "metadata": {
    "collapsed": true,
    "jupyter": {
     "outputs_hidden": true
    },
    "tags": []
   },
   "outputs": [
    {
     "name": "stdout",
     "output_type": "stream",
     "text": [
      "key id:4817705540517888, class:eyeglasses\n",
      "key id:4817705540517888, class:eyeglasses\n",
      "key id:5932336841490432, class:potato\n",
      "key id:5932336841490432, class:potato\n",
      "key id:5156375304863744, class:grapes\n",
      "key id:5156375304863744, class:grapes\n",
      "key id:6515054788739072, class:compass\n",
      "key id:6515054788739072, class:compass\n",
      "key id:6066733288783872, class:mouse\n",
      "key id:6066733288783872, class:mouse\n",
      "key id:6111767363059712, class:basketball\n",
      "key id:6111767363059712, class:basketball\n",
      "key id:4507594724999168, class:hand\n",
      "key id:4507594724999168, class:hand\n",
      "key id:6363290877820928, class:trumpet\n",
      "key id:6363290877820928, class:trumpet\n",
      "key id:4633025168015360, class:fish\n",
      "key id:4633025168015360, class:fish\n",
      "key id:4969540603609088, class:fan\n",
      "key id:4969540603609088, class:fan\n",
      "key id:5939668493271040, class:butterfly\n",
      "key id:5939668493271040, class:butterfly\n",
      "key id:5692177541758976, class:hat\n",
      "key id:5692177541758976, class:hat\n",
      "key id:5264579842015232, class:marker\n",
      "key id:5264579842015232, class:marker\n",
      "key id:4594597323866112, class:eyeglasses\n",
      "key id:4594597323866112, class:eyeglasses\n",
      "key id:6217563996422144, class:fence\n",
      "key id:6217563996422144, class:fence\n",
      "key id:5524958597873664, class:lighthouse\n",
      "key id:5524958597873664, class:lighthouse\n",
      "key id:5221894611533824, class:telephone\n",
      "key id:5221894611533824, class:telephone\n",
      "key id:6458938134364160, class:asparagus\n",
      "key id:6458938134364160, class:asparagus\n",
      "key id:6027331556605952, class:drums\n",
      "key id:6027331556605952, class:drums\n",
      "key id:6281615267332096, class:mouse\n",
      "key id:6281615267332096, class:mouse\n"
     ]
    }
   ],
   "source": [
    "#Check X&Y ordered the same way\n",
    "for i in range(20):\n",
    "    print(f\"key id:{X_test_50_classes[i]['key_id']}, class:{X_test_50_classes[i]['class']}\")\n",
    "    print(f\"key id:{y_test_50_classes[i]['key_id']}, class:{y_test_50_classes[i]['class']}\")"
   ]
  },
  {
   "cell_type": "code",
   "execution_count": 87,
   "id": "33bfe3c9-6b03-48a3-b0b6-5753c4dcf8bf",
   "metadata": {
    "tags": []
   },
   "outputs": [
    {
     "name": "stdout",
     "output_type": "stream",
     "text": [
      "Saved data to /home/jupyter/data/all_classes/y_test_50_classes.json\n"
     ]
    }
   ],
   "source": [
    "# All looks good\n",
    "# Save to json\n",
    "save_json_to_local(y_test_50_classes, '/home/jupyter/data/all_classes/', 'y_test_50_classes.json')"
   ]
  },
  {
   "cell_type": "code",
   "execution_count": null,
   "id": "a1dc5145-1784-4c45-baa3-0e678532a6e5",
   "metadata": {},
   "outputs": [],
   "source": []
  },
  {
   "cell_type": "code",
   "execution_count": null,
   "id": "31dd34a6-5e3b-4bc9-8224-dc44ae90ee29",
   "metadata": {},
   "outputs": [],
   "source": []
  },
  {
   "cell_type": "code",
   "execution_count": 56,
   "id": "ece44a4f-708a-4fc8-8049-317568f7ecac",
   "metadata": {
    "tags": []
   },
   "outputs": [
    {
     "name": "stdout",
     "output_type": "stream",
     "text": [
      "['test_10pc_aircraft carrier.ndjson', 'test_10pc_arm.ndjson', 'test_10pc_asparagus.ndjson', 'test_10pc_backpack.ndjson', 'test_10pc_banana.ndjson', 'test_10pc_basketball.ndjson', 'test_10pc_bottlecap.ndjson', 'test_10pc_bread.ndjson', 'test_10pc_broom.ndjson', 'test_10pc_bulldozer.ndjson', 'test_10pc_butterfly.ndjson', 'test_10pc_camel.ndjson', 'test_10pc_canoe.ndjson', 'test_10pc_chair.ndjson', 'test_10pc_compass.ndjson', 'test_10pc_cookie.ndjson', 'test_10pc_drums.ndjson', 'test_10pc_eyeglasses.ndjson', 'test_10pc_face.ndjson', 'test_10pc_fan.ndjson', 'test_10pc_fence.ndjson', 'test_10pc_fish.ndjson', 'test_10pc_flying saucer.ndjson', 'test_10pc_grapes.ndjson', 'test_10pc_hand.ndjson', 'test_10pc_hat.ndjson', 'test_10pc_horse.ndjson', 'test_10pc_light bulb.ndjson', 'test_10pc_lighthouse.ndjson', 'test_10pc_line.ndjson', 'test_10pc_marker.ndjson', 'test_10pc_mountain.ndjson', 'test_10pc_mouse.ndjson', 'test_10pc_parachute.ndjson', 'test_10pc_passport.ndjson', 'test_10pc_pliers.ndjson', 'test_10pc_potato.ndjson', 'test_10pc_sea turtle.ndjson', 'test_10pc_snowflake.ndjson', 'test_10pc_spider.ndjson', 'test_10pc_square.ndjson', 'test_10pc_steak.ndjson', 'test_10pc_swing set.ndjson', 'test_10pc_sword.ndjson', 'test_10pc_telephone.ndjson', 'test_10pc_television.ndjson', 'test_10pc_tooth.ndjson', 'test_10pc_traffic light.ndjson', 'test_10pc_trumpet.ndjson', 'test_10pc_violin.ndjson']\n",
      "['train_10pc_aircraft carrier.ndjson', 'train_10pc_arm.ndjson', 'train_10pc_asparagus.ndjson', 'train_10pc_backpack.ndjson', 'train_10pc_banana.ndjson', 'train_10pc_basketball.ndjson', 'train_10pc_bottlecap.ndjson', 'train_10pc_bread.ndjson', 'train_10pc_broom.ndjson', 'train_10pc_bulldozer.ndjson', 'train_10pc_butterfly.ndjson', 'train_10pc_camel.ndjson', 'train_10pc_canoe.ndjson', 'train_10pc_chair.ndjson', 'train_10pc_compass.ndjson', 'train_10pc_cookie.ndjson', 'train_10pc_drums.ndjson', 'train_10pc_eyeglasses.ndjson', 'train_10pc_face.ndjson', 'train_10pc_fan.ndjson', 'train_10pc_fence.ndjson', 'train_10pc_fish.ndjson', 'train_10pc_flying saucer.ndjson', 'train_10pc_grapes.ndjson', 'train_10pc_hand.ndjson', 'train_10pc_hat.ndjson', 'train_10pc_horse.ndjson', 'train_10pc_light bulb.ndjson', 'train_10pc_lighthouse.ndjson', 'train_10pc_line.ndjson', 'train_10pc_marker.ndjson', 'train_10pc_mountain.ndjson', 'train_10pc_mouse.ndjson', 'train_10pc_parachute.ndjson', 'train_10pc_passport.ndjson', 'train_10pc_pliers.ndjson', 'train_10pc_potato.ndjson', 'train_10pc_sea turtle.ndjson', 'train_10pc_snowflake.ndjson', 'train_10pc_spider.ndjson', 'train_10pc_square.ndjson', 'train_10pc_steak.ndjson', 'train_10pc_swing set.ndjson', 'train_10pc_sword.ndjson', 'train_10pc_telephone.ndjson', 'train_10pc_television.ndjson', 'train_10pc_tooth.ndjson', 'train_10pc_traffic light.ndjson', 'train_10pc_trumpet.ndjson', 'train_10pc_violin.ndjson']\n"
     ]
    }
   ],
   "source": [
    "# Check test and train classes are the same: \n",
    "print([test_10_pc[i] for i in random_50])\n",
    "print([train_10_pc[i] for i in random_50])"
   ]
  },
  {
   "cell_type": "code",
   "execution_count": null,
   "id": "1dc07132-8f64-43b4-a1c7-f1c7781917d6",
   "metadata": {},
   "outputs": [],
   "source": []
  },
  {
   "cell_type": "markdown",
   "id": "a5edfdc9-12ad-4308-9d7a-3c9241422551",
   "metadata": {
    "tags": []
   },
   "source": [
    "# Rinse and repeat for train data"
   ]
  },
  {
   "cell_type": "code",
   "execution_count": 90,
   "id": "6cac7215-c19c-4bd4-987f-d39994079311",
   "metadata": {
    "tags": []
   },
   "outputs": [
    {
     "name": "stdout",
     "output_type": "stream",
     "text": [
      "Loaded random_50.json from /home/jupyter/data/\n",
      "1\n",
      "Loaded train_10pc_aircraft carrier.ndjson from /home/jupyter/data/train_data/\n",
      "train_10pc_aircraft carrier.ndjson downloaded: 8156 drawings\n",
      "train_10pc_aircraft carrier.ndjson appended: 8156 drawing in total\n",
      "2\n",
      "Loaded train_10pc_arm.ndjson from /home/jupyter/data/train_data/\n",
      "train_10pc_arm.ndjson downloaded: 8467 drawings\n",
      "train_10pc_arm.ndjson appended: 16623 drawing in total\n",
      "3\n",
      "Loaded train_10pc_asparagus.ndjson from /home/jupyter/data/train_data/\n",
      "train_10pc_asparagus.ndjson downloaded: 11768 drawings\n",
      "train_10pc_asparagus.ndjson appended: 28391 drawing in total\n",
      "4\n",
      "Loaded train_10pc_backpack.ndjson from /home/jupyter/data/train_data/\n",
      "train_10pc_backpack.ndjson downloaded: 8806 drawings\n",
      "train_10pc_backpack.ndjson appended: 37197 drawing in total\n",
      "5\n",
      "Loaded train_10pc_banana.ndjson from /home/jupyter/data/train_data/\n",
      "train_10pc_banana.ndjson downloaded: 21556 drawings\n",
      "train_10pc_banana.ndjson appended: 58753 drawing in total\n",
      "6\n",
      "Loaded train_10pc_basketball.ndjson from /home/jupyter/data/train_data/\n",
      "train_10pc_basketball.ndjson downloaded: 9366 drawings\n",
      "train_10pc_basketball.ndjson appended: 68119 drawing in total\n",
      "7\n",
      "Loaded train_10pc_bottlecap.ndjson from /home/jupyter/data/train_data/\n",
      "train_10pc_bottlecap.ndjson downloaded: 10725 drawings\n",
      "train_10pc_bottlecap.ndjson appended: 78844 drawing in total\n",
      "8\n",
      "Loaded train_10pc_bread.ndjson from /home/jupyter/data/train_data/\n",
      "train_10pc_bread.ndjson downloaded: 8440 drawings\n",
      "train_10pc_bread.ndjson appended: 87284 drawing in total\n",
      "9\n",
      "Loaded train_10pc_broom.ndjson from /home/jupyter/data/train_data/\n",
      "train_10pc_broom.ndjson downloaded: 8185 drawings\n",
      "train_10pc_broom.ndjson appended: 95469 drawing in total\n",
      "10\n",
      "Loaded train_10pc_bulldozer.ndjson from /home/jupyter/data/train_data/\n",
      "train_10pc_bulldozer.ndjson downloaded: 13119 drawings\n",
      "train_10pc_bulldozer.ndjson appended: 108588 drawing in total\n",
      "11\n",
      "Loaded train_10pc_butterfly.ndjson from /home/jupyter/data/train_data/\n",
      "train_10pc_butterfly.ndjson downloaded: 8260 drawings\n",
      "train_10pc_butterfly.ndjson appended: 116848 drawing in total\n",
      "12\n",
      "Loaded train_10pc_camel.ndjson from /home/jupyter/data/train_data/\n",
      "train_10pc_camel.ndjson downloaded: 8498 drawings\n",
      "train_10pc_camel.ndjson appended: 125346 drawing in total\n",
      "13\n",
      "Loaded train_10pc_canoe.ndjson from /home/jupyter/data/train_data/\n",
      "train_10pc_canoe.ndjson downloaded: 8664 drawings\n",
      "train_10pc_canoe.ndjson appended: 134010 drawing in total\n",
      "14\n",
      "Loaded train_10pc_chair.ndjson from /home/jupyter/data/train_data/\n",
      "train_10pc_chair.ndjson downloaded: 15590 drawings\n",
      "train_10pc_chair.ndjson appended: 149600 drawing in total\n",
      "15\n",
      "Loaded train_10pc_compass.ndjson from /home/jupyter/data/train_data/\n",
      "train_10pc_compass.ndjson downloaded: 8933 drawings\n",
      "train_10pc_compass.ndjson appended: 158533 drawing in total\n",
      "16\n",
      "Loaded train_10pc_cookie.ndjson from /home/jupyter/data/train_data/\n",
      "train_10pc_cookie.ndjson downloaded: 9195 drawings\n",
      "train_10pc_cookie.ndjson appended: 167728 drawing in total\n",
      "17\n",
      "Loaded train_10pc_drums.ndjson from /home/jupyter/data/train_data/\n",
      "train_10pc_drums.ndjson downloaded: 9611 drawings\n",
      "train_10pc_drums.ndjson appended: 177339 drawing in total\n",
      "18\n",
      "Loaded train_10pc_eyeglasses.ndjson from /home/jupyter/data/train_data/\n",
      "train_10pc_eyeglasses.ndjson downloaded: 15804 drawings\n",
      "train_10pc_eyeglasses.ndjson appended: 193143 drawing in total\n",
      "19\n",
      "Loaded train_10pc_face.ndjson from /home/jupyter/data/train_data/\n",
      "train_10pc_face.ndjson downloaded: 11317 drawings\n",
      "train_10pc_face.ndjson appended: 204460 drawing in total\n",
      "20\n",
      "Loaded train_10pc_fan.ndjson from /home/jupyter/data/train_data/\n",
      "train_10pc_fan.ndjson downloaded: 9531 drawings\n",
      "train_10pc_fan.ndjson appended: 213991 drawing in total\n",
      "21\n",
      "Loaded train_10pc_fence.ndjson from /home/jupyter/data/train_data/\n",
      "train_10pc_fence.ndjson downloaded: 9060 drawings\n",
      "train_10pc_fence.ndjson appended: 223051 drawing in total\n",
      "22\n",
      "Loaded train_10pc_fish.ndjson from /home/jupyter/data/train_data/\n",
      "train_10pc_fish.ndjson downloaded: 9391 drawings\n",
      "train_10pc_fish.ndjson appended: 232442 drawing in total\n",
      "23\n",
      "Loaded train_10pc_flying saucer.ndjson from /home/jupyter/data/train_data/\n",
      "train_10pc_flying saucer.ndjson downloaded: 10638 drawings\n",
      "train_10pc_flying saucer.ndjson appended: 243080 drawing in total\n",
      "24\n",
      "Loaded train_10pc_grapes.ndjson from /home/jupyter/data/train_data/\n",
      "train_10pc_grapes.ndjson downloaded: 10872 drawings\n",
      "train_10pc_grapes.ndjson appended: 253952 drawing in total\n",
      "25\n",
      "Loaded train_10pc_hand.ndjson from /home/jupyter/data/train_data/\n",
      "train_10pc_hand.ndjson downloaded: 20425 drawings\n",
      "train_10pc_hand.ndjson appended: 274377 drawing in total\n",
      "26\n",
      "Loaded train_10pc_hat.ndjson from /home/jupyter/data/train_data/\n",
      "train_10pc_hat.ndjson downloaded: 15583 drawings\n",
      "train_10pc_hat.ndjson appended: 289960 drawing in total\n",
      "27\n",
      "Loaded train_10pc_horse.ndjson from /home/jupyter/data/train_data/\n",
      "train_10pc_horse.ndjson downloaded: 12480 drawings\n",
      "train_10pc_horse.ndjson appended: 302440 drawing in total\n",
      "28\n",
      "Loaded train_10pc_light bulb.ndjson from /home/jupyter/data/train_data/\n",
      "train_10pc_light bulb.ndjson downloaded: 8462 drawings\n",
      "train_10pc_light bulb.ndjson appended: 310902 drawing in total\n",
      "29\n",
      "Loaded train_10pc_lighthouse.ndjson from /home/jupyter/data/train_data/\n",
      "train_10pc_lighthouse.ndjson downloaded: 11264 drawings\n",
      "train_10pc_lighthouse.ndjson appended: 322166 drawing in total\n",
      "30\n",
      "Loaded train_10pc_line.ndjson from /home/jupyter/data/train_data/\n",
      "train_10pc_line.ndjson downloaded: 10049 drawings\n",
      "train_10pc_line.ndjson appended: 332215 drawing in total\n",
      "31\n",
      "Loaded train_10pc_marker.ndjson from /home/jupyter/data/train_data/\n",
      "train_10pc_marker.ndjson downloaded: 22340 drawings\n",
      "train_10pc_marker.ndjson appended: 354555 drawing in total\n",
      "32\n",
      "Loaded train_10pc_mountain.ndjson from /home/jupyter/data/train_data/\n",
      "train_10pc_mountain.ndjson downloaded: 8998 drawings\n",
      "train_10pc_mountain.ndjson appended: 363553 drawing in total\n",
      "33\n",
      "Loaded train_10pc_mouse.ndjson from /home/jupyter/data/train_data/\n",
      "train_10pc_mouse.ndjson downloaded: 12518 drawings\n",
      "train_10pc_mouse.ndjson appended: 376071 drawing in total\n",
      "34\n",
      "Loaded train_10pc_parachute.ndjson from /home/jupyter/data/train_data/\n",
      "train_10pc_parachute.ndjson downloaded: 8913 drawings\n",
      "train_10pc_parachute.ndjson appended: 384984 drawing in total\n",
      "35\n",
      "Loaded train_10pc_passport.ndjson from /home/jupyter/data/train_data/\n",
      "train_10pc_passport.ndjson downloaded: 10519 drawings\n",
      "train_10pc_passport.ndjson appended: 395503 drawing in total\n",
      "36\n",
      "Loaded train_10pc_pliers.ndjson from /home/jupyter/data/train_data/\n",
      "train_10pc_pliers.ndjson downloaded: 12079 drawings\n",
      "train_10pc_pliers.ndjson appended: 407582 drawing in total\n",
      "37\n",
      "Loaded train_10pc_potato.ndjson from /home/jupyter/data/train_data/\n",
      "train_10pc_potato.ndjson downloaded: 23045 drawings\n",
      "train_10pc_potato.ndjson appended: 430627 drawing in total\n",
      "38\n",
      "Loaded train_10pc_sea turtle.ndjson from /home/jupyter/data/train_data/\n",
      "train_10pc_sea turtle.ndjson downloaded: 8392 drawings\n",
      "train_10pc_sea turtle.ndjson appended: 439019 drawing in total\n",
      "39\n",
      "Loaded train_10pc_snowflake.ndjson from /home/jupyter/data/train_data/\n",
      "train_10pc_snowflake.ndjson downloaded: 8168 drawings\n",
      "train_10pc_snowflake.ndjson appended: 447187 drawing in total\n",
      "40\n",
      "Loaded train_10pc_spider.ndjson from /home/jupyter/data/train_data/\n",
      "train_10pc_spider.ndjson downloaded: 14662 drawings\n",
      "train_10pc_spider.ndjson appended: 461849 drawing in total\n",
      "41\n",
      "Loaded train_10pc_square.ndjson from /home/jupyter/data/train_data/\n",
      "train_10pc_square.ndjson downloaded: 8761 drawings\n",
      "train_10pc_square.ndjson appended: 470610 drawing in total\n",
      "42\n",
      "Loaded train_10pc_steak.ndjson from /home/jupyter/data/train_data/\n",
      "train_10pc_steak.ndjson downloaded: 8543 drawings\n",
      "train_10pc_steak.ndjson appended: 479153 drawing in total\n",
      "43\n",
      "Loaded train_10pc_swing set.ndjson from /home/jupyter/data/train_data/\n",
      "train_10pc_swing set.ndjson downloaded: 8355 drawings\n",
      "train_10pc_swing set.ndjson appended: 487508 drawing in total\n",
      "44\n",
      "Loaded train_10pc_sword.ndjson from /home/jupyter/data/train_data/\n",
      "train_10pc_sword.ndjson downloaded: 8667 drawings\n",
      "train_10pc_sword.ndjson appended: 496175 drawing in total\n",
      "45\n",
      "Loaded train_10pc_telephone.ndjson from /home/jupyter/data/train_data/\n",
      "train_10pc_telephone.ndjson downloaded: 8952 drawings\n",
      "train_10pc_telephone.ndjson appended: 505127 drawing in total\n",
      "46\n",
      "Loaded train_10pc_television.ndjson from /home/jupyter/data/train_data/\n",
      "train_10pc_television.ndjson downloaded: 8620 drawings\n",
      "train_10pc_television.ndjson appended: 513747 drawing in total\n",
      "47\n",
      "Loaded train_10pc_tooth.ndjson from /home/jupyter/data/train_data/\n",
      "train_10pc_tooth.ndjson downloaded: 8755 drawings\n",
      "train_10pc_tooth.ndjson appended: 522502 drawing in total\n",
      "48\n",
      "Loaded train_10pc_traffic light.ndjson from /home/jupyter/data/train_data/\n",
      "train_10pc_traffic light.ndjson downloaded: 8773 drawings\n",
      "train_10pc_traffic light.ndjson appended: 531275 drawing in total\n",
      "49\n",
      "Loaded train_10pc_trumpet.ndjson from /home/jupyter/data/train_data/\n",
      "train_10pc_trumpet.ndjson downloaded: 11869 drawings\n",
      "train_10pc_trumpet.ndjson appended: 543144 drawing in total\n",
      "50\n",
      "Loaded train_10pc_violin.ndjson from /home/jupyter/data/train_data/\n",
      "train_10pc_violin.ndjson downloaded: 15209 drawings\n",
      "train_10pc_violin.ndjson appended: 558353 drawing in total\n",
      "Saved data to /home/jupyter/data/all_classes/train_50_classes.json\n"
     ]
    }
   ],
   "source": [
    "folder_path = '/home/jupyter/data/train_data/'\n",
    "\n",
    "appended_json = []\n",
    "\n",
    "appended_json = append_random_jsons_from_local(folder_path, train_10_pc, 50)\n",
    "\n",
    "save_json_to_local(appended_json, '/home/jupyter/data/all_classes/', 'train_50_classes.json')"
   ]
  },
  {
   "cell_type": "code",
   "execution_count": 91,
   "id": "a24beffe-4bec-4cec-948a-d0cb0fa97946",
   "metadata": {
    "tags": []
   },
   "outputs": [
    {
     "name": "stdout",
     "output_type": "stream",
     "text": [
      "Saved data to /home/jupyter/data/all_classes/train_50_classes_shuffled.json\n"
     ]
    }
   ],
   "source": [
    "random.shuffle(appended_json)\n",
    "\n",
    "save_json_to_local(appended_json, '/home/jupyter/data/all_classes/', 'train_50_classes_shuffled.json')"
   ]
  },
  {
   "cell_type": "code",
   "execution_count": 92,
   "id": "b9d4f14b-b135-4bcd-a617-0c8ad3ad0194",
   "metadata": {
    "tags": []
   },
   "outputs": [
    {
     "data": {
      "text/plain": [
       "558353"
      ]
     },
     "execution_count": 92,
     "metadata": {},
     "output_type": "execute_result"
    }
   ],
   "source": [
    "len(appended_json)"
   ]
  },
  {
   "cell_type": "code",
   "execution_count": 93,
   "id": "e20af323-9d4f-4282-bfd2-ef6622401c59",
   "metadata": {
    "tags": []
   },
   "outputs": [
    {
     "name": "stdout",
     "output_type": "stream",
     "text": [
      "['potato', 'potato', 'light bulb', 'spider', 'snowflake', 'banana', 'square', 'flying saucer', 'hand', 'hat', 'basketball', 'mouse', 'arm', 'tooth', 'pliers', 'cookie', 'face', 'camel', 'tooth', 'sword', 'mountain', 'fish', 'parachute', 'light bulb', 'bread', 'lighthouse', 'fence', 'violin', 'marker', 'line', 'canoe', 'light bulb', 'trumpet', 'television', 'bottlecap', 'lighthouse', 'asparagus', 'eyeglasses', 'snowflake', 'sword', 'hat', 'hand', 'potato', 'backpack', 'marker', 'face', 'chair', 'eyeglasses', 'asparagus', 'camel']\n"
     ]
    }
   ],
   "source": [
    "print([drawing['class'] for drawing in appended_json[0:50]])"
   ]
  },
  {
   "cell_type": "code",
   "execution_count": 94,
   "id": "291ed711-65b2-4917-81da-9bac7a8af8e9",
   "metadata": {
    "tags": []
   },
   "outputs": [
    {
     "name": "stdout",
     "output_type": "stream",
     "text": [
      "Saved data to /home/jupyter/data/all_classes/X_train_50_classes.json\n",
      "Saved data to /home/jupyter/data/all_classes/y_train_50_classes.json\n"
     ]
    }
   ],
   "source": [
    "# Extract X_train list deltas\n",
    "X_train_50_classes = [{'key_id':drawing['key_id'], 'class':drawing['class'],'list_deltas':drawing['list_deltas']} for drawing in appended_json]\n",
    "\n",
    "save_json_to_local(X_train_50_classes, '/home/jupyter/data/all_classes/', 'X_train_50_classes.json')\n",
    "\n",
    "# Extract and re-OHC y_train classes\n",
    "y_train_50_classes = [{'key_id':drawing['key_id'], 'class':drawing['class'],'OHC_class':OHC_class_name(drawing['class'])} for drawing in appended_json]\n",
    "\n",
    "save_json_to_local(y_train_50_classes, '/home/jupyter/data/all_classes/', 'y_train_50_classes.json')"
   ]
  },
  {
   "cell_type": "code",
   "execution_count": 98,
   "id": "304a8ebb-7dd5-4701-9314-6c8845ccc837",
   "metadata": {
    "collapsed": true,
    "jupyter": {
     "outputs_hidden": true
    },
    "tags": []
   },
   "outputs": [
    {
     "data": {
      "text/plain": [
       "{'key_id': '6467442496765952',\n",
       " 'class': 'potato',\n",
       " 'OHC_class': [[0.0,\n",
       "   0.0,\n",
       "   0.0,\n",
       "   0.0,\n",
       "   0.0,\n",
       "   0.0,\n",
       "   0.0,\n",
       "   0.0,\n",
       "   0.0,\n",
       "   0.0,\n",
       "   0.0,\n",
       "   0.0,\n",
       "   0.0,\n",
       "   0.0,\n",
       "   0.0,\n",
       "   0.0,\n",
       "   0.0,\n",
       "   0.0,\n",
       "   0.0,\n",
       "   0.0,\n",
       "   0.0,\n",
       "   0.0,\n",
       "   0.0,\n",
       "   0.0,\n",
       "   0.0,\n",
       "   0.0,\n",
       "   0.0,\n",
       "   0.0,\n",
       "   0.0,\n",
       "   0.0,\n",
       "   0.0,\n",
       "   0.0,\n",
       "   0.0,\n",
       "   0.0,\n",
       "   0.0,\n",
       "   0.0,\n",
       "   1.0,\n",
       "   0.0,\n",
       "   0.0,\n",
       "   0.0,\n",
       "   0.0,\n",
       "   0.0,\n",
       "   0.0,\n",
       "   0.0,\n",
       "   0.0,\n",
       "   0.0,\n",
       "   0.0,\n",
       "   0.0,\n",
       "   0.0,\n",
       "   0.0]]}"
      ]
     },
     "execution_count": 98,
     "metadata": {},
     "output_type": "execute_result"
    }
   ],
   "source": [
    "y_train_50_classes[0]"
   ]
  },
  {
   "cell_type": "code",
   "execution_count": null,
   "id": "728f1003-1cc5-4e36-b21c-4b6a61c2ffa7",
   "metadata": {},
   "outputs": [],
   "source": []
  },
  {
   "cell_type": "markdown",
   "id": "3e5d2658-3872-4670-b6c3-4ea00f472dbf",
   "metadata": {
    "tags": []
   },
   "source": [
    "# Upload to Google Cloud"
   ]
  },
  {
   "cell_type": "code",
   "execution_count": 96,
   "id": "232f3778-a74e-46ce-8eb9-e2dd410e7d17",
   "metadata": {
    "tags": []
   },
   "outputs": [],
   "source": [
    "# Upload a local file to a bucket\n",
    "def upload_blob_from_local_file(source_path: str, source_file_name:str, bucket_name: str, destination_blob_name:str = None) -> None:\n",
    "    '''\n",
    "    Uploads a file to the bucket.\n",
    "    '''\n",
    "    # Initialize a client\n",
    "    storage_client = storage.Client()\n",
    "\n",
    "    # Get the bucket\n",
    "    bucket = storage_client.bucket(bucket_name)\n",
    "\n",
    "    # Use the file name for the blob name if a blob name is not provided\n",
    "    if destination_blob_name is None:\n",
    "        destination_blob_name = source_file_name\n",
    "\n",
    "    # Create a blob\n",
    "    blob = bucket.blob(destination_blob_name)\n",
    "\n",
    "    # Define the source file path\n",
    "    source_file_path = '/'.join((source_path, source_file_name))\n",
    "\n",
    "    # Upload the file to the blob\n",
    "    blob.upload_from_filename(source_file_path)"
   ]
  },
  {
   "cell_type": "code",
   "execution_count": 97,
   "id": "07fedf1d-78b7-4ffb-a5f2-fce645749f9e",
   "metadata": {
    "tags": []
   },
   "outputs": [
    {
     "name": "stdout",
     "output_type": "stream",
     "text": [
      "X_train_50_classes.json uploaded to quickdraw-simplified-traintest\n",
      "y_train_50_classes.json uploaded to quickdraw-simplified-traintest\n",
      "X_test_50_classes.json uploaded to quickdraw-simplified-traintest\n",
      "y_test_50_classes.json uploaded to quickdraw-simplified-traintest\n"
     ]
    }
   ],
   "source": [
    "bucket_name_2 = 'quickdraw-simplified-traintest'\n",
    "source_path = '/home/jupyter/data/all_classes/'\n",
    "source_file_name1 = 'X_train_50_classes.json'\n",
    "source_file_name2 = 'y_train_50_classes.json'\n",
    "source_file_name3 = 'X_test_50_classes.json'\n",
    "source_file_name4 = 'y_test_50_classes.json'\n",
    "\n",
    "upload_blob_from_local_file(source_path, source_file_name1, bucket_name_2)\n",
    "print(f'{source_file_name1} uploaded to {bucket_name_2}')\n",
    "upload_blob_from_local_file(source_path, source_file_name2, bucket_name_2)\n",
    "print(f'{source_file_name2} uploaded to {bucket_name_2}')\n",
    "upload_blob_from_local_file(source_path, source_file_name3, bucket_name_2)\n",
    "print(f'{source_file_name3} uploaded to {bucket_name_2}')\n",
    "upload_blob_from_local_file(source_path, source_file_name4, bucket_name_2)\n",
    "print(f'{source_file_name4} uploaded to {bucket_name_2}')"
   ]
  },
  {
   "cell_type": "code",
   "execution_count": null,
   "id": "bef531c1-25b9-437d-b04f-333b79426bac",
   "metadata": {},
   "outputs": [],
   "source": []
  }
 ],
 "metadata": {
  "environment": {
   "kernel": "python3",
   "name": "tf2-cpu.2-11.m118",
   "type": "gcloud",
   "uri": "us-docker.pkg.dev/deeplearning-platform-release/gcr.io/tf2-cpu.2-11:m118"
  },
  "kernelspec": {
   "display_name": "Python 3",
   "language": "python",
   "name": "python3"
  },
  "language_info": {
   "codemirror_mode": {
    "name": "ipython",
    "version": 3
   },
   "file_extension": ".py",
   "mimetype": "text/x-python",
   "name": "python",
   "nbconvert_exporter": "python",
   "pygments_lexer": "ipython3",
   "version": "3.10.13"
  }
 },
 "nbformat": 4,
 "nbformat_minor": 5
}
