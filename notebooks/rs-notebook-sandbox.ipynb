{
 "cells": [
  {
   "cell_type": "markdown",
   "id": "0fb68f9f",
   "metadata": {},
   "source": [
    "# ADAPTING PROCESSED DATA TO FIT INTO MODEL"
   ]
  },
  {
   "cell_type": "code",
   "execution_count": 3,
   "id": "8162f0ec",
   "metadata": {},
   "outputs": [],
   "source": [
    "# Import packages\n",
    "import pandas as pd\n",
    "import numpy as np\n",
    "import ndjson"
   ]
  },
  {
   "cell_type": "code",
   "execution_count": null,
   "id": "60de185e",
   "metadata": {},
   "outputs": [],
   "source": [
    "# Download information from GCloud buckets"
   ]
  },
  {
   "cell_type": "code",
   "execution_count": 10,
   "id": "b501c531",
   "metadata": {},
   "outputs": [],
   "source": [
    "# Applying padding to a drawing array\n",
    "def add_padding(array_drawing: np.ndarray, max_length: int) -> np.ndarray:\n",
    "    if len(array_drawing) >= 150 : \n",
    "        return array_drawing[0:150]\n",
    "    else :\n",
    "        pad_length = 150 - len(array_drawing)\n",
    "        padding = [[99,99,99]]\n",
    "        return np.concatenate((array_drawing,np.array(padding*pad_length)),axis=0)"
   ]
  },
  {
   "cell_type": "code",
   "execution_count": 5,
   "id": "2ad959b3",
   "metadata": {},
   "outputs": [
    {
     "data": {
      "text/plain": [
       "numpy.ndarray"
      ]
     },
     "execution_count": 5,
     "metadata": {},
     "output_type": "execute_result"
    }
   ],
   "source": []
  },
  {
   "cell_type": "code",
   "execution_count": null,
   "id": "515aa092",
   "metadata": {},
   "outputs": [],
   "source": []
  },
  {
   "cell_type": "code",
   "execution_count": null,
   "id": "a661cc65",
   "metadata": {},
   "outputs": [],
   "source": []
  },
  {
   "cell_type": "code",
   "execution_count": null,
   "id": "bc25cfb6",
   "metadata": {},
   "outputs": [],
   "source": []
  },
  {
   "cell_type": "code",
   "execution_count": null,
   "id": "84c9bd54",
   "metadata": {},
   "outputs": [],
   "source": []
  }
 ],
 "metadata": {
  "kernelspec": {
   "display_name": "Python 3 (ipykernel)",
   "language": "python",
   "name": "python3"
  },
  "language_info": {
   "codemirror_mode": {
    "name": "ipython",
    "version": 3
   },
   "file_extension": ".py",
   "mimetype": "text/x-python",
   "name": "python",
   "nbconvert_exporter": "python",
   "pygments_lexer": "ipython3",
   "version": "3.10.6"
  },
  "toc": {
   "base_numbering": 1,
   "nav_menu": {},
   "number_sections": true,
   "sideBar": true,
   "skip_h1_title": false,
   "title_cell": "Table of Contents",
   "title_sidebar": "Contents",
   "toc_cell": false,
   "toc_position": {},
   "toc_section_display": true,
   "toc_window_display": false
  }
 },
 "nbformat": 4,
 "nbformat_minor": 5
}
