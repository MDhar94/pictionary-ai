{
 "cells": [
  {
   "cell_type": "markdown",
   "id": "0fb68f9f",
   "metadata": {},
   "source": [
    "# ADAPTING PROCESSED DATA TO FIT INTO MODEL"
   ]
  },
  {
   "cell_type": "code",
   "execution_count": 12,
   "id": "8162f0ec",
   "metadata": {},
   "outputs": [
    {
     "ename": "ModuleNotFoundError",
     "evalue": "No module named 'code.utils'; 'code' is not a package",
     "output_type": "error",
     "traceback": [
      "\u001b[0;31m---------------------------------------------------------------------------\u001b[0m",
      "\u001b[0;31mModuleNotFoundError\u001b[0m                       Traceback (most recent call last)",
      "Cell \u001b[0;32mIn [12], line 6\u001b[0m\n\u001b[1;32m      3\u001b[0m \u001b[38;5;28;01mimport\u001b[39;00m \u001b[38;5;21;01mnumpy\u001b[39;00m \u001b[38;5;28;01mas\u001b[39;00m \u001b[38;5;21;01mnp\u001b[39;00m\n\u001b[1;32m      4\u001b[0m \u001b[38;5;28;01mimport\u001b[39;00m \u001b[38;5;21;01mndjson\u001b[39;00m\n\u001b[0;32m----> 6\u001b[0m \u001b[38;5;28;01mfrom\u001b[39;00m \u001b[38;5;21;01mcode\u001b[39;00m\u001b[38;5;21;01m.\u001b[39;00m\u001b[38;5;21;01mutils\u001b[39;00m \u001b[38;5;28;01mimport\u001b[39;00m upload_blob\n",
      "\u001b[0;31mModuleNotFoundError\u001b[0m: No module named 'code.utils'; 'code' is not a package"
     ]
    }
   ],
   "source": [
    "# Import packages\n",
    "import pandas as pd\n",
    "import numpy as np\n",
    "import ndjson\n",
    "\n",
    "# from utils import upload_blobS"
   ]
  },
  {
   "cell_type": "code",
   "execution_count": null,
   "id": "60de185e",
   "metadata": {},
   "outputs": [],
   "source": [
    "# Download information from GCloud buckets"
   ]
  },
  {
   "cell_type": "code",
   "execution_count": 10,
   "id": "b501c531",
   "metadata": {},
   "outputs": [],
   "source": [
    "# Applying padding to a drawing array\n",
    "def add_padding(array_drawing: np.ndarray, max_length: int) -> np.ndarray:\n",
    "    \n",
    "    # Define values for padding layers - e.g. [99,99,99]\n",
    "    padding = [[99,99,99]]\n",
    "    \n",
    "    # If array is greater than max_length slice off remainder of array\n",
    "    if len(array_drawing) >= max_length : \n",
    "        return array_drawing[0:150]\n",
    "    \n",
    "    # If array is less than max_length, adding padding \n",
    "    else :\n",
    "        pad_length = max_length - len(array_drawing)\n",
    "        return np.concatenate((array_drawing,np.array(padding*pad_length)),axis=0)"
   ]
  },
  {
   "cell_type": "code",
   "execution_count": null,
   "id": "047e48ff",
   "metadata": {},
   "outputs": [],
   "source": [
    "# "
   ]
  },
  {
   "cell_type": "code",
   "execution_count": 13,
   "id": "515aa092",
   "metadata": {},
   "outputs": [],
   "source": [
    "# Upload a file to a bucket\n",
    "def upload_blob(bucket_name, source_file_name, destination_blob_name) -> None:\n",
    "    '''\n",
    "    Uploads a file to the bucket.\n",
    "    '''\n",
    "    # Initialize a client\n",
    "    storage_client = storage.Client()\n",
    "\n",
    "    # Get the bucket\n",
    "    bucket = storage_client.bucket(bucket_name)\n",
    "\n",
    "    # Create a blob\n",
    "    blob = bucket.blob(destination_blob_name)\n",
    "\n",
    "    # Upload the file to the blob\n",
    "    blob.upload_from_filename(source_file_name)"
   ]
  },
  {
   "cell_type": "code",
   "execution_count": null,
   "id": "a661cc65",
   "metadata": {},
   "outputs": [],
   "source": []
  },
  {
   "cell_type": "code",
   "execution_count": null,
   "id": "bc25cfb6",
   "metadata": {},
   "outputs": [],
   "source": []
  },
  {
   "cell_type": "code",
   "execution_count": null,
   "id": "84c9bd54",
   "metadata": {},
   "outputs": [],
   "source": []
  }
 ],
 "metadata": {
  "kernelspec": {
   "display_name": "Python 3 (ipykernel)",
   "language": "python",
   "name": "python3"
  },
  "language_info": {
   "codemirror_mode": {
    "name": "ipython",
    "version": 3
   },
   "file_extension": ".py",
   "mimetype": "text/x-python",
   "name": "python",
   "nbconvert_exporter": "python",
   "pygments_lexer": "ipython3",
   "version": "3.10.6"
  },
  "toc": {
   "base_numbering": 1,
   "nav_menu": {},
   "number_sections": true,
   "sideBar": true,
   "skip_h1_title": false,
   "title_cell": "Table of Contents",
   "title_sidebar": "Contents",
   "toc_cell": false,
   "toc_position": {},
   "toc_section_display": true,
   "toc_window_display": false
  }
 },
 "nbformat": 4,
 "nbformat_minor": 5
}
