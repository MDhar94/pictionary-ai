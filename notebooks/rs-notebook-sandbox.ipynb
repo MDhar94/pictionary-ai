{
 "cells": [
  {
   "cell_type": "markdown",
   "id": "0fb68f9f",
   "metadata": {},
   "source": [
    "# ADAPTING PROCESSED DATA TO FIT INTO MODEL"
   ]
  },
  {
   "cell_type": "code",
   "execution_count": 25,
   "id": "5c37281f",
   "metadata": {},
   "outputs": [
    {
     "name": "stderr",
     "output_type": "stream",
     "text": [
      "UsageError: Cell magic `%%autoreload` not found.\n"
     ]
    }
   ],
   "source": [
    "%%autoreload"
   ]
  },
  {
   "cell_type": "code",
   "execution_count": 20,
   "id": "ba22bcc9",
   "metadata": {},
   "outputs": [],
   "source": [
    "# Import packages\n",
    "import pandas as pd\n",
    "import numpy as np\n",
    "import ndjson\n",
    "\n",
    "# from utils import upload_blobS\n",
    "\n",
    "from sklearn.preprocessing import OneHotEncoder"
   ]
  },
  {
   "cell_type": "code",
   "execution_count": 2,
   "id": "8162f0ec",
   "metadata": {},
   "outputs": [],
   "source": [
    "from pictionary_ai.params import *\n",
    "from pictionary_ai.utils import *"
   ]
  },
  {
   "cell_type": "code",
   "execution_count": null,
   "id": "60de185e",
   "metadata": {},
   "outputs": [],
   "source": [
    "# Download information from GCloud buckets\n",
    "\n"
   ]
  },
  {
   "cell_type": "code",
   "execution_count": 10,
   "id": "b501c531",
   "metadata": {},
   "outputs": [],
   "source": [
    "# Applying padding to a drawing array\n",
    "def add_padding(array_drawing: np.ndarray, max_length: int) -> np.ndarray:\n",
    "    \n",
    "    # Define values for padding layers - e.g. [99,99,99]\n",
    "    padding = [[99,99,99]]\n",
    "    \n",
    "    # If array is greater than max_length slice off remainder of array\n",
    "    if len(array_drawing) >= max_length : \n",
    "        return array_drawing[0:150]\n",
    "    \n",
    "    # If array is less than max_length, adding padding \n",
    "    else :\n",
    "        pad_length = max_length - len(array_drawing)\n",
    "        return np.concatenate((array_drawing,np.array(padding*pad_length)),axis=0)"
   ]
  },
  {
   "cell_type": "code",
   "execution_count": null,
   "id": "0e201322",
   "metadata": {},
   "outputs": [],
   "source": [
    "# One HOt Encoding \n",
    "target_encoder = OneHotEncoder(sparse_output=False)\n",
    "y_encoded = target_encoder.fit_transform(y)"
   ]
  },
  {
   "cell_type": "code",
   "execution_count": 13,
   "id": "515aa092",
   "metadata": {},
   "outputs": [],
   "source": [
    "# Upload a file to a bucket\n",
    "def upload_blob(bucket_name, source_file_name, destination_blob_name) -> None:\n",
    "    '''\n",
    "    Uploads a file to the bucket.\n",
    "    '''\n",
    "    # Initialize a client\n",
    "    storage_client = storage.Client()\n",
    "\n",
    "    # Get the bucket\n",
    "    bucket = storage_client.bucket(bucket_name)\n",
    "\n",
    "    # Create a blob\n",
    "    blob = bucket.blob(destination_blob_name)\n",
    "\n",
    "    # Upload the file to the blob\n",
    "    blob.upload_from_filename(source_file_name)"
   ]
  },
  {
   "cell_type": "code",
   "execution_count": null,
   "id": "a661cc65",
   "metadata": {},
   "outputs": [],
   "source": []
  },
  {
   "cell_type": "code",
   "execution_count": null,
   "id": "bc25cfb6",
   "metadata": {},
   "outputs": [],
   "source": []
  },
  {
   "cell_type": "code",
   "execution_count": null,
   "id": "84c9bd54",
   "metadata": {},
   "outputs": [],
   "source": []
  }
 ],
 "metadata": {
  "kernelspec": {
   "display_name": "Python 3 (ipykernel)",
   "language": "python",
   "name": "python3"
  },
  "language_info": {
   "codemirror_mode": {
    "name": "ipython",
    "version": 3
   },
   "file_extension": ".py",
   "mimetype": "text/x-python",
   "name": "python",
   "nbconvert_exporter": "python",
   "pygments_lexer": "ipython3",
   "version": "3.10.6"
  },
  "toc": {
   "base_numbering": 1,
   "nav_menu": {},
   "number_sections": true,
   "sideBar": true,
   "skip_h1_title": false,
   "title_cell": "Table of Contents",
   "title_sidebar": "Contents",
   "toc_cell": false,
   "toc_position": {},
   "toc_section_display": true,
   "toc_window_display": false
  }
 },
 "nbformat": 4,
 "nbformat_minor": 5
}
