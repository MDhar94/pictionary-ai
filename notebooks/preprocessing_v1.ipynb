{
 "cells": [
  {
   "cell_type": "code",
   "execution_count": 12,
   "id": "3bff144d-0e16-48ac-a555-072d2dd0f908",
   "metadata": {},
   "outputs": [],
   "source": [
    "import numpy as np\n",
    "import pandas as pd\n",
    "import os\n",
    "import json\n",
    "import matplotlib.pyplot as plt\n",
    "import linecache\n",
    "from google.cloud import storage"
   ]
  },
  {
   "cell_type": "markdown",
   "id": "78ab787a-b31b-4be9-9849-426783666d85",
   "metadata": {
    "jp-MarkdownHeadingCollapsed": true
   },
   "source": [
    "# RAW EXAMPLE"
   ]
  },
  {
   "cell_type": "markdown",
   "id": "1f31cd2f-809d-4049-99e4-8c2541810e31",
   "metadata": {},
   "source": [
    "Example taken from the simplfied database on : \n",
    "https://console.cloud.google.com/storage/browserquickdraw_dataset/full/raw"
   ]
  },
  {
   "cell_type": "code",
   "execution_count": null,
   "id": "d25bc8f4-fc99-4a8a-9838-017d3baff63c",
   "metadata": {},
   "outputs": [],
   "source": [
    "#RAW DATA: Example \n",
    "df = pd.DataFrame()\n",
    "with open(data_path, 'r') as f:\n",
    "     for i, line in enumerate(f):\n",
    "            if i > 0:\n",
    "                break\n",
    "\n",
    "            json_line = json.loads(line)\n",
    "            df = pd.concat([df, pd.DataFrame(json_line)], ignore_index=True)\n",
    "#             print(type(json_line))\n",
    "#             print(json_line.keys())\n",
    "#             print(json_line['word'], len(json_line['drawing']))\n",
    "            coords = json_line['drawing']\n",
    "    \n",
    "            for vector in coords:\n",
    "                print(len(vector))\n",
    "                print(vector)\n",
    "           "
   ]
  },
  {
   "cell_type": "code",
   "execution_count": null,
   "id": "3a387306",
   "metadata": {},
   "outputs": [],
   "source": [
    "df"
   ]
  },
  {
   "cell_type": "code",
   "execution_count": null,
   "id": "6524bc4c",
   "metadata": {},
   "outputs": [],
   "source": [
    "df[\"drawing\"][0][0:1]"
   ]
  },
  {
   "cell_type": "code",
   "execution_count": null,
   "id": "822b377e-3189-45d7-b302-00b2ee04fd9d",
   "metadata": {},
   "outputs": [],
   "source": [
    "drawing_test= df[\"drawing\"][0][2]\n",
    "drawing_test"
   ]
  },
  {
   "cell_type": "code",
   "execution_count": null,
   "id": "ac73de65-c36f-498b-9a60-c1a55fbd34fd",
   "metadata": {},
   "outputs": [],
   "source": [
    "\n",
    "# Extract data from the first row\n",
    "first_row = df.loc[0]  # Change the index if needed\n",
    "\n",
    "# Extract x, y, and time lists\n",
    "x_values = first_row['drawing'][0]\n",
    "y_values = first_row['drawing'][1]\n",
    "\n",
    "# Create a scatter plot of the points\n",
    "plt.scatter(x_values, y_values, color='blue', marker='o', label='Points')\n",
    "\n",
    "# Connect the points with lines\n",
    "for i in range(len(x_values) - 1):\n",
    "    plt.plot([x_values[i], x_values[i + 1]], [y_values[i], y_values[i + 1]], color='red')\n",
    "\n",
    "# Customize the plot (add labels, title, etc.)\n",
    "plt.xlabel('X-coordinate')\n",
    "plt.ylabel('Y-coordinate')\n",
    "plt.title('Drawing from First RAW Row')\n",
    "plt.grid(True)\n",
    "plt.legend()\n",
    "\n",
    "# Show the plot\n",
    "plt.show()\n"
   ]
  },
  {
   "cell_type": "code",
   "execution_count": null,
   "id": "be3bbeda-57db-4fcf-810a-e09a137b5389",
   "metadata": {},
   "outputs": [],
   "source": [
    "# Extract data from the first drawing \n",
    "\n",
    "\n",
    "\n",
    "# Create a new figure for the combined drawing\n",
    "plt.figure(figsize=(8, 6))\n",
    "\n",
    "# Iterate through each row and plot the points\n",
    "num_rows = df.shape[0]\n",
    "for i in range(num_rows):\n",
    "    x_values = df.loc[i, 'drawing'][0]\n",
    "    y_values = df.loc[i, 'drawing'][1]\n",
    "    plt.plot(x_values, y_values, label=f\"Row {i}\")\n",
    "\n",
    "    # Create a scatter plot of the points\n",
    "    plt.scatter(x_values, y_values, color='blue', marker='o', label='Points')\n",
    "\n",
    "# Connect the points with lines\n",
    "for i in range(len(x_values) - 1):\n",
    "    plt.plot([x_values[i], x_values[i + 1]], [y_values[i], y_values[i + 1]], color='red')\n",
    "\n",
    "# Customize the plot (add labels, title, etc.)\n",
    "plt.xlabel('X-coordinate')\n",
    "plt.ylabel('Y-coordinate')\n",
    "plt.title('Drawing from First RAW drawing')\n",
    "plt.grid(True)\n",
    "plt.legend()\n",
    "\n",
    "# Show the plot\n",
    "plt.show()"
   ]
  },
  {
   "cell_type": "markdown",
   "id": "ed064ed3-6727-4def-ab53-eb9fab13d4e9",
   "metadata": {},
   "source": [
    "# SIMPLIFIED EXAMPLE"
   ]
  },
  {
   "cell_type": "markdown",
   "id": "4f43dbb9-1921-4db0-8c06-04858264b304",
   "metadata": {},
   "source": [
    "Example taken from the simplfied database on :\n",
    "https://console.cloud.google.com/storage/browser/quickdraw_dataset/full/simplified"
   ]
  },
  {
   "cell_type": "code",
   "execution_count": null,
   "id": "52bfa68f-12e9-4372-b76b-619eb401babd",
   "metadata": {},
   "outputs": [],
   "source": [
    "#command to download the examle in terminal: gsutil -m cp 'gs://quickdraw_dataset/full/simplified/axe.ndjson' ."
   ]
  },
  {
   "cell_type": "code",
   "execution_count": null,
   "id": "ba443c5e-6bbf-4ef0-a541-4023859d8d88",
   "metadata": {},
   "outputs": [],
   "source": [
    "# # Download this face file (simplified) and rename it full_simplified_face:\n",
    "# gsutil -m cp 'gs://quickdraw_dataset/full/simplified/face.ndjson' full_simplified_face.ndjson\n"
   ]
  },
  {
   "cell_type": "code",
   "execution_count": 13,
   "id": "17bae907-eec2-4c5c-a0dd-3b77e497d0fc",
   "metadata": {},
   "outputs": [],
   "source": [
    "path_data = '/Users/loicregne/code/rs-uk/raw_data'\n",
    "file_name = 'full_simplified_face.ndjson'"
   ]
  },
  {
   "cell_type": "markdown",
   "id": "acbb3397-b992-468e-9f14-af63196fb30e",
   "metadata": {},
   "source": [
    "# Processing Simplified file"
   ]
  },
  {
   "cell_type": "code",
   "execution_count": 14,
   "id": "38124873-b3fd-4201-8ec3-47f64a833e42",
   "metadata": {},
   "outputs": [],
   "source": [
    "##Define the function to process the Simplified file and return an array and class name (the drawing to guess)\n",
    "def parse_line(json_drawing: json) -> dict:\n",
    "    \"\"\"Parse an ndjson line and return ink (as np array) and classname.\"\"\"\n",
    "    class_name = json_drawing[\"word\"]\n",
    "    inkarray = json_drawing[\"drawing\"]\n",
    "    stroke_lengths = [len(stroke[0]) for stroke in inkarray]\n",
    "    total_points = sum(stroke_lengths)\n",
    "    np_ink = np.zeros((total_points, 3), dtype=np.float32)\n",
    "    current_t = 0\n",
    "    for stroke in inkarray:\n",
    "        for i in [0, 1]:\n",
    "            np_ink[current_t:(current_t + len(stroke[0])), i] = stroke[i]\n",
    "        current_t += len(stroke[0])\n",
    "        np_ink[current_t - 1, 2] = 1  # stroke_end\n",
    "\n",
    "    # Preprocessing.\n",
    "    # 1. Size normalization.\n",
    "    lower = np.min(np_ink[:, 0:2], axis=0)\n",
    "    upper = np.max(np_ink[:, 0:2], axis=0)\n",
    "    scale = upper - lower\n",
    "    scale[scale == 0] = 1\n",
    "    np_ink[:, 0:2] = (np_ink[:, 0:2] - lower) / scale\n",
    "\n",
    "    # 2. Compute deltas.\n",
    "    np_ink[1:, 0:2] -= np_ink[0:-1, 0:2]\n",
    "    np_ink = np_ink[1:, :]\n",
    "    return np.round(np_ink,5), class_name"
   ]
  },
  {
   "cell_type": "code",
   "execution_count": 37,
   "id": "3ef816f2-0ceb-4764-b277-911984d6b1fe",
   "metadata": {},
   "outputs": [],
   "source": [
    "##Define the function to process the Simplified file and return an array and class name (the drawing to guess)\n",
    "def get_drawing_data(json_drawing: json) -> np.array:\n",
    "    '''\n",
    "    Extracts the drawing data (strokes list) from a drawing JSON file.\n",
    "    Transforms the strokes from coordinates to deltas.\n",
    "    Returns an np.array of deltas (d_x, d_y, end_of_stroke)\n",
    "    '''\n",
    "    # --- Data extraction ---\n",
    "    lst_strokes = json_drawing['drawing']\n",
    "    \n",
    "    x = []\n",
    "    y = []\n",
    "    stroke_delimiter = []\n",
    "    lst_points = [x, y, stroke_delimiter]\n",
    "    \n",
    "    for stroke in lst_strokes:\n",
    "        # Creating the third list to pass to the model with 0 all along and a 1 at the end of the stroke\n",
    "        stroke_delimiter = [0] * len(stroke[0])\n",
    "        stroke_delimiter[-1] = 1\n",
    "        # Appending x, y, and the delimiter to the new list of points\n",
    "        lst_points[0] += stroke[0]\n",
    "        lst_points[1] += stroke[1]\n",
    "        lst_points[2] += stroke_delimiter\n",
    "\n",
    "    np_points = np.asarray(lst_points)\n",
    "    np_points = np_points.T\n",
    "\n",
    "    # --- Preprocessing ---\n",
    "    # 1. Size normalization\n",
    "    lower = np.min(np_points[:, 0:2], axis=0) # returns (x_min, y_min)\n",
    "    upper = np.max(np_points[:, 0:2], axis=0) # returns (x_max, y_max)\n",
    "    scale = upper - lower # returns (width, heigth)\n",
    "    scale[scale == 0] = 1\n",
    "    np_points[:, 0:2] = (np_points[:, 0:2] - lower) / scale\n",
    "\n",
    "    # 2. Compute deltas\n",
    "    np_points[1:, 0:2] -= np_points[0:-1, 0:2]\n",
    "    np_deltas = np_points[1:, :]\n",
    "    return np.round(np_deltas,4)"
   ]
  },
  {
   "cell_type": "markdown",
   "id": "0b7dea3e-6fb5-45aa-97aa-b0b96bb17575",
   "metadata": {},
   "source": [
    "# Define the function to process a  CLASS (one of the word to guess) full file "
   ]
  },
  {
   "cell_type": "code",
   "execution_count": 15,
   "id": "45d64f8e-fbb1-463d-b27b-78820a4071f8",
   "metadata": {},
   "outputs": [],
   "source": [
    "ndjson_path = path_data + '/' + file_name\n",
    "\n",
    "def drawing_extraction(ndjson_path, nb_drawings_to_load):\n",
    "    dict_drawings = {}  # Initialize an empty dictionary\n",
    "    with open(ndjson_path, 'r') as f:\n",
    "        for i, line in enumerate(f):\n",
    "            json_line = json.loads(line)\n",
    "            np_ink, class_name = parse_line(json_line)\n",
    "            #np_ink= np.round(np_ink,5)\n",
    "            #print(np_ink)\n",
    "            length_np_ink = len(np_ink)\n",
    "            dict_drawing_info = {\n",
    "                \"class\": class_name,\n",
    "                \"drawing_nb\": i,\n",
    "                \"length_np_ink\": length_np_ink,\n",
    "                \"np_ink\": np_ink.tolist()  #need to be transformed to list to dump as Json file later\n",
    "\n",
    "            }\n",
    "            #print(image_info[\"np_ink\"])\n",
    "            dict_drawings[json_line[\"key_id\"]] = dict_drawing_info\n",
    "            i += 1\n",
    "            if i == nb_drawings_to_load:\n",
    "                break\n",
    "    return dict_drawings"
   ]
  },
  {
   "cell_type": "code",
   "execution_count": 54,
   "id": "91766f3a-2435-41e8-8529-5729f7ff32b0",
   "metadata": {},
   "outputs": [],
   "source": [
    "# Trying a more efficient way to load the data\n",
    "\n",
    "def drawings_extraction_fast(ndjson_path: object, nb_drawings_to_load: str) -> list:\n",
    "    '''\n",
    "    Extract drawing(s) information from a list of JSON drawings (as NDJSON),\n",
    "    as a list of dictionaries. We specify the number of drawings to load (in\n",
    "    order of the NDJSON) as a string (number or 'all'). Each dictionary contains:\n",
    "        - key_id, as integer\n",
    "        - class, as a string\n",
    "        - length, as integer\n",
    "        - lst_delats, as list\n",
    "    '''\n",
    "    lst_drawings = []  # Initialize the list to return\n",
    "\n",
    "    if nb_drawings_to_load.isnumeric():\n",
    "        for i in range(0, int(nb_drawings_to_load)):\n",
    "            json_drawing = json.loads(linecache.getline(ndjson_path, i+1 , module_globals=None))\n",
    "            np_deltas = get_drawing_data(json_drawing)\n",
    "            dict_drawing = {'key_id': json_drawing['key_id'],\n",
    "                            'class': json_drawing['word'],\n",
    "                            'length': len(np_deltas),\n",
    "                            'lst_deltas': np_deltas.tolist()  # need to be transformed to list to dump as Json file later\n",
    "                           }\n",
    "            lst_drawings.append(dict_drawing)\n",
    "    elif nb_drawings_to_load == 'all':\n",
    "        i = 0\n",
    "        # TODO: change the method to find last line of ndjson file!\n",
    "        while len(linecache.getline(ndjson_path, i+1 , module_globals=None))>0:\n",
    "            json_drawing = json.loads(linecache.getline(ndjson_path, i+1 , module_globals=None))\n",
    "            linecache.clearcache()\n",
    "            np_deltas = get_drawing_data(json_drawing)\n",
    "            dict_drawing = {'key_id': json_drawing['key_id'],\n",
    "                            'class': json_drawing['word'],\n",
    "                            'length': len(np_deltas),\n",
    "                            'lst_deltas': np_deltas.tolist()  # need to be transformed to list to dump as Json file later\n",
    "                           }\n",
    "            lst_drawings.append(dict_drawing)\n",
    "            i += 1\n",
    "    else:\n",
    "        return\n",
    "        \n",
    "    return lst_drawings"
   ]
  },
  {
   "cell_type": "code",
   "execution_count": 29,
   "id": "0b61b14a-5e1a-4165-8eb8-09e02ba7cdf8",
   "metadata": {},
   "outputs": [
    {
     "data": {
      "text/plain": [
       "''"
      ]
     },
     "execution_count": 29,
     "metadata": {},
     "output_type": "execute_result"
    }
   ],
   "source": [
    "linecache.getline(ndjson_path, 162000, module_globals=None)"
   ]
  },
  {
   "cell_type": "code",
   "execution_count": 21,
   "id": "26cab372-abe4-446f-a59b-596b4579c0cd",
   "metadata": {},
   "outputs": [
    {
     "data": {
      "text/plain": [
       "'/Users/loicregne/code/rs-uk/raw_data/full_simplified_face.ndjson'"
      ]
     },
     "execution_count": 21,
     "metadata": {},
     "output_type": "execute_result"
    }
   ],
   "source": [
    "ndjson_path"
   ]
  },
  {
   "cell_type": "code",
   "execution_count": 49,
   "id": "302c2b95-8bbd-4c1c-9d21-55e53a83c299",
   "metadata": {},
   "outputs": [
    {
     "name": "stdout",
     "output_type": "stream",
     "text": [
      "CPU times: user 5.46 s, sys: 1.24 s, total: 6.7 s\n",
      "Wall time: 7.25 s\n"
     ]
    }
   ],
   "source": [
    "%%time\n",
    "dict_test = drawing_extraction(ndjson_path, 100000)"
   ]
  },
  {
   "cell_type": "code",
   "execution_count": 57,
   "id": "22480d4a-ff37-485d-8911-5c9452913467",
   "metadata": {},
   "outputs": [
    {
     "name": "stdout",
     "output_type": "stream",
     "text": [
      "CPU times: user 4.57 s, sys: 114 ms, total: 4.69 s\n",
      "Wall time: 4.7 s\n"
     ]
    }
   ],
   "source": [
    "%%time\n",
    "dict_test = drawings_extraction_fast(ndjson_path, '100000')"
   ]
  },
  {
   "cell_type": "code",
   "execution_count": 13,
   "id": "5377a94f-5df6-497a-849f-f38ac6f81e37",
   "metadata": {},
   "outputs": [
    {
     "data": {
      "text/plain": [
       "50000"
      ]
     },
     "execution_count": 13,
     "metadata": {},
     "output_type": "execute_result"
    }
   ],
   "source": [
    "len(dict_test)"
   ]
  },
  {
   "cell_type": "code",
   "execution_count": 14,
   "id": "1989807d-2ded-4dd1-b5b1-9344d568bb8e",
   "metadata": {},
   "outputs": [],
   "source": [
    "# Where we want to save the output file and a name is given\n",
    "output_file = path_data + '/' + 'processed_full_simplified_face.json'"
   ]
  },
  {
   "cell_type": "code",
   "execution_count": 15,
   "id": "4412b427-a642-4dfb-94bc-8ee2da640279",
   "metadata": {},
   "outputs": [],
   "source": [
    "# Function to save the dictionary file for the processed images\n",
    "def save_images_dict_to_json(images_dict, output_file):\n",
    "    with open(output_file, 'w') as json_file:\n",
    "        json.dump(images_dict, json_file)"
   ]
  },
  {
   "cell_type": "code",
   "execution_count": 16,
   "id": "188a823f-b6b3-421f-9228-e27dc28d68d0",
   "metadata": {},
   "outputs": [],
   "source": [
    "save_images_dict_to_json(dict_test,output_file)"
   ]
  },
  {
   "cell_type": "code",
   "execution_count": 17,
   "id": "75134c4e-baea-43cb-90a2-64739c443629",
   "metadata": {},
   "outputs": [
    {
     "data": {
      "text/plain": [
       "50000"
      ]
     },
     "execution_count": 17,
     "metadata": {},
     "output_type": "execute_result"
    }
   ],
   "source": [
    "len(dict_test)"
   ]
  },
  {
   "cell_type": "code",
   "execution_count": 5,
   "id": "1fc76be3-beeb-4c7d-8d2d-eb9ecae7a5e1",
   "metadata": {},
   "outputs": [],
   "source": [
    "def upload_blob(bucket_name, file_path, file_name):\n",
    "    \"\"\"Uploads a file to the bucket.\"\"\"\n",
    "    storage_client = storage.Client()\n",
    "    bucket = storage_client.bucket(bucket_name)\n",
    "    blob = bucket.blob(file_name)\n",
    "    blob.upload_from_filename(file_path + '/' + file_name)"
   ]
  },
  {
   "cell_type": "code",
   "execution_count": 8,
   "id": "eb2af965-1c8f-48ee-a2d1-1db25216ed7d",
   "metadata": {},
   "outputs": [],
   "source": [
    "bucket_name = 'quickdraw-simplified-processed'\n",
    "file_path = path_data\n",
    "file_name = 'processed_full_simplified_face.json'\n",
    "\n",
    "upload_blob(bucket_name, file_path, file_name)"
   ]
  },
  {
   "cell_type": "code",
   "execution_count": null,
   "id": "acba4abb-bfce-407e-8970-3a31152ddc95",
   "metadata": {},
   "outputs": [],
   "source": []
  }
 ],
 "metadata": {
  "kernelspec": {
   "display_name": "Python 3 (ipykernel)",
   "language": "python",
   "name": "python3"
  },
  "language_info": {
   "codemirror_mode": {
    "name": "ipython",
    "version": 3
   },
   "file_extension": ".py",
   "mimetype": "text/x-python",
   "name": "python",
   "nbconvert_exporter": "python",
   "pygments_lexer": "ipython3",
   "version": "3.10.6"
  },
  "toc": {
   "base_numbering": 1,
   "nav_menu": {},
   "number_sections": true,
   "sideBar": true,
   "skip_h1_title": false,
   "title_cell": "Table of Contents",
   "title_sidebar": "Contents",
   "toc_cell": false,
   "toc_position": {},
   "toc_section_display": true,
   "toc_window_display": false
  }
 },
 "nbformat": 4,
 "nbformat_minor": 5
}
