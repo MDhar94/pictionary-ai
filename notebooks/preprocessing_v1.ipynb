{
 "cells": [
  {
   "cell_type": "code",
   "execution_count": 1,
   "id": "3bff144d-0e16-48ac-a555-072d2dd0f908",
   "metadata": {},
   "outputs": [],
   "source": [
    "import numpy as np\n",
    "import pandas as pd\n",
    "import os\n",
    "import json\n",
    "import matplotlib.pyplot as plt\n",
    "import linecache\n",
    "from google.cloud import storage\n",
    "import subprocess\n",
    "import re"
   ]
  },
  {
   "cell_type": "markdown",
   "id": "78ab787a-b31b-4be9-9849-426783666d85",
   "metadata": {
    "jp-MarkdownHeadingCollapsed": true
   },
   "source": [
    "# RAW EXAMPLE"
   ]
  },
  {
   "cell_type": "markdown",
   "id": "1f31cd2f-809d-4049-99e4-8c2541810e31",
   "metadata": {},
   "source": [
    "Example taken from the simplfied database on : \n",
    "https://console.cloud.google.com/storage/browserquickdraw_dataset/full/raw"
   ]
  },
  {
   "cell_type": "code",
   "execution_count": null,
   "id": "d25bc8f4-fc99-4a8a-9838-017d3baff63c",
   "metadata": {},
   "outputs": [],
   "source": [
    "#RAW DATA: Example \n",
    "df = pd.DataFrame()\n",
    "with open(data_path, 'r') as f:\n",
    "     for i, line in enumerate(f):\n",
    "            if i > 0:\n",
    "                break\n",
    "\n",
    "            json_line = json.loads(line)\n",
    "            df = pd.concat([df, pd.DataFrame(json_line)], ignore_index=True)\n",
    "#             print(type(json_line))\n",
    "#             print(json_line.keys())\n",
    "#             print(json_line['word'], len(json_line['drawing']))\n",
    "            coords = json_line['drawing']\n",
    "    \n",
    "            for vector in coords:\n",
    "                print(len(vector))\n",
    "                print(vector)\n",
    "           "
   ]
  },
  {
   "cell_type": "code",
   "execution_count": null,
   "id": "3a387306",
   "metadata": {},
   "outputs": [],
   "source": [
    "df"
   ]
  },
  {
   "cell_type": "code",
   "execution_count": null,
   "id": "6524bc4c",
   "metadata": {},
   "outputs": [],
   "source": [
    "df[\"drawing\"][0][0:1]"
   ]
  },
  {
   "cell_type": "code",
   "execution_count": null,
   "id": "822b377e-3189-45d7-b302-00b2ee04fd9d",
   "metadata": {},
   "outputs": [],
   "source": [
    "drawing_test= df[\"drawing\"][0][2]\n",
    "drawing_test"
   ]
  },
  {
   "cell_type": "code",
   "execution_count": null,
   "id": "ac73de65-c36f-498b-9a60-c1a55fbd34fd",
   "metadata": {},
   "outputs": [],
   "source": [
    "\n",
    "# Extract data from the first row\n",
    "first_row = df.loc[0]  # Change the index if needed\n",
    "\n",
    "# Extract x, y, and time lists\n",
    "x_values = first_row['drawing'][0]\n",
    "y_values = first_row['drawing'][1]\n",
    "\n",
    "# Create a scatter plot of the points\n",
    "plt.scatter(x_values, y_values, color='blue', marker='o', label='Points')\n",
    "\n",
    "# Connect the points with lines\n",
    "for i in range(len(x_values) - 1):\n",
    "    plt.plot([x_values[i], x_values[i + 1]], [y_values[i], y_values[i + 1]], color='red')\n",
    "\n",
    "# Customize the plot (add labels, title, etc.)\n",
    "plt.xlabel('X-coordinate')\n",
    "plt.ylabel('Y-coordinate')\n",
    "plt.title('Drawing from First RAW Row')\n",
    "plt.grid(True)\n",
    "plt.legend()\n",
    "\n",
    "# Show the plot\n",
    "plt.show()\n"
   ]
  },
  {
   "cell_type": "code",
   "execution_count": null,
   "id": "be3bbeda-57db-4fcf-810a-e09a137b5389",
   "metadata": {},
   "outputs": [],
   "source": [
    "# Extract data from the first drawing \n",
    "\n",
    "\n",
    "\n",
    "# Create a new figure for the combined drawing\n",
    "plt.figure(figsize=(8, 6))\n",
    "\n",
    "# Iterate through each row and plot the points\n",
    "num_rows = df.shape[0]\n",
    "for i in range(num_rows):\n",
    "    x_values = df.loc[i, 'drawing'][0]\n",
    "    y_values = df.loc[i, 'drawing'][1]\n",
    "    plt.plot(x_values, y_values, label=f\"Row {i}\")\n",
    "\n",
    "    # Create a scatter plot of the points\n",
    "    plt.scatter(x_values, y_values, color='blue', marker='o', label='Points')\n",
    "\n",
    "# Connect the points with lines\n",
    "for i in range(len(x_values) - 1):\n",
    "    plt.plot([x_values[i], x_values[i + 1]], [y_values[i], y_values[i + 1]], color='red')\n",
    "\n",
    "# Customize the plot (add labels, title, etc.)\n",
    "plt.xlabel('X-coordinate')\n",
    "plt.ylabel('Y-coordinate')\n",
    "plt.title('Drawing from First RAW drawing')\n",
    "plt.grid(True)\n",
    "plt.legend()\n",
    "\n",
    "# Show the plot\n",
    "plt.show()"
   ]
  },
  {
   "cell_type": "markdown",
   "id": "ed064ed3-6727-4def-ab53-eb9fab13d4e9",
   "metadata": {},
   "source": [
    "# SIMPLIFIED EXAMPLE"
   ]
  },
  {
   "cell_type": "markdown",
   "id": "4f43dbb9-1921-4db0-8c06-04858264b304",
   "metadata": {},
   "source": [
    "Example taken from the simplfied database on :\n",
    "https://console.cloud.google.com/storage/browser/quickdraw_dataset/full/simplified"
   ]
  },
  {
   "cell_type": "code",
   "execution_count": null,
   "id": "52bfa68f-12e9-4372-b76b-619eb401babd",
   "metadata": {},
   "outputs": [],
   "source": [
    "#command to download the examle in terminal: gsutil -m cp 'gs://quickdraw_dataset/full/simplified/axe.ndjson' ."
   ]
  },
  {
   "cell_type": "code",
   "execution_count": null,
   "id": "ba443c5e-6bbf-4ef0-a541-4023859d8d88",
   "metadata": {},
   "outputs": [],
   "source": [
    "# # Download this face file (simplified) and rename it full_simplified_face:\n",
    "# gsutil -m cp 'gs://quickdraw_dataset/full/simplified/face.ndjson' full_simplified_face.ndjson\n"
   ]
  },
  {
   "cell_type": "code",
   "execution_count": 2,
   "id": "17bae907-eec2-4c5c-a0dd-3b77e497d0fc",
   "metadata": {},
   "outputs": [],
   "source": [
    "path_data = '/Users/loicregne/code/rs-uk/raw_data'\n",
    "file_name = 'full_simplified_face.ndjson'"
   ]
  },
  {
   "cell_type": "markdown",
   "id": "acbb3397-b992-468e-9f14-af63196fb30e",
   "metadata": {},
   "source": [
    "# Processing Simplified file"
   ]
  },
  {
   "cell_type": "code",
   "execution_count": 33,
   "id": "38124873-b3fd-4201-8ec3-47f64a833e42",
   "metadata": {},
   "outputs": [],
   "source": [
    "##Define the function to process the Simplified file and return an array and class name (the drawing to guess)\n",
    "def parse_line(json_drawing: json) -> np.array:\n",
    "    \"\"\"Parse an ndjson line and return ink (as np array) and classname.\"\"\"\n",
    "    inkarray = json_drawing[\"drawing\"]\n",
    "    stroke_lengths = [len(stroke[0]) for stroke in inkarray]\n",
    "    total_points = sum(stroke_lengths)\n",
    "    np_ink = np.zeros((total_points, 3), dtype=np.float32)\n",
    "    current_t = 0\n",
    "    for stroke in inkarray:\n",
    "        for i in [0, 1]:\n",
    "            np_ink[current_t:(current_t + len(stroke[0])), i] = stroke[i]\n",
    "        current_t += len(stroke[0])\n",
    "        np_ink[current_t - 1, 2] = 1  # stroke_end\n",
    "\n",
    "    # Preprocessing.\n",
    "    # 1. Size normalization.\n",
    "    lower = np.min(np_ink[:, 0:2], axis=0)\n",
    "    upper = np.max(np_ink[:, 0:2], axis=0)\n",
    "    scale = upper - lower\n",
    "    scale[scale == 0] = 1\n",
    "    np_ink[:, 0:2] = (np_ink[:, 0:2] - lower) / scale\n",
    "\n",
    "    # 2. Compute deltas.\n",
    "    np_ink[1:, 0:2] -= np_ink[0:-1, 0:2]\n",
    "    np_ink = np_ink[1:, :]\n",
    "    return np.round(np_ink,decimals=4)"
   ]
  },
  {
   "cell_type": "code",
   "execution_count": 48,
   "id": "3ef816f2-0ceb-4764-b277-911984d6b1fe",
   "metadata": {},
   "outputs": [],
   "source": [
    "##Define the function to process the Simplified file and return an array and class name (the drawing to guess)\n",
    "def get_drawing_data(json_drawing: json) -> np.array:\n",
    "    '''\n",
    "    Extracts the drawing data (strokes list) from a drawing JSON file.\n",
    "    Transforms the strokes from coordinates to deltas.\n",
    "    Returns an np.array of deltas (d_x, d_y, end_of_stroke)\n",
    "    '''\n",
    "    # --- Data extraction ---\n",
    "    list_strokes = json_drawing['drawing']\n",
    "    \n",
    "    x = []\n",
    "    y = []\n",
    "    stroke_delimiter = []\n",
    "    list_points = [x, y, stroke_delimiter]\n",
    "    \n",
    "    for stroke in list_strokes:\n",
    "        # Creating the third list to pass to the model with 0 all along and a 1 at the end of the stroke\n",
    "        stroke_delimiter = [0.] * len(stroke[0])\n",
    "        stroke_delimiter[-1] = 1\n",
    "        # Appending x, y, and the delimiter to the new list of points\n",
    "        list_points[0] += stroke[0]\n",
    "        list_points[1] += stroke[1]\n",
    "        list_points[2] += stroke_delimiter\n",
    "\n",
    "    np_points = np.asarray(list_points)\n",
    "    np_points = np_points.T\n",
    "\n",
    "    # --- Preprocessing ---\n",
    "    # 1. Size normalization\n",
    "    lower = np.min(np_points[:, 0:2], axis=0) # returns (x_min, y_min)\n",
    "    upper = np.max(np_points[:, 0:2], axis=0) # returns (x_max, y_max)\n",
    "    scale = upper - lower # returns (width, heigth)\n",
    "    scale[scale == 0] = 1\n",
    "    np_points[:, 0:2] = (np_points[:, 0:2] - lower) / scale\n",
    "\n",
    "    # 2. Compute deltas\n",
    "    np_points[1:, 0:2] -= np_points[0:-1, 0:2]\n",
    "    np_points = np_points[1:, :]\n",
    "    return np.round(np_points,decimals=4)"
   ]
  },
  {
   "cell_type": "markdown",
   "id": "0b7dea3e-6fb5-45aa-97aa-b0b96bb17575",
   "metadata": {},
   "source": [
    "# Define the function to process a  CLASS (one of the word to guess) full file "
   ]
  },
  {
   "cell_type": "code",
   "execution_count": 5,
   "id": "4abb8685-3d83-4412-a220-f9384d417817",
   "metadata": {},
   "outputs": [],
   "source": [
    "ndjson_filepath = path_data + '/' + file_name"
   ]
  },
  {
   "cell_type": "code",
   "execution_count": 6,
   "id": "45d64f8e-fbb1-463d-b27b-78820a4071f8",
   "metadata": {},
   "outputs": [],
   "source": [
    "def drawings_extraction(ndjson_filepath, nb_drawings_to_load):\n",
    "    list_drawings = []  # Initialize an empty list\n",
    "    with open(ndjson_filepath, 'r') as f:\n",
    "        for i, line in enumerate(f):\n",
    "            json_line = json.loads(line)\n",
    "            np_ink = parse_line(json_line)\n",
    "            length_np_ink = len(np_ink)\n",
    "            dict_drawing_info = {'key_id': json_line['key_id'],\n",
    "                                 'class': json_line['word'],\n",
    "                                 'length_np_ink': length_np_ink,\n",
    "                                 'np_ink': np_ink.tolist()  #need to be transformed to list to dump as Json file later\n",
    "                                }\n",
    "            list_drawings.append(dict_drawing_info)\n",
    "            i += 1\n",
    "            if i == nb_drawings_to_load:\n",
    "                break\n",
    "    return list_drawings"
   ]
  },
  {
   "cell_type": "code",
   "execution_count": 71,
   "id": "91766f3a-2435-41e8-8529-5729f7ff32b0",
   "metadata": {},
   "outputs": [],
   "source": [
    "# Trying a more efficient way to load the data\n",
    "\n",
    "def drawings_extraction_v2(ndjson_filepath: object, nb_drawings_to_load: str) -> list:\n",
    "    '''\n",
    "    Extract drawing(s) information from a list of JSON drawings (as NDJSON),\n",
    "    as a list of dictionaries. We specify the number of drawings to load (in\n",
    "    order of the NDJSON) as a string (number or 'all'). Each dictionary contains:\n",
    "        - key_id, as string\n",
    "        - class, as string\n",
    "        - length, as integer\n",
    "        - list_deltas, as list\n",
    "    '''\n",
    "    list_drawings = []  # Initialize the list to return\n",
    "\n",
    "    if nb_drawings_to_load == 'all':\n",
    "        # Getting the number of line in the file using a shell command (fastest way)\n",
    "        nb_drawings_to_load = int(re.search(r'\\d+', str(subprocess.check_output(['wc', '-l', ndjson_filepath]))).group())\n",
    "    elif (isinstance(nb_drawings_to_load, str) and nb_drawings_to_load.isnumeric()) or isinstance(nb_drawings_to_load, int):\n",
    "        # We also escape a number of drawings entered as an integer instead of a string...\n",
    "        nb_drawings_to_load = int(nb_drawings_to_load)\n",
    "    else:\n",
    "        nb_drawings_to_load = 0\n",
    "        \n",
    "    for i in range(0, int(nb_drawings_to_load)):\n",
    "        json_drawing = json.loads(linecache.getline(ndjson_filepath, i+1 , module_globals=None))\n",
    "        np_deltas = get_drawing_data(json_drawing)\n",
    "        dict_drawing = {'key_id': json_drawing['key_id'],\n",
    "                        'class': json_drawing['word'],\n",
    "                        'length': len(np_deltas),\n",
    "                        'list_deltas': np_deltas.tolist()  # need to be transformed to list to dump as Json file later\n",
    "                       }\n",
    "        list_drawings.append(dict_drawing)\n",
    "    linecache.clearcache()\n",
    "    \n",
    "    return list_drawings"
   ]
  },
  {
   "cell_type": "code",
   "execution_count": 74,
   "id": "22480d4a-ff37-485d-8911-5c9452913467",
   "metadata": {},
   "outputs": [
    {
     "name": "stdout",
     "output_type": "stream",
     "text": [
      "CPU times: user 2.89 s, sys: 148 ms, total: 3.04 s\n",
      "Wall time: 3.08 s\n"
     ]
    }
   ],
   "source": [
    "%%time\n",
    "list_drawings = drawings_extraction(ndjson_filepath, 50000)"
   ]
  },
  {
   "cell_type": "code",
   "execution_count": 75,
   "id": "b91dbbb9-a227-4470-8843-02a5d83ef966",
   "metadata": {},
   "outputs": [
    {
     "name": "stdout",
     "output_type": "stream",
     "text": [
      "CPU times: user 1.82 s, sys: 81.8 ms, total: 1.91 s\n",
      "Wall time: 1.91 s\n"
     ]
    }
   ],
   "source": [
    "%%time\n",
    "list_drawings = drawings_extraction_v2(ndjson_filepath, 50000)"
   ]
  },
  {
   "cell_type": "code",
   "execution_count": 76,
   "id": "d83ccf3f-9b7b-4c97-abdc-3c3193f00ea1",
   "metadata": {
    "scrolled": true
   },
   "outputs": [
    {
     "data": {
      "text/plain": [
       "{'key_id': '5152530285723648',\n",
       " 'class': 'face',\n",
       " 'length': 65,\n",
       " 'list_deltas': [[-0.0591, 0.018, 0.0],\n",
       "  [-0.063, 0.0676, 0.0],\n",
       "  [-0.0433, 0.0991, 0.0],\n",
       "  [-0.0354, 0.1261, 0.0],\n",
       "  [-0.0315, 0.1757, 0.0],\n",
       "  [0.0, 0.1351, 0.0],\n",
       "  [0.0512, 0.1351, 0.0],\n",
       "  [0.0748, 0.0946, 0.0],\n",
       "  [0.0669, 0.0495, 0.0],\n",
       "  [0.1417, 0.0676, 0.0],\n",
       "  [0.0984, 0.0225, 0.0],\n",
       "  [0.1024, 0.0045, 0.0],\n",
       "  [0.122, 0.0, 0.0],\n",
       "  [0.0866, -0.0225, 0.0],\n",
       "  [0.0787, -0.036, 0.0],\n",
       "  [0.0787, -0.0631, 0.0],\n",
       "  [0.0984, -0.2297, 0.0],\n",
       "  [0.0, -0.1757, 0.0],\n",
       "  [-0.063, -0.1757, 0.0],\n",
       "  [-0.063, -0.0811, 0.0],\n",
       "  [-0.063, -0.0495, 0.0],\n",
       "  [-0.0984, -0.0586, 0.0],\n",
       "  [-0.1732, -0.0721, 0.0],\n",
       "  [-0.2008, -0.036, 0.0],\n",
       "  [-0.1417, 0.0, 0.0],\n",
       "  [-0.0472, 0.0315, 1.0],\n",
       "  [0.1496, 0.2432, 0.0],\n",
       "  [0.0, 0.027, 0.0],\n",
       "  [-0.0197, 0.018, 0.0],\n",
       "  [-0.0472, -0.0045, 0.0],\n",
       "  [-0.0118, -0.027, 0.0],\n",
       "  [0.0, -0.0405, 0.0],\n",
       "  [0.0197, -0.036, 0.0],\n",
       "  [0.0433, -0.009, 0.0],\n",
       "  [0.0433, 0.009, 0.0],\n",
       "  [0.0236, 0.0946, 0.0],\n",
       "  [-0.0118, 0.045, 0.0],\n",
       "  [-0.0276, 0.009, 0.0],\n",
       "  [-0.0591, -0.0135, 0.0],\n",
       "  [-0.0315, -0.0631, 1.0],\n",
       "  [0.4724, 0.0856, 0.0],\n",
       "  [-0.0394, 0.018, 0.0],\n",
       "  [-0.0787, -0.0045, 0.0],\n",
       "  [-0.0512, -0.045, 0.0],\n",
       "  [-0.0118, -0.0495, 0.0],\n",
       "  [0.1063, -0.0586, 0.0],\n",
       "  [0.1378, -0.0045, 0.0],\n",
       "  [0.0236, 0.0405, 0.0],\n",
       "  [-0.0079, 0.0856, 0.0],\n",
       "  [-0.0236, 0.0405, 0.0],\n",
       "  [-0.0512, 0.036, 0.0],\n",
       "  [-0.0787, 0.0045, 0.0],\n",
       "  [-0.0709, -0.027, 0.0],\n",
       "  [-0.0315, -0.0405, 0.0],\n",
       "  [-0.0079, -0.0405, 0.0],\n",
       "  [0.0118, -0.0045, 1.0],\n",
       "  [-0.2953, 0.4369, 0.0],\n",
       "  [0.0433, 0.0541, 0.0],\n",
       "  [0.0472, 0.0225, 0.0],\n",
       "  [0.1181, 0.045, 0.0],\n",
       "  [0.1693, 0.0225, 0.0],\n",
       "  [0.1929, 0.0, 0.0],\n",
       "  [0.0551, -0.0225, 0.0],\n",
       "  [0.0472, -0.0405, 0.0],\n",
       "  [0.0118, -0.0315, 1.0]]}"
      ]
     },
     "execution_count": 76,
     "metadata": {},
     "output_type": "execute_result"
    }
   ],
   "source": [
    "list_drawings[0]"
   ]
  },
  {
   "cell_type": "code",
   "execution_count": 64,
   "id": "21b36916-a706-4ab9-b7c4-b781792a0e4c",
   "metadata": {},
   "outputs": [
    {
     "data": {
      "text/plain": [
       "'/Users/loicregne/code/rs-uk/raw_data/full_simplified_face.ndjson'"
      ]
     },
     "execution_count": 64,
     "metadata": {},
     "output_type": "execute_result"
    }
   ],
   "source": [
    "ndjson_filepath"
   ]
  },
  {
   "cell_type": "code",
   "execution_count": 65,
   "id": "1989807d-2ded-4dd1-b5b1-9344d568bb8e",
   "metadata": {},
   "outputs": [
    {
     "data": {
      "text/plain": [
       "'/Users/loicregne/code/rs-uk/raw_data/processed_full_simplified_face.ndjson'"
      ]
     },
     "execution_count": 65,
     "metadata": {},
     "output_type": "execute_result"
    }
   ],
   "source": [
    "# Where we want to save the output file and a name is given\n",
    "output_file = path_data + '/' + 'processed_' + file_name\n",
    "output_file"
   ]
  },
  {
   "cell_type": "code",
   "execution_count": 66,
   "id": "4412b427-a642-4dfb-94bc-8ee2da640279",
   "metadata": {},
   "outputs": [],
   "source": [
    "# Function to save the dictionary file for the processed images\n",
    "def save_images_dict_to_json(list_drawings, output_file):\n",
    "    with open(output_file, 'w') as json_file:\n",
    "        json.dump(list_drawings, json_file)"
   ]
  },
  {
   "cell_type": "code",
   "execution_count": 67,
   "id": "371be7c8-aea2-442b-8646-debc34bba7e9",
   "metadata": {},
   "outputs": [],
   "source": [
    "# Function to save the drawings in the list to an ndjson file locally\n",
    "def save_drawings_to_ndjson_local(list_drawings: list, output_file: str) -> None:\n",
    "    '''\n",
    "        - list_drawings: contains a dictionary for each drawing\n",
    "        - output_file: the complete filepath to the target file to save/create (.ndjson)\n",
    "    '''\n",
    "    with open(output_file, 'w') as ndjson_file:\n",
    "        # Write each drawing's dict to the file as a new line\n",
    "        for dict_drawing in list_drawings:\n",
    "            ndjson_file.write(str(dict_drawing) + '\\n')"
   ]
  },
  {
   "cell_type": "code",
   "execution_count": 77,
   "id": "191343f8-8f62-4c9f-9d57-a479a7c4a6cc",
   "metadata": {},
   "outputs": [
    {
     "name": "stdout",
     "output_type": "stream",
     "text": [
      "CPU times: user 8.98 s, sys: 1.04 s, total: 10 s\n",
      "Wall time: 10.5 s\n"
     ]
    }
   ],
   "source": [
    "%%time\n",
    "list_drawings = drawings_extraction_v2(ndjson_filepath, 'all')"
   ]
  },
  {
   "cell_type": "code",
   "execution_count": 78,
   "id": "188a823f-b6b3-421f-9228-e27dc28d68d0",
   "metadata": {},
   "outputs": [
    {
     "name": "stdout",
     "output_type": "stream",
     "text": [
      "CPU times: user 20.1 s, sys: 498 ms, total: 20.6 s\n",
      "Wall time: 21.3 s\n"
     ]
    }
   ],
   "source": [
    "%%time\n",
    "save_images_dict_to_json(list_drawings, output_file)"
   ]
  },
  {
   "cell_type": "code",
   "execution_count": 79,
   "id": "b29b2584-da51-4051-87a2-b96e3cbee4ba",
   "metadata": {},
   "outputs": [
    {
     "name": "stdout",
     "output_type": "stream",
     "text": [
      "CPU times: user 4.95 s, sys: 498 ms, total: 5.45 s\n",
      "Wall time: 5.99 s\n"
     ]
    }
   ],
   "source": [
    "%%time\n",
    "save_drawings_to_ndjson_local(list_drawings, output_file)"
   ]
  },
  {
   "cell_type": "code",
   "execution_count": null,
   "id": "1fc76be3-beeb-4c7d-8d2d-eb9ecae7a5e1",
   "metadata": {},
   "outputs": [],
   "source": [
    "def upload_blob(bucket_name, file_path, file_name):\n",
    "    \"\"\"Uploads a file to the bucket.\"\"\"\n",
    "    storage_client = storage.Client()\n",
    "    bucket = storage_client.bucket(bucket_name)\n",
    "    blob = bucket.blob(file_name)\n",
    "    blob.upload_from_filename(file_path + '/' + file_name)"
   ]
  },
  {
   "cell_type": "code",
   "execution_count": null,
   "id": "eb2af965-1c8f-48ee-a2d1-1db25216ed7d",
   "metadata": {},
   "outputs": [],
   "source": [
    "bucket_name = 'quickdraw-simplified-processed'\n",
    "file_path = path_data\n",
    "file_name = 'processed_full_simplified_face.json'\n",
    "\n",
    "upload_blob(bucket_name, file_path, file_name)"
   ]
  },
  {
   "cell_type": "code",
   "execution_count": null,
   "id": "acba4abb-bfce-407e-8970-3a31152ddc95",
   "metadata": {},
   "outputs": [],
   "source": []
  }
 ],
 "metadata": {
  "kernelspec": {
   "display_name": "Python 3 (ipykernel)",
   "language": "python",
   "name": "python3"
  },
  "language_info": {
   "codemirror_mode": {
    "name": "ipython",
    "version": 3
   },
   "file_extension": ".py",
   "mimetype": "text/x-python",
   "name": "python",
   "nbconvert_exporter": "python",
   "pygments_lexer": "ipython3",
   "version": "3.10.6"
  },
  "toc": {
   "base_numbering": 1,
   "nav_menu": {},
   "number_sections": true,
   "sideBar": true,
   "skip_h1_title": false,
   "title_cell": "Table of Contents",
   "title_sidebar": "Contents",
   "toc_cell": false,
   "toc_position": {},
   "toc_section_display": true,
   "toc_window_display": false
  }
 },
 "nbformat": 4,
 "nbformat_minor": 5
}
