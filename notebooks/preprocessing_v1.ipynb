{
 "cells": [
  {
   "cell_type": "code",
   "execution_count": 1,
   "id": "3bff144d-0e16-48ac-a555-072d2dd0f908",
   "metadata": {},
   "outputs": [],
   "source": [
    "import numpy as np\n",
    "import pandas as pd\n",
    "import os\n",
    "import json\n",
    "import matplotlib.pyplot as plt\n",
    "import linecache\n",
    "from google.cloud import storage\n",
    "import subprocess\n",
    "import re"
   ]
  },
  {
   "cell_type": "markdown",
   "id": "a704437d-602c-4ee1-8894-5960dbe61fc9",
   "metadata": {},
   "source": [
    "# Params"
   ]
  },
  {
   "cell_type": "code",
   "execution_count": 87,
   "id": "3fbb7e4c-ac29-4b5b-86d0-dda9e5ae572d",
   "metadata": {},
   "outputs": [],
   "source": [
    "path_data = '/Users/loicregne/code/rs-uk/raw_data'\n",
    "bucket_drawings_simplified = 'quickdraw-simplified-processed'\n",
    "bucket_drawings_simplified_processed = 'quickdraw-simplified'"
   ]
  },
  {
   "cell_type": "code",
   "execution_count": null,
   "id": "c876c477-37d2-49c5-a55a-d5acddbc4a53",
   "metadata": {},
   "outputs": [],
   "source": []
  },
  {
   "cell_type": "markdown",
   "id": "5bf1940a-60b4-4b2a-ad7e-df4010cd1138",
   "metadata": {},
   "source": [
    "# Copying the Google data into our own bucket"
   ]
  },
  {
   "cell_type": "code",
   "execution_count": null,
   "id": "9bf6e0ce-2286-4682-8dfd-94d27925dcef",
   "metadata": {},
   "outputs": [],
   "source": []
  },
  {
   "cell_type": "markdown",
   "id": "78ab787a-b31b-4be9-9849-426783666d85",
   "metadata": {},
   "source": [
    "# Downloading a simplified example from the bucket"
   ]
  },
  {
   "cell_type": "code",
   "execution_count": null,
   "id": "8a93145e-a2d1-4fc8-a396-9dd78abe3a87",
   "metadata": {},
   "outputs": [],
   "source": [
    "def download_blob(bucket_name, source_blob_name, destination_file_name):\n",
    "    \"\"\"Downloads a blob from the bucket.\"\"\"\n",
    "    # Initialize a client\n",
    "    storage_client = storage.Client()\n",
    "\n",
    "    # Get the bucket\n",
    "    bucket = storage_client.bucket(bucket_name)\n",
    "\n",
    "    # Get the blob\n",
    "    blob = bucket.blob(source_blob_name)\n",
    "\n",
    "    # Download the blob to a file\n",
    "    blob.download_to_filename(destination_file_name)\n",
    "\n",
    "    print(f'Blob {source_blob_name} downloaded to {destination_file_name}.')\n",
    "\n",
    "# Replace 'your-bucket-name' with the name of your bucket\n",
    "bucket_name = 'your-bucket-name'\n",
    "# Replace 'source_blob_name' with the name of the blob you want to download\n",
    "source_blob_name = 'your-blob-name'\n",
    "# Replace 'destination_file_name' with the name you want to give to the downloaded file\n",
    "destination_file_name = 'downloaded_file.txt'\n",
    "\n",
    "download_blob(bucket_name, source_blob_name, destination_file_name)"
   ]
  },
  {
   "cell_type": "code",
   "execution_count": null,
   "id": "cbc11c73-9a23-4e95-84fb-bc1bbf56d954",
   "metadata": {},
   "outputs": [],
   "source": []
  },
  {
   "cell_type": "markdown",
   "id": "ed064ed3-6727-4def-ab53-eb9fab13d4e9",
   "metadata": {},
   "source": [
    "# SIMPLIFIED EXAMPLE"
   ]
  },
  {
   "cell_type": "markdown",
   "id": "4f43dbb9-1921-4db0-8c06-04858264b304",
   "metadata": {},
   "source": [
    "Example taken from the simplfied database on :\n",
    "https://console.cloud.google.com/storage/browser/quickdraw_dataset/full/simplified"
   ]
  },
  {
   "cell_type": "code",
   "execution_count": null,
   "id": "52bfa68f-12e9-4372-b76b-619eb401babd",
   "metadata": {},
   "outputs": [],
   "source": [
    "#command to download the examle in terminal: gsutil -m cp 'gs://quickdraw_dataset/full/simplified/axe.ndjson' ."
   ]
  },
  {
   "cell_type": "code",
   "execution_count": null,
   "id": "ba443c5e-6bbf-4ef0-a541-4023859d8d88",
   "metadata": {},
   "outputs": [],
   "source": [
    "# # Download this face file (simplified) and rename it full_simplified_face:\n",
    "# gsutil -m cp 'gs://quickdraw_dataset/full/simplified/face.ndjson' full_simplified_face.ndjson\n"
   ]
  },
  {
   "cell_type": "code",
   "execution_count": 2,
   "id": "17bae907-eec2-4c5c-a0dd-3b77e497d0fc",
   "metadata": {},
   "outputs": [],
   "source": [
    "path_data = '/Users/loicregne/code/rs-uk/raw_data'\n",
    "file_name = 'full_simplified_face.ndjson'"
   ]
  },
  {
   "cell_type": "markdown",
   "id": "acbb3397-b992-468e-9f14-af63196fb30e",
   "metadata": {},
   "source": [
    "# Processing Simplified file"
   ]
  },
  {
   "cell_type": "code",
   "execution_count": 33,
   "id": "38124873-b3fd-4201-8ec3-47f64a833e42",
   "metadata": {},
   "outputs": [],
   "source": [
    "##Define the function to process the Simplified file and return an array and class name (the drawing to guess)\n",
    "def parse_line(json_drawing: json) -> np.array:\n",
    "    \"\"\"Parse an ndjson line and return ink (as np array) and classname.\"\"\"\n",
    "    inkarray = json_drawing[\"drawing\"]\n",
    "    stroke_lengths = [len(stroke[0]) for stroke in inkarray]\n",
    "    total_points = sum(stroke_lengths)\n",
    "    np_ink = np.zeros((total_points, 3), dtype=np.float32)\n",
    "    current_t = 0\n",
    "    for stroke in inkarray:\n",
    "        for i in [0, 1]:\n",
    "            np_ink[current_t:(current_t + len(stroke[0])), i] = stroke[i]\n",
    "        current_t += len(stroke[0])\n",
    "        np_ink[current_t - 1, 2] = 1  # stroke_end\n",
    "\n",
    "    # Preprocessing.\n",
    "    # 1. Size normalization.\n",
    "    lower = np.min(np_ink[:, 0:2], axis=0)\n",
    "    upper = np.max(np_ink[:, 0:2], axis=0)\n",
    "    scale = upper - lower\n",
    "    scale[scale == 0] = 1\n",
    "    np_ink[:, 0:2] = (np_ink[:, 0:2] - lower) / scale\n",
    "\n",
    "    # 2. Compute deltas.\n",
    "    np_ink[1:, 0:2] -= np_ink[0:-1, 0:2]\n",
    "    np_ink = np_ink[1:, :]\n",
    "    return np.round(np_ink,decimals=4)"
   ]
  },
  {
   "cell_type": "code",
<<<<<<< HEAD
   "execution_count": 48,
=======
   "execution_count": 37,
>>>>>>> master
   "id": "3ef816f2-0ceb-4764-b277-911984d6b1fe",
   "metadata": {},
   "outputs": [],
   "source": [
    "##Define the function to process the Simplified file and return an array and class name (the drawing to guess)\n",
    "def get_drawing_data(json_drawing: json) -> np.array:\n",
    "    '''\n",
    "    Extracts the drawing data (strokes list) from a drawing JSON file.\n",
    "    Transforms the strokes from coordinates to deltas.\n",
    "    Returns an np.array of deltas (d_x, d_y, end_of_stroke)\n",
    "    '''\n",
    "    # --- Data extraction ---\n",
<<<<<<< HEAD
    "    list_strokes = json_drawing['drawing']\n",
=======
    "    lst_strokes = json_drawing['drawing']\n",
>>>>>>> master
    "    \n",
    "    x = []\n",
    "    y = []\n",
    "    stroke_delimiter = []\n",
<<<<<<< HEAD
    "    list_points = [x, y, stroke_delimiter]\n",
    "    \n",
    "    for stroke in list_strokes:\n",
    "        # Creating the third list to pass to the model with 0 all along and a 1 at the end of the stroke\n",
    "        stroke_delimiter = [0.] * len(stroke[0])\n",
    "        stroke_delimiter[-1] = 1\n",
    "        # Appending x, y, and the delimiter to the new list of points\n",
    "        list_points[0] += stroke[0]\n",
    "        list_points[1] += stroke[1]\n",
    "        list_points[2] += stroke_delimiter\n",
    "\n",
    "    np_points = np.asarray(list_points)\n",
=======
    "    lst_points = [x, y, stroke_delimiter]\n",
    "    \n",
    "    for stroke in lst_strokes:\n",
    "        # Creating the third list to pass to the model with 0 all along and a 1 at the end of the stroke\n",
    "        stroke_delimiter = [0] * len(stroke[0])\n",
    "        stroke_delimiter[-1] = 1\n",
    "        # Appending x, y, and the delimiter to the new list of points\n",
    "        lst_points[0] += stroke[0]\n",
    "        lst_points[1] += stroke[1]\n",
    "        lst_points[2] += stroke_delimiter\n",
    "\n",
    "    np_points = np.asarray(lst_points)\n",
>>>>>>> master
    "    np_points = np_points.T\n",
    "\n",
    "    # --- Preprocessing ---\n",
    "    # 1. Size normalization\n",
    "    lower = np.min(np_points[:, 0:2], axis=0) # returns (x_min, y_min)\n",
    "    upper = np.max(np_points[:, 0:2], axis=0) # returns (x_max, y_max)\n",
    "    scale = upper - lower # returns (width, heigth)\n",
    "    scale[scale == 0] = 1\n",
    "    np_points[:, 0:2] = (np_points[:, 0:2] - lower) / scale\n",
    "\n",
    "    # 2. Compute deltas\n",
    "    np_points[1:, 0:2] -= np_points[0:-1, 0:2]\n",
<<<<<<< HEAD
    "    np_points = np_points[1:, :]\n",
    "    return np.round(np_points,decimals=4)"
=======
    "    np_deltas = np_points[1:, :]\n",
    "    return np.round(np_deltas,4)"
>>>>>>> master
   ]
  },
  {
   "cell_type": "markdown",
   "id": "0b7dea3e-6fb5-45aa-97aa-b0b96bb17575",
   "metadata": {},
   "source": [
    "# Define the function to process a  CLASS (one of the word to guess) full file "
   ]
  },
  {
   "cell_type": "code",
   "execution_count": 5,
   "id": "4abb8685-3d83-4412-a220-f9384d417817",
   "metadata": {},
   "outputs": [],
   "source": [
    "ndjson_filepath = path_data + '/' + file_name"
   ]
  },
  {
   "cell_type": "code",
<<<<<<< HEAD
   "execution_count": 6,
   "id": "45d64f8e-fbb1-463d-b27b-78820a4071f8",
   "metadata": {},
   "outputs": [],
   "source": [
    "def drawings_extraction(ndjson_filepath, nb_drawings_to_load):\n",
    "    list_drawings = []  # Initialize an empty list\n",
    "    with open(ndjson_filepath, 'r') as f:\n",
    "        for i, line in enumerate(f):\n",
    "            json_line = json.loads(line)\n",
    "            np_ink = parse_line(json_line)\n",
    "            length_np_ink = len(np_ink)\n",
    "            dict_drawing_info = {'key_id': json_line['key_id'],\n",
    "                                 'class': json_line['word'],\n",
    "                                 'length_np_ink': length_np_ink,\n",
    "                                 'np_ink': np_ink.tolist()  #need to be transformed to list to dump as Json file later\n",
    "                                }\n",
    "            list_drawings.append(dict_drawing_info)\n",
    "            i += 1\n",
    "            if i == nb_drawings_to_load:\n",
    "                break\n",
    "    return list_drawings"
   ]
  },
  {
   "cell_type": "code",
   "execution_count": 71,
=======
   "execution_count": 54,
>>>>>>> master
   "id": "91766f3a-2435-41e8-8529-5729f7ff32b0",
   "metadata": {},
   "outputs": [],
   "source": [
    "# Trying a more efficient way to load the data\n",
    "\n",
<<<<<<< HEAD
    "def drawings_extraction_v2(ndjson_filepath: object, nb_drawings_to_load: str) -> list:\n",
=======
    "def drawings_extraction_fast(ndjson_path: object, nb_drawings_to_load: str) -> list:\n",
>>>>>>> master
    "    '''\n",
    "    Extract drawing(s) information from a list of JSON drawings (as NDJSON),\n",
    "    as a list of dictionaries. We specify the number of drawings to load (in\n",
    "    order of the NDJSON) as a string (number or 'all'). Each dictionary contains:\n",
<<<<<<< HEAD
    "        - key_id, as string\n",
    "        - class, as string\n",
    "        - length, as integer\n",
    "        - list_deltas, as list\n",
    "    '''\n",
    "    list_drawings = []  # Initialize the list to return\n",
    "\n",
    "    if nb_drawings_to_load == 'all':\n",
    "        # Getting the number of line in the file using a shell command (fastest way)\n",
    "        nb_drawings_to_load = int(re.search(r'\\d+', str(subprocess.check_output(['wc', '-l', ndjson_filepath]))).group())\n",
    "    elif (isinstance(nb_drawings_to_load, str) and nb_drawings_to_load.isnumeric()) or isinstance(nb_drawings_to_load, int):\n",
    "        # We also escape a number of drawings entered as an integer instead of a string...\n",
    "        nb_drawings_to_load = int(nb_drawings_to_load)\n",
    "    else:\n",
    "        nb_drawings_to_load = 0\n",
    "        \n",
    "    for i in range(0, int(nb_drawings_to_load)):\n",
    "        json_drawing = json.loads(linecache.getline(ndjson_filepath, i+1 , module_globals=None))\n",
    "        np_deltas = get_drawing_data(json_drawing)\n",
    "        dict_drawing = {'key_id': json_drawing['key_id'],\n",
    "                        'class': json_drawing['word'],\n",
    "                        'length': len(np_deltas),\n",
    "                        'list_deltas': np_deltas.tolist()  # need to be transformed to list to dump as Json file later\n",
    "                       }\n",
    "        list_drawings.append(dict_drawing)\n",
    "    linecache.clearcache()\n",
    "    \n",
    "    return list_drawings"
=======
    "        - key_id, as integer\n",
    "        - class, as a string\n",
    "        - length, as integer\n",
    "        - lst_delats, as list\n",
    "    '''\n",
    "    lst_drawings = []  # Initialize the list to return\n",
    "\n",
    "    if nb_drawings_to_load.isnumeric():\n",
    "        for i in range(0, int(nb_drawings_to_load)):\n",
    "            json_drawing = json.loads(linecache.getline(ndjson_path, i+1 , module_globals=None))\n",
    "            np_deltas = get_drawing_data(json_drawing)\n",
    "            dict_drawing = {'key_id': json_drawing['key_id'],\n",
    "                            'class': json_drawing['word'],\n",
    "                            'length': len(np_deltas),\n",
    "                            'lst_deltas': np_deltas.tolist()  # need to be transformed to list to dump as Json file later\n",
    "                           }\n",
    "            lst_drawings.append(dict_drawing)\n",
    "    elif nb_drawings_to_load == 'all':\n",
    "        i = 0\n",
    "        # TODO: change the method to find last line of ndjson file!\n",
    "        while len(linecache.getline(ndjson_path, i+1 , module_globals=None))>0:\n",
    "            json_drawing = json.loads(linecache.getline(ndjson_path, i+1 , module_globals=None))\n",
    "            linecache.clearcache()\n",
    "            np_deltas = get_drawing_data(json_drawing)\n",
    "            dict_drawing = {'key_id': json_drawing['key_id'],\n",
    "                            'class': json_drawing['word'],\n",
    "                            'length': len(np_deltas),\n",
    "                            'lst_deltas': np_deltas.tolist()  # need to be transformed to list to dump as Json file later\n",
    "                           }\n",
    "            lst_drawings.append(dict_drawing)\n",
    "            i += 1\n",
    "    else:\n",
    "        return\n",
    "        \n",
    "    return lst_drawings"
   ]
  },
  {
   "cell_type": "code",
   "execution_count": 29,
   "id": "0b61b14a-5e1a-4165-8eb8-09e02ba7cdf8",
   "metadata": {},
   "outputs": [
    {
     "data": {
      "text/plain": [
       "''"
      ]
     },
     "execution_count": 29,
     "metadata": {},
     "output_type": "execute_result"
    }
   ],
   "source": [
    "linecache.getline(ndjson_path, 162000, module_globals=None)"
>>>>>>> master
   ]
  },
  {
   "cell_type": "code",
   "execution_count": 74,
   "id": "22480d4a-ff37-485d-8911-5c9452913467",
   "metadata": {},
   "outputs": [
    {
     "name": "stdout",
     "output_type": "stream",
     "text": [
      "CPU times: user 2.89 s, sys: 148 ms, total: 3.04 s\n",
      "Wall time: 3.08 s\n"
     ]
    }
   ],
   "source": [
    "%%time\n",
    "list_drawings = drawings_extraction(ndjson_filepath, 50000)"
   ]
  },
  {
   "cell_type": "code",
   "execution_count": 75,
   "id": "b91dbbb9-a227-4470-8843-02a5d83ef966",
   "metadata": {},
   "outputs": [
    {
     "name": "stdout",
     "output_type": "stream",
     "text": [
      "CPU times: user 1.82 s, sys: 81.8 ms, total: 1.91 s\n",
      "Wall time: 1.91 s\n"
     ]
    }
   ],
   "source": [
    "%%time\n",
    "list_drawings = drawings_extraction_v2(ndjson_filepath, 50000)"
   ]
  },
  {
   "cell_type": "code",
   "execution_count": 76,
   "id": "d83ccf3f-9b7b-4c97-abdc-3c3193f00ea1",
   "metadata": {
    "scrolled": true
   },
   "outputs": [
    {
     "data": {
      "text/plain": [
       "{'key_id': '5152530285723648',\n",
       " 'class': 'face',\n",
       " 'length': 65,\n",
       " 'list_deltas': [[-0.0591, 0.018, 0.0],\n",
       "  [-0.063, 0.0676, 0.0],\n",
       "  [-0.0433, 0.0991, 0.0],\n",
       "  [-0.0354, 0.1261, 0.0],\n",
       "  [-0.0315, 0.1757, 0.0],\n",
       "  [0.0, 0.1351, 0.0],\n",
       "  [0.0512, 0.1351, 0.0],\n",
       "  [0.0748, 0.0946, 0.0],\n",
       "  [0.0669, 0.0495, 0.0],\n",
       "  [0.1417, 0.0676, 0.0],\n",
       "  [0.0984, 0.0225, 0.0],\n",
       "  [0.1024, 0.0045, 0.0],\n",
       "  [0.122, 0.0, 0.0],\n",
       "  [0.0866, -0.0225, 0.0],\n",
       "  [0.0787, -0.036, 0.0],\n",
       "  [0.0787, -0.0631, 0.0],\n",
       "  [0.0984, -0.2297, 0.0],\n",
       "  [0.0, -0.1757, 0.0],\n",
       "  [-0.063, -0.1757, 0.0],\n",
       "  [-0.063, -0.0811, 0.0],\n",
       "  [-0.063, -0.0495, 0.0],\n",
       "  [-0.0984, -0.0586, 0.0],\n",
       "  [-0.1732, -0.0721, 0.0],\n",
       "  [-0.2008, -0.036, 0.0],\n",
       "  [-0.1417, 0.0, 0.0],\n",
       "  [-0.0472, 0.0315, 1.0],\n",
       "  [0.1496, 0.2432, 0.0],\n",
       "  [0.0, 0.027, 0.0],\n",
       "  [-0.0197, 0.018, 0.0],\n",
       "  [-0.0472, -0.0045, 0.0],\n",
       "  [-0.0118, -0.027, 0.0],\n",
       "  [0.0, -0.0405, 0.0],\n",
       "  [0.0197, -0.036, 0.0],\n",
       "  [0.0433, -0.009, 0.0],\n",
       "  [0.0433, 0.009, 0.0],\n",
       "  [0.0236, 0.0946, 0.0],\n",
       "  [-0.0118, 0.045, 0.0],\n",
       "  [-0.0276, 0.009, 0.0],\n",
       "  [-0.0591, -0.0135, 0.0],\n",
       "  [-0.0315, -0.0631, 1.0],\n",
       "  [0.4724, 0.0856, 0.0],\n",
       "  [-0.0394, 0.018, 0.0],\n",
       "  [-0.0787, -0.0045, 0.0],\n",
       "  [-0.0512, -0.045, 0.0],\n",
       "  [-0.0118, -0.0495, 0.0],\n",
       "  [0.1063, -0.0586, 0.0],\n",
       "  [0.1378, -0.0045, 0.0],\n",
       "  [0.0236, 0.0405, 0.0],\n",
       "  [-0.0079, 0.0856, 0.0],\n",
       "  [-0.0236, 0.0405, 0.0],\n",
       "  [-0.0512, 0.036, 0.0],\n",
       "  [-0.0787, 0.0045, 0.0],\n",
       "  [-0.0709, -0.027, 0.0],\n",
       "  [-0.0315, -0.0405, 0.0],\n",
       "  [-0.0079, -0.0405, 0.0],\n",
       "  [0.0118, -0.0045, 1.0],\n",
       "  [-0.2953, 0.4369, 0.0],\n",
       "  [0.0433, 0.0541, 0.0],\n",
       "  [0.0472, 0.0225, 0.0],\n",
       "  [0.1181, 0.045, 0.0],\n",
       "  [0.1693, 0.0225, 0.0],\n",
       "  [0.1929, 0.0, 0.0],\n",
       "  [0.0551, -0.0225, 0.0],\n",
       "  [0.0472, -0.0405, 0.0],\n",
       "  [0.0118, -0.0315, 1.0]]}"
      ]
     },
     "execution_count": 76,
     "metadata": {},
     "output_type": "execute_result"
    }
   ],
   "source": [
    "list_drawings[0]"
   ]
  },
  {
   "cell_type": "code",
   "execution_count": 64,
   "id": "21b36916-a706-4ab9-b7c4-b781792a0e4c",
   "metadata": {},
   "outputs": [
    {
     "data": {
      "text/plain": [
       "'/Users/loicregne/code/rs-uk/raw_data/full_simplified_face.ndjson'"
      ]
     },
     "execution_count": 64,
     "metadata": {},
     "output_type": "execute_result"
    }
   ],
   "source": [
    "ndjson_filepath"
   ]
  },
  {
   "cell_type": "code",
<<<<<<< HEAD
   "execution_count": 65,
   "id": "1989807d-2ded-4dd1-b5b1-9344d568bb8e",
=======
   "execution_count": 49,
   "id": "302c2b95-8bbd-4c1c-9d21-55e53a83c299",
   "metadata": {},
   "outputs": [
    {
     "name": "stdout",
     "output_type": "stream",
     "text": [
      "CPU times: user 5.46 s, sys: 1.24 s, total: 6.7 s\n",
      "Wall time: 7.25 s\n"
     ]
    }
   ],
   "source": [
    "%%time\n",
    "dict_test = drawing_extraction(ndjson_path, 100000)"
   ]
  },
  {
   "cell_type": "code",
   "execution_count": 57,
   "id": "22480d4a-ff37-485d-8911-5c9452913467",
   "metadata": {},
   "outputs": [
    {
     "name": "stdout",
     "output_type": "stream",
     "text": [
      "CPU times: user 4.57 s, sys: 114 ms, total: 4.69 s\n",
      "Wall time: 4.7 s\n"
     ]
    }
   ],
   "source": [
    "%%time\n",
    "dict_test = drawings_extraction_fast(ndjson_path, '100000')"
   ]
  },
  {
   "cell_type": "code",
   "execution_count": 13,
   "id": "5377a94f-5df6-497a-849f-f38ac6f81e37",
>>>>>>> master
   "metadata": {},
   "outputs": [
    {
     "data": {
      "text/plain": [
       "'/Users/loicregne/code/rs-uk/raw_data/processed_full_simplified_face.ndjson'"
      ]
     },
     "execution_count": 65,
     "metadata": {},
     "output_type": "execute_result"
    }
   ],
   "source": [
    "# Where we want to save the output file and a name is given\n",
    "output_file = path_data + '/' + 'processed_' + file_name\n",
    "output_file"
   ]
  },
  {
   "cell_type": "code",
   "execution_count": 66,
   "id": "4412b427-a642-4dfb-94bc-8ee2da640279",
   "metadata": {},
   "outputs": [],
   "source": [
    "# Function to save the dictionary file for the processed images\n",
    "def save_images_dict_to_json(list_drawings, output_file):\n",
    "    with open(output_file, 'w') as json_file:\n",
    "        json.dump(list_drawings, json_file)"
   ]
  },
  {
   "cell_type": "code",
   "execution_count": 67,
   "id": "371be7c8-aea2-442b-8646-debc34bba7e9",
   "metadata": {},
   "outputs": [],
   "source": [
    "# Function to save the drawings in the list to an ndjson file locally\n",
    "def save_drawings_to_ndjson_local(list_drawings: list, output_file: str) -> None:\n",
    "    '''\n",
    "        - list_drawings: contains a dictionary for each drawing\n",
    "        - output_file: the complete filepath to the target file to save/create (.ndjson)\n",
    "    '''\n",
    "    with open(output_file, 'w') as ndjson_file:\n",
    "        # Write each drawing's dict to the file as a new line\n",
    "        for dict_drawing in list_drawings:\n",
    "            ndjson_file.write(str(dict_drawing) + '\\n')"
   ]
  },
  {
   "cell_type": "code",
   "execution_count": 77,
   "id": "191343f8-8f62-4c9f-9d57-a479a7c4a6cc",
   "metadata": {},
   "outputs": [
    {
     "name": "stdout",
     "output_type": "stream",
     "text": [
      "CPU times: user 8.98 s, sys: 1.04 s, total: 10 s\n",
      "Wall time: 10.5 s\n"
     ]
    }
   ],
   "source": [
    "%%time\n",
    "list_drawings = drawings_extraction_v2(ndjson_filepath, 'all')"
   ]
  },
  {
   "cell_type": "code",
   "execution_count": 78,
   "id": "188a823f-b6b3-421f-9228-e27dc28d68d0",
   "metadata": {},
   "outputs": [
    {
     "name": "stdout",
     "output_type": "stream",
     "text": [
      "CPU times: user 20.1 s, sys: 498 ms, total: 20.6 s\n",
      "Wall time: 21.3 s\n"
     ]
    }
   ],
   "source": [
    "%%time\n",
    "save_images_dict_to_json(list_drawings, output_file)"
   ]
  },
  {
   "cell_type": "code",
   "execution_count": 79,
   "id": "b29b2584-da51-4051-87a2-b96e3cbee4ba",
   "metadata": {},
   "outputs": [
    {
     "name": "stdout",
     "output_type": "stream",
     "text": [
      "CPU times: user 4.95 s, sys: 498 ms, total: 5.45 s\n",
      "Wall time: 5.99 s\n"
     ]
    }
   ],
   "source": [
    "%%time\n",
    "save_drawings_to_ndjson_local(list_drawings, output_file)"
   ]
  },
  {
   "cell_type": "code",
   "execution_count": null,
   "id": "81310a24-6bba-49fb-9ca1-771804fd9b12",
   "metadata": {},
   "outputs": [],
   "source": [
    "# TODO:\n",
    "# Push the new file to gcp bucket\n",
    "# Run for the list of ndjson files in a loop\n",
    "# Include the resampling of the raw data "
   ]
  },
  {
   "cell_type": "code",
   "execution_count": null,
   "id": "5054bf33-4304-40a3-a903-693f7ccec0e6",
   "metadata": {},
   "outputs": [],
   "source": []
  },
  {
   "cell_type": "code",
   "execution_count": null,
   "id": "32eaa17c-5400-4af0-9632-ba9d4ff384c3",
   "metadata": {},
   "outputs": [],
   "source": []
  },
  {
   "cell_type": "code",
   "execution_count": null,
   "id": "1fc76be3-beeb-4c7d-8d2d-eb9ecae7a5e1",
   "metadata": {},
   "outputs": [],
   "source": [
    "def upload_blob(bucket_name, file_path, file_name):\n",
    "    \"\"\"Uploads a file to the bucket.\"\"\"\n",
    "    storage_client = storage.Client()\n",
    "    bucket = storage_client.bucket(bucket_name)\n",
    "    blob = bucket.blob(file_name)\n",
    "    blob.upload_from_filename(file_path + '/' + file_name)"
   ]
  },
  {
   "cell_type": "code",
   "execution_count": null,
   "id": "eb2af965-1c8f-48ee-a2d1-1db25216ed7d",
   "metadata": {},
   "outputs": [],
   "source": [
    "bucket_name = 'quickdraw-simplified-processed'\n",
    "file_path = path_data\n",
    "file_name = 'processed_full_simplified_face.json'\n",
    "\n",
    "upload_blob(bucket_name, file_path, file_name)"
   ]
  },
  {
   "cell_type": "markdown",
   "id": "26d90016-ebe8-4ea5-aea2-49b28491b55b",
   "metadata": {},
   "source": [
    "# Go through all the blobs in a bucket"
   ]
  },
  {
   "cell_type": "code",
   "execution_count": 84,
   "id": "dbd2328e-a898-4279-bc8c-1836692cabb1",
   "metadata": {},
   "outputs": [],
   "source": [
    "def list_blobs(bucket_name: str) -> list:\n",
    "    '''\n",
    "    Lists all the blobs in the bucket.\n",
    "    '''\n",
    "    # Initialize a client\n",
    "    storage_client = storage.Client()\n",
    "    # Get the bucket\n",
    "    bucket = storage_client.bucket(bucket_name)\n",
    "    # List the blobs in the bucket\n",
    "    blobs = bucket.list_blobs()\n",
    "    # Collect the names of blobs into a list\n",
    "    blob_names = [blob.name for blob in blobs]\n",
    "    return blob_names"
   ]
  },
  {
   "cell_type": "code",
   "execution_count": 85,
   "id": "582c82c4-ab06-4c4d-aa77-a89df20d4a7a",
   "metadata": {},
   "outputs": [
    {
     "data": {
      "text/plain": [
       "['The Eiffel Tower.ndjson',\n",
       " 'The Great Wall of China.ndjson',\n",
       " 'The Mona Lisa.ndjson',\n",
       " 'aircraft carrier.ndjson',\n",
       " 'airplane.ndjson',\n",
       " 'alarm clock.ndjson',\n",
       " 'ambulance.ndjson',\n",
       " 'angel.ndjson',\n",
       " 'animal migration.ndjson',\n",
       " 'ant.ndjson',\n",
       " 'anvil.ndjson',\n",
       " 'apple.ndjson',\n",
       " 'arm.ndjson',\n",
       " 'asparagus.ndjson',\n",
       " 'axe.ndjson',\n",
       " 'backpack.ndjson',\n",
       " 'banana.ndjson',\n",
       " 'bandage.ndjson',\n",
       " 'barn.ndjson',\n",
       " 'baseball bat.ndjson',\n",
       " 'baseball.ndjson',\n",
       " 'basket.ndjson',\n",
       " 'basketball.ndjson',\n",
       " 'bat.ndjson',\n",
       " 'bathtub.ndjson',\n",
       " 'beach.ndjson',\n",
       " 'bear.ndjson',\n",
       " 'beard.ndjson',\n",
       " 'bed.ndjson',\n",
       " 'bee.ndjson',\n",
       " 'belt.ndjson',\n",
       " 'bench.ndjson',\n",
       " 'bicycle.ndjson',\n",
       " 'binoculars.ndjson',\n",
       " 'bird.ndjson',\n",
       " 'birthday cake.ndjson',\n",
       " 'blackberry.ndjson',\n",
       " 'blueberry.ndjson',\n",
       " 'book.ndjson',\n",
       " 'boomerang.ndjson',\n",
       " 'bottlecap.ndjson',\n",
       " 'bowtie.ndjson',\n",
       " 'bracelet.ndjson',\n",
       " 'brain.ndjson',\n",
       " 'bread.ndjson',\n",
       " 'bridge.ndjson',\n",
       " 'broccoli.ndjson',\n",
       " 'broom.ndjson',\n",
       " 'bucket.ndjson',\n",
       " 'bulldozer.ndjson',\n",
       " 'bus.ndjson',\n",
       " 'bush.ndjson',\n",
       " 'butterfly.ndjson',\n",
       " 'cactus.ndjson',\n",
       " 'cake.ndjson',\n",
       " 'calculator.ndjson',\n",
       " 'calendar.ndjson',\n",
       " 'camel.ndjson',\n",
       " 'camera.ndjson',\n",
       " 'camouflage.ndjson',\n",
       " 'campfire.ndjson',\n",
       " 'candle.ndjson',\n",
       " 'cannon.ndjson',\n",
       " 'canoe.ndjson',\n",
       " 'car.ndjson',\n",
       " 'carrot.ndjson',\n",
       " 'castle.ndjson',\n",
       " 'cat.ndjson',\n",
       " 'ceiling fan.ndjson',\n",
       " 'cell phone.ndjson',\n",
       " 'cello.ndjson',\n",
       " 'chair.ndjson',\n",
       " 'chandelier.ndjson',\n",
       " 'church.ndjson',\n",
       " 'circle.ndjson',\n",
       " 'clarinet.ndjson',\n",
       " 'clock.ndjson',\n",
       " 'cloud.ndjson',\n",
       " 'coffee cup.ndjson',\n",
       " 'compass.ndjson',\n",
       " 'computer.ndjson',\n",
       " 'cookie.ndjson',\n",
       " 'cooler.ndjson',\n",
       " 'couch.ndjson',\n",
       " 'cow.ndjson',\n",
       " 'crab.ndjson',\n",
       " 'crayon.ndjson',\n",
       " 'crocodile.ndjson',\n",
       " 'crown.ndjson',\n",
       " 'cruise ship.ndjson',\n",
       " 'cup.ndjson',\n",
       " 'diamond.ndjson',\n",
       " 'dishwasher.ndjson',\n",
       " 'diving board.ndjson',\n",
       " 'dog.ndjson',\n",
       " 'dolphin.ndjson',\n",
       " 'donut.ndjson',\n",
       " 'door.ndjson',\n",
       " 'dragon.ndjson',\n",
       " 'dresser.ndjson',\n",
       " 'drill.ndjson',\n",
       " 'drums.ndjson',\n",
       " 'duck.ndjson',\n",
       " 'dumbbell.ndjson',\n",
       " 'ear.ndjson',\n",
       " 'elbow.ndjson',\n",
       " 'elephant.ndjson',\n",
       " 'envelope.ndjson',\n",
       " 'eraser.ndjson',\n",
       " 'eye.ndjson',\n",
       " 'eyeglasses.ndjson',\n",
       " 'face.ndjson',\n",
       " 'fan.ndjson',\n",
       " 'feather.ndjson',\n",
       " 'fence.ndjson',\n",
       " 'finger.ndjson',\n",
       " 'fire hydrant.ndjson',\n",
       " 'fireplace.ndjson',\n",
       " 'firetruck.ndjson',\n",
       " 'fish.ndjson',\n",
       " 'flamingo.ndjson',\n",
       " 'flashlight.ndjson',\n",
       " 'flip flops.ndjson',\n",
       " 'floor lamp.ndjson',\n",
       " 'flower.ndjson',\n",
       " 'flying saucer.ndjson',\n",
       " 'foot.ndjson',\n",
       " 'fork.ndjson',\n",
       " 'frog.ndjson',\n",
       " 'frying pan.ndjson',\n",
       " 'garden hose.ndjson',\n",
       " 'garden.ndjson',\n",
       " 'giraffe.ndjson',\n",
       " 'goatee.ndjson',\n",
       " 'golf club.ndjson',\n",
       " 'grapes.ndjson',\n",
       " 'grass.ndjson',\n",
       " 'guitar.ndjson',\n",
       " 'hamburger.ndjson',\n",
       " 'hammer.ndjson',\n",
       " 'hand.ndjson',\n",
       " 'harp.ndjson',\n",
       " 'hat.ndjson',\n",
       " 'headphones.ndjson',\n",
       " 'hedgehog.ndjson',\n",
       " 'helicopter.ndjson',\n",
       " 'helmet.ndjson',\n",
       " 'hexagon.ndjson',\n",
       " 'hockey puck.ndjson',\n",
       " 'hockey stick.ndjson',\n",
       " 'horse.ndjson',\n",
       " 'hospital.ndjson',\n",
       " 'hot air balloon.ndjson',\n",
       " 'hot dog.ndjson',\n",
       " 'hot tub.ndjson',\n",
       " 'hourglass.ndjson',\n",
       " 'house plant.ndjson',\n",
       " 'house.ndjson',\n",
       " 'hurricane.ndjson',\n",
       " 'ice cream.ndjson',\n",
       " 'jacket.ndjson',\n",
       " 'jail.ndjson',\n",
       " 'kangaroo.ndjson',\n",
       " 'key.ndjson',\n",
       " 'keyboard.ndjson',\n",
       " 'knee.ndjson',\n",
       " 'knife.ndjson',\n",
       " 'ladder.ndjson',\n",
       " 'lantern.ndjson',\n",
       " 'laptop.ndjson',\n",
       " 'leaf.ndjson',\n",
       " 'leg.ndjson',\n",
       " 'light bulb.ndjson',\n",
       " 'lighter.ndjson',\n",
       " 'lighthouse.ndjson',\n",
       " 'lightning.ndjson',\n",
       " 'line.ndjson',\n",
       " 'lion.ndjson',\n",
       " 'lipstick.ndjson',\n",
       " 'lobster.ndjson',\n",
       " 'lollipop.ndjson',\n",
       " 'mailbox.ndjson',\n",
       " 'map.ndjson',\n",
       " 'marker.ndjson',\n",
       " 'matches.ndjson',\n",
       " 'megaphone.ndjson',\n",
       " 'mermaid.ndjson',\n",
       " 'microphone.ndjson',\n",
       " 'microwave.ndjson',\n",
       " 'monkey.ndjson',\n",
       " 'moon.ndjson',\n",
       " 'mosquito.ndjson',\n",
       " 'motorbike.ndjson',\n",
       " 'mountain.ndjson',\n",
       " 'mouse.ndjson',\n",
       " 'moustache.ndjson',\n",
       " 'mouth.ndjson',\n",
       " 'mug.ndjson',\n",
       " 'mushroom.ndjson',\n",
       " 'nail.ndjson',\n",
       " 'necklace.ndjson',\n",
       " 'nose.ndjson',\n",
       " 'ocean.ndjson',\n",
       " 'octagon.ndjson',\n",
       " 'octopus.ndjson',\n",
       " 'onion.ndjson',\n",
       " 'oven.ndjson',\n",
       " 'owl.ndjson',\n",
       " 'paint can.ndjson',\n",
       " 'paintbrush.ndjson',\n",
       " 'palm tree.ndjson',\n",
       " 'panda.ndjson',\n",
       " 'pants.ndjson',\n",
       " 'paper clip.ndjson',\n",
       " 'parachute.ndjson',\n",
       " 'parrot.ndjson',\n",
       " 'passport.ndjson',\n",
       " 'peanut.ndjson',\n",
       " 'pear.ndjson',\n",
       " 'peas.ndjson',\n",
       " 'pencil.ndjson',\n",
       " 'penguin.ndjson',\n",
       " 'piano.ndjson',\n",
       " 'pickup truck.ndjson',\n",
       " 'picture frame.ndjson',\n",
       " 'pig.ndjson',\n",
       " 'pillow.ndjson',\n",
       " 'pineapple.ndjson',\n",
       " 'pizza.ndjson',\n",
       " 'pliers.ndjson',\n",
       " 'police car.ndjson',\n",
       " 'pond.ndjson',\n",
       " 'pool.ndjson',\n",
       " 'popsicle.ndjson',\n",
       " 'postcard.ndjson',\n",
       " 'potato.ndjson',\n",
       " 'power outlet.ndjson',\n",
       " 'purse.ndjson',\n",
       " 'rabbit.ndjson',\n",
       " 'raccoon.ndjson',\n",
       " 'radio.ndjson',\n",
       " 'rain.ndjson',\n",
       " 'rainbow.ndjson',\n",
       " 'rake.ndjson',\n",
       " 'remote control.ndjson',\n",
       " 'rhinoceros.ndjson',\n",
       " 'rifle.ndjson',\n",
       " 'river.ndjson',\n",
       " 'roller coaster.ndjson',\n",
       " 'rollerskates.ndjson',\n",
       " 'sailboat.ndjson',\n",
       " 'sandwich.ndjson',\n",
       " 'saw.ndjson',\n",
       " 'saxophone.ndjson',\n",
       " 'school bus.ndjson',\n",
       " 'scissors.ndjson',\n",
       " 'scorpion.ndjson',\n",
       " 'screwdriver.ndjson',\n",
       " 'sea turtle.ndjson',\n",
       " 'see saw.ndjson',\n",
       " 'shark.ndjson',\n",
       " 'sheep.ndjson',\n",
       " 'shoe.ndjson',\n",
       " 'shorts.ndjson',\n",
       " 'shovel.ndjson',\n",
       " 'sink.ndjson',\n",
       " 'skateboard.ndjson',\n",
       " 'skull.ndjson',\n",
       " 'skyscraper.ndjson',\n",
       " 'sleeping bag.ndjson',\n",
       " 'smiley face.ndjson',\n",
       " 'snail.ndjson',\n",
       " 'snake.ndjson',\n",
       " 'snorkel.ndjson',\n",
       " 'snowflake.ndjson',\n",
       " 'snowman.ndjson',\n",
       " 'soccer ball.ndjson',\n",
       " 'sock.ndjson',\n",
       " 'speedboat.ndjson',\n",
       " 'spider.ndjson',\n",
       " 'spoon.ndjson',\n",
       " 'spreadsheet.ndjson',\n",
       " 'square.ndjson',\n",
       " 'squiggle.ndjson',\n",
       " 'squirrel.ndjson',\n",
       " 'stairs.ndjson',\n",
       " 'star.ndjson',\n",
       " 'steak.ndjson',\n",
       " 'stereo.ndjson',\n",
       " 'stethoscope.ndjson',\n",
       " 'stitches.ndjson',\n",
       " 'stop sign.ndjson',\n",
       " 'stove.ndjson',\n",
       " 'strawberry.ndjson',\n",
       " 'streetlight.ndjson',\n",
       " 'string bean.ndjson',\n",
       " 'submarine.ndjson',\n",
       " 'suitcase.ndjson',\n",
       " 'sun.ndjson',\n",
       " 'swan.ndjson',\n",
       " 'sweater.ndjson',\n",
       " 'swing set.ndjson',\n",
       " 'sword.ndjson',\n",
       " 'syringe.ndjson',\n",
       " 't-shirt.ndjson',\n",
       " 'table.ndjson',\n",
       " 'teapot.ndjson',\n",
       " 'teddy-bear.ndjson',\n",
       " 'telephone.ndjson',\n",
       " 'television.ndjson',\n",
       " 'tennis racquet.ndjson',\n",
       " 'tent.ndjson',\n",
       " 'tiger.ndjson',\n",
       " 'toaster.ndjson',\n",
       " 'toe.ndjson',\n",
       " 'toilet.ndjson',\n",
       " 'tooth.ndjson',\n",
       " 'toothbrush.ndjson',\n",
       " 'toothpaste.ndjson',\n",
       " 'tornado.ndjson',\n",
       " 'tractor.ndjson',\n",
       " 'traffic light.ndjson',\n",
       " 'train.ndjson',\n",
       " 'tree.ndjson',\n",
       " 'triangle.ndjson',\n",
       " 'trombone.ndjson',\n",
       " 'truck.ndjson',\n",
       " 'trumpet.ndjson',\n",
       " 'umbrella.ndjson',\n",
       " 'underwear.ndjson',\n",
       " 'van.ndjson',\n",
       " 'vase.ndjson',\n",
       " 'violin.ndjson',\n",
       " 'washing machine.ndjson',\n",
       " 'watermelon.ndjson',\n",
       " 'waterslide.ndjson',\n",
       " 'whale.ndjson',\n",
       " 'wheel.ndjson',\n",
       " 'windmill.ndjson',\n",
       " 'wine bottle.ndjson',\n",
       " 'wine glass.ndjson',\n",
       " 'wristwatch.ndjson',\n",
       " 'yoga.ndjson',\n",
       " 'zebra.ndjson',\n",
       " 'zigzag.ndjson']"
      ]
     },
     "execution_count": 85,
     "metadata": {},
     "output_type": "execute_result"
    }
   ],
   "source": [
    "bucket_name = 'quickdraw-simplified'\n",
    "list_blobs(bucket_name)"
   ]
  },
  {
   "cell_type": "code",
   "execution_count": null,
   "id": "63087df3-bd3c-4139-a06c-ab431a23f9bd",
   "metadata": {},
   "outputs": [],
   "source": []
  }
 ],
 "metadata": {
  "kernelspec": {
   "display_name": "Python 3 (ipykernel)",
   "language": "python",
   "name": "python3"
  },
  "language_info": {
   "codemirror_mode": {
    "name": "ipython",
    "version": 3
   },
   "file_extension": ".py",
   "mimetype": "text/x-python",
   "name": "python",
   "nbconvert_exporter": "python",
   "pygments_lexer": "ipython3",
   "version": "3.10.6"
  },
  "toc": {
   "base_numbering": 1,
   "nav_menu": {},
   "number_sections": true,
   "sideBar": true,
   "skip_h1_title": false,
   "title_cell": "Table of Contents",
   "title_sidebar": "Contents",
   "toc_cell": false,
   "toc_position": {},
   "toc_section_display": true,
   "toc_window_display": false
  }
 },
 "nbformat": 4,
 "nbformat_minor": 5
}
