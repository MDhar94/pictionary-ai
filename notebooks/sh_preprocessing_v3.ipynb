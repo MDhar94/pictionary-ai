{
 "cells": [
  {
   "cell_type": "code",
   "execution_count": 1,
   "id": "3bff144d-0e16-48ac-a555-072d2dd0f908",
   "metadata": {},
   "outputs": [],
   "source": [
    "import numpy as np\n",
    "import pandas as pd\n",
    "import os\n",
    "import json\n",
    "import matplotlib.pyplot as plt\n",
    "import linecache\n",
    "from google.cloud import storage\n",
    "import subprocess\n",
    "import re"
   ]
  },
  {
   "cell_type": "markdown",
   "id": "a704437d-602c-4ee1-8894-5960dbe61fc9",
   "metadata": {},
   "source": [
    "# Params and utils"
   ]
  },
  {
   "cell_type": "code",
   "execution_count": 3,
   "id": "3fbb7e4c-ac29-4b5b-86d0-dda9e5ae572d",
   "metadata": {},
   "outputs": [],
   "source": [
    "path_data = '/Users/loicregne/code/rs-uk/raw_data'\n",
    "bucket_drawings_simplified = 'quickdraw-simplified'\n",
    "bucket_drawings_simplified_processed = 'quickdraw-simplified-processed'"
   ]
  },
  {
   "cell_type": "code",
   "execution_count": 3,
   "id": "c876c477-37d2-49c5-a55a-d5acddbc4a53",
   "metadata": {},
   "outputs": [],
   "source": [
    "# List all the blovs in a given bucket aand return their names in a list\n",
    "def list_blobs(bucket_name: str) -> list:\n",
    "    '''\n",
    "    Lists all the blobs in the bucket.\n",
    "    '''\n",
    "    # Initialize a client\n",
    "    storage_client = storage.Client()\n",
    "    \n",
    "    # Get the bucket\n",
    "    bucket = storage_client.bucket(bucket_name)\n",
    "    \n",
    "    # List the blobs in the bucket\n",
    "    blobs = bucket.list_blobs()\n",
    "    \n",
    "    # Collect the names of blobs into a list\n",
    "    blob_names = [blob.name for blob in blobs]\n",
    "    \n",
    "    return blob_names"
   ]
  },
  {
   "cell_type": "code",
   "execution_count": 4,
   "id": "412b9877-62ed-4e14-880e-b5da03952089",
   "metadata": {},
   "outputs": [],
   "source": [
    "# Copy all the content of one bucket to another bucket\n",
    "def copy_bucket(source_bucket_name: str, destination_bucket_name:str) -> None:\n",
    "    '''\n",
    "    Copies all blobs from the source bucket to the destination bucket.\n",
    "    '''\n",
    "    # Initialize clients for source and destination buckets\n",
    "    source_client = storage.Client()\n",
    "    destination_client = storage.Client()\n",
    "\n",
    "    # Get the source and destination buckets\n",
    "    source_bucket = source_client.bucket(source_bucket_name)\n",
    "    destination_bucket = destination_client.bucket(destination_bucket_name)\n",
    "\n",
    "    # List blobs in the source bucket\n",
    "    blobs = source_bucket.list_blobs()\n",
    "\n",
    "    # Copy each blob to the destination bucket\n",
    "    for blob in blobs:\n",
    "        source_blob = source_bucket.blob(blob.name)\n",
    "        destination_blob = destination_bucket.blob(blob.name)\n",
    "        destination_blob.copy(source_blob)"
   ]
  },
  {
   "cell_type": "code",
   "execution_count": 5,
   "id": "785aad86-0463-437a-a379-a2ef6bdd0249",
   "metadata": {},
   "outputs": [],
   "source": [
    "# Download a blob from a bucket and store it locally\n",
    "def download_blob(bucket_name, source_blob_name, destination_file_name):\n",
    "    '''\n",
    "    Downloads a blob from the bucket.\n",
    "    '''\n",
    "    # Initialize a client\n",
    "    storage_client = storage.Client()\n",
    "\n",
    "    # Get the bucket\n",
    "    bucket = storage_client.bucket(bucket_name)\n",
    "\n",
    "    # Get the blob\n",
    "    blob = bucket.blob(source_blob_name)\n",
    "\n",
    "    # Download the blob to a file\n",
    "    blob.download_to_filename(destination_file_name)"
   ]
  },
  {
   "cell_type": "code",
   "execution_count": 6,
   "id": "ba72af6e-888d-4a58-a7dc-216887791b57",
   "metadata": {},
   "outputs": [],
   "source": [
    "# Upload a file to a bucket\n",
    "def upload_blob(bucket_name, source_file_name, destination_blob_name):\n",
    "    '''\n",
    "    Uploads a file to the bucket.\n",
    "    '''\n",
    "    # Initialize a client\n",
    "    storage_client = storage.Client()\n",
    "\n",
    "    # Get the bucket\n",
    "    bucket = storage_client.bucket(bucket_name)\n",
    "\n",
    "    # Create a blob\n",
    "    blob = bucket.blob(destination_blob_name)\n",
    "\n",
    "    # Upload the file to the blob\n",
    "    blob.upload_from_filename(source_file_name)"
   ]
  },
  {
   "cell_type": "markdown",
   "id": "5bf1940a-60b4-4b2a-ad7e-df4010cd1138",
   "metadata": {},
   "source": [
    "# Copying the Google data into our own bucket"
   ]
  },
  {
   "cell_type": "code",
   "execution_count": 7,
   "id": "9bf6e0ce-2286-4682-8dfd-94d27925dcef",
   "metadata": {},
   "outputs": [],
   "source": [
    "# Done already by Raj"
   ]
  },
  {
   "cell_type": "markdown",
   "id": "78ab787a-b31b-4be9-9849-426783666d85",
   "metadata": {},
   "source": [
    "# Downloading a simplified class from the bucket"
   ]
  },
  {
   "cell_type": "code",
   "execution_count": 11,
   "id": "8a93145e-a2d1-4fc8-a396-9dd78abe3a87",
   "metadata": {},
   "outputs": [],
   "source": [
    "# Already done"
   ]
  },
  {
   "cell_type": "code",
   "execution_count": 5,
   "id": "2eac59e6-8870-45f2-a1b8-67ec979d5338",
   "metadata": {},
   "outputs": [],
   "source": [
    "file_name_example = 'full_simplified_face.ndjson'"
   ]
  },
  {
   "cell_type": "markdown",
   "id": "acbb3397-b992-468e-9f14-af63196fb30e",
   "metadata": {},
   "source": [
    "# Processing a simplified drawing"
   ]
  },
  {
   "cell_type": "code",
   "execution_count": 7,
   "id": "38124873-b3fd-4201-8ec3-47f64a833e42",
   "metadata": {},
   "outputs": [],
   "source": [
    "##Define the function to process the Simplified file and return an array and class name (the drawing to guess)\n",
    "def parse_line(json_drawing: json) -> np.array:\n",
    "    \"\"\"Parse an ndjson line and return ink (as np array) and classname.\"\"\"\n",
    "    inkarray = json_drawing[\"drawing\"]\n",
    "    stroke_lengths = [len(stroke[0]) for stroke in inkarray]\n",
    "    total_points = sum(stroke_lengths)\n",
    "    np_ink = np.zeros((total_points, 3), dtype=np.float32)\n",
    "    current_t = 0\n",
    "    for stroke in inkarray:\n",
    "        for i in [0, 1]:\n",
    "            np_ink[current_t:(current_t + len(stroke[0])), i] = stroke[i]\n",
    "        current_t += len(stroke[0])\n",
    "        np_ink[current_t - 1, 2] = 1  # stroke_end\n",
    "\n",
    "    # Preprocessing.\n",
    "    # 1. Size normalization.\n",
    "    lower = np.min(np_ink[:, 0:2], axis=0)\n",
    "    upper = np.max(np_ink[:, 0:2], axis=0)\n",
    "    scale = upper - lower\n",
    "    scale[scale == 0] = 1\n",
    "    np_ink[:, 0:2] = (np_ink[:, 0:2] - lower) / scale\n",
    "\n",
    "    # 2. Compute deltas.\n",
    "    np_ink[1:, 0:2] -= np_ink[0:-1, 0:2]\n",
    "    np_ink = np_ink[1:, :]\n",
    "    return np.round(np_ink,decimals=4)"
   ]
  },
  {
   "cell_type": "code",
   "execution_count": 8,
   "id": "3ef816f2-0ceb-4764-b277-911984d6b1fe",
   "metadata": {},
   "outputs": [],
   "source": [
    "#  Extracts the drawing data as an np.array of the deltas between points\n",
    "def process_drawing_data(json_drawing: json) -> np.array:\n",
    "    '''\n",
    "    Extracts the drawing data (strokes list) from a drawing JSON file.\n",
    "    Transforms the strokes from coordinates to deltas.\n",
    "    Returns an np.array of deltas (d_x, d_y, end_of_stroke)\n",
    "    '''\n",
    "    # --- Data extraction ---\n",
    "    list_strokes = json_drawing['drawing']\n",
    "    \n",
    "    x = []\n",
    "    y = []\n",
    "    stroke_delimiter = []\n",
    "    list_points = [x, y, stroke_delimiter]\n",
    "    \n",
    "    for stroke in list_strokes:\n",
    "        # Creating the third list to pass to the model with 0 all along and a 1 at the end of the stroke\n",
    "        stroke_delimiter = [0.] * len(stroke[0])\n",
    "        stroke_delimiter[-1] = 1\n",
    "        # Appending x, y, and the delimiter to the new list of points\n",
    "        list_points[0] += stroke[0]\n",
    "        list_points[1] += stroke[1]\n",
    "        list_points[2] += stroke_delimiter\n",
    "\n",
    "    np_points = np.asarray(list_points)\n",
    "    np_points = np_points.T\n",
    "\n",
    "    # --- Processing ---\n",
    "    # 1. Size normalization\n",
    "    lower = np.min(np_points[:, 0:2], axis=0) # returns (x_min, y_min)\n",
    "    upper = np.max(np_points[:, 0:2], axis=0) # returns (x_max, y_max)\n",
    "    scale = upper - lower # returns (width, heigth)\n",
    "    scale[scale == 0] = 1\n",
    "    np_points[:, 0:2] = (np_points[:, 0:2] - lower) / scale\n",
    "\n",
    "    # 2. Compute deltas\n",
    "    np_points[1:, 0:2] -= np_points[0:-1, 0:2]\n",
    "    np_points = np_points[1:, :]\n",
    "    \n",
    "    return np.round(np_points,decimals=4)"
   ]
  },
  {
   "cell_type": "markdown",
   "id": "0b7dea3e-6fb5-45aa-97aa-b0b96bb17575",
   "metadata": {},
   "source": [
    "# Processing a simplified class"
   ]
  },
  {
   "cell_type": "code",
   "execution_count": 7,
   "id": "4abb8685-3d83-4412-a220-f9384d417817",
   "metadata": {},
   "outputs": [
    {
     "data": {
      "text/plain": [
       "'/Users/loicregne/code/rs-uk/raw_data/full_simplified_face.ndjson'"
      ]
     },
     "execution_count": 7,
     "metadata": {},
     "output_type": "execute_result"
    }
   ],
   "source": [
    "ndjson_filepath = '/'.join((path_data, file_name_example))\n",
    "ndjson_filepath"
   ]
  },
  {
   "cell_type": "code",
   "execution_count": 9,
   "id": "45d64f8e-fbb1-463d-b27b-78820a4071f8",
   "metadata": {},
   "outputs": [],
   "source": [
    "def drawings_extraction(ndjson_filepath, nb_drawings_to_load):\n",
    "    list_drawings = []  # Initialize an empty list\n",
    "    with open(ndjson_filepath, 'r') as f:\n",
    "        for i, line in enumerate(f):\n",
    "            json_line = json.loads(line)\n",
    "            np_ink = parse_line(json_line)\n",
    "            length_np_ink = len(np_ink)\n",
    "            dict_drawing_info = {'key_id': json_line['key_id'],\n",
    "                                 'class': json_line['word'],\n",
    "                                 'length_np_ink': length_np_ink,\n",
    "                                 'np_ink': np_ink.tolist()  #need to be transformed to list to dump as Json file later\n",
    "                                }\n",
    "            list_drawings.append(dict_drawing_info)\n",
    "            i += 1\n",
    "            if i == nb_drawings_to_load:\n",
    "                break\n",
    "    return list_drawings"
   ]
  },
  {
   "cell_type": "code",
   "execution_count": 37,
   "id": "91766f3a-2435-41e8-8529-5729f7ff32b0",
   "metadata": {},
   "outputs": [],
   "source": [
    "# Trying a more efficient way to load the data\n",
    "\n",
    "def process_class(ndjson_filepath: object, nb_drawings_to_load: str) -> list:\n",
    "    '''\n",
    "    Extract drawing(s) information from a list of JSON drawings (as NDJSON),\n",
    "    as a list of dictionaries. We specify the number of drawings to load (in\n",
    "    order of the NDJSON) as a string (number or 'all'). Each dictionary contains:\n",
    "        - key_id, as string\n",
    "        - class, as string\n",
    "        - length, as integer\n",
    "        - list_deltas, as list\n",
    "    '''\n",
    "    list_drawings = []  # Initialize the list to return\n",
    "\n",
    "    if nb_drawings_to_load == 'all':\n",
    "        # Getting the number of line in the file using a shell command (fastest way)\n",
    "        nb_drawings_to_load = int(re.search(r'\\d+', str(subprocess.check_output(['wc', '-l', ndjson_filepath]))).group())\n",
    "    elif (isinstance(nb_drawings_to_load, str) and nb_drawings_to_load.isnumeric()) or isinstance(nb_drawings_to_load, int):\n",
    "        # We also escape a number of drawings entered as an integer instead of a string...\n",
    "        nb_drawings_to_load = int(nb_drawings_to_load)\n",
    "    else:\n",
    "        nb_drawings_to_load = 0\n",
    "    \n",
    "    l_bar='{percentage:3.0f}%|'\n",
    "    bar = '{bar}'\n",
    "    r_bar='| {n_fmt}/{total_fmt} [{elapsed}<{remaining}, {rate_fmt}{postfix}]'\n",
    "    bar_format = l_bar + bar + r_bar\n",
    "    processing_bar = tqdm(range(int(nb_drawings_to_load)), bar_format=bar_format)\n",
    "\n",
    "    for i in processing_bar:\n",
    "        json_drawing = json.loads(linecache.getline(ndjson_filepath, i+1 , module_globals=None))\n",
    "        np_deltas = process_drawing_data(json_drawing)\n",
    "        dict_drawing = {'key_id': json_drawing['key_id'],\n",
    "                        'class': json_drawing['word'],\n",
    "                        'length': len(np_deltas),\n",
    "                        'list_deltas': np_deltas.tolist()  # need to be transformed to list to dump as Json file later\n",
    "                       }\n",
    "        list_drawings.append(dict_drawing)\n",
    "    linecache.clearcache()\n",
    "    \n",
    "    return list_drawings"
   ]
  },
  {
   "cell_type": "code",
   "execution_count": 18,
   "id": "22480d4a-ff37-485d-8911-5c9452913467",
   "metadata": {},
   "outputs": [
    {
     "name": "stdout",
     "output_type": "stream",
     "text": [
      "CPU times: user 68.9 ms, sys: 5.14 ms, total: 74.1 ms\n",
      "Wall time: 73.4 ms\n"
     ]
    }
   ],
   "source": [
    "%%time\n",
    "list_drawings = drawings_extraction(ndjson_filepath, 1000)"
   ]
  },
  {
   "cell_type": "code",
   "execution_count": 19,
   "id": "b91dbbb9-a227-4470-8843-02a5d83ef966",
   "metadata": {},
   "outputs": [
    {
     "name": "stdout",
     "output_type": "stream",
     "text": [
      "CPU times: user 140 ms, sys: 34.8 ms, total: 175 ms\n",
      "Wall time: 178 ms\n"
     ]
    }
   ],
   "source": [
    "%%time\n",
    "list_drawings = process_class(ndjson_filepath, 1000)"
   ]
  },
  {
   "cell_type": "code",
   "execution_count": 20,
   "id": "d83ccf3f-9b7b-4c97-abdc-3c3193f00ea1",
   "metadata": {
    "scrolled": true
   },
   "outputs": [
    {
     "data": {
      "text/plain": [
       "{'key_id': '5152530285723648',\n",
       " 'class': 'face',\n",
       " 'length': 65,\n",
       " 'list_deltas': [[-0.0591, 0.018, 0.0],\n",
       "  [-0.063, 0.0676, 0.0],\n",
       "  [-0.0433, 0.0991, 0.0],\n",
       "  [-0.0354, 0.1261, 0.0],\n",
       "  [-0.0315, 0.1757, 0.0],\n",
       "  [0.0, 0.1351, 0.0],\n",
       "  [0.0512, 0.1351, 0.0],\n",
       "  [0.0748, 0.0946, 0.0],\n",
       "  [0.0669, 0.0495, 0.0],\n",
       "  [0.1417, 0.0676, 0.0],\n",
       "  [0.0984, 0.0225, 0.0],\n",
       "  [0.1024, 0.0045, 0.0],\n",
       "  [0.122, 0.0, 0.0],\n",
       "  [0.0866, -0.0225, 0.0],\n",
       "  [0.0787, -0.036, 0.0],\n",
       "  [0.0787, -0.0631, 0.0],\n",
       "  [0.0984, -0.2297, 0.0],\n",
       "  [0.0, -0.1757, 0.0],\n",
       "  [-0.063, -0.1757, 0.0],\n",
       "  [-0.063, -0.0811, 0.0],\n",
       "  [-0.063, -0.0495, 0.0],\n",
       "  [-0.0984, -0.0586, 0.0],\n",
       "  [-0.1732, -0.0721, 0.0],\n",
       "  [-0.2008, -0.036, 0.0],\n",
       "  [-0.1417, 0.0, 0.0],\n",
       "  [-0.0472, 0.0315, 1.0],\n",
       "  [0.1496, 0.2432, 0.0],\n",
       "  [0.0, 0.027, 0.0],\n",
       "  [-0.0197, 0.018, 0.0],\n",
       "  [-0.0472, -0.0045, 0.0],\n",
       "  [-0.0118, -0.027, 0.0],\n",
       "  [0.0, -0.0405, 0.0],\n",
       "  [0.0197, -0.036, 0.0],\n",
       "  [0.0433, -0.009, 0.0],\n",
       "  [0.0433, 0.009, 0.0],\n",
       "  [0.0236, 0.0946, 0.0],\n",
       "  [-0.0118, 0.045, 0.0],\n",
       "  [-0.0276, 0.009, 0.0],\n",
       "  [-0.0591, -0.0135, 0.0],\n",
       "  [-0.0315, -0.0631, 1.0],\n",
       "  [0.4724, 0.0856, 0.0],\n",
       "  [-0.0394, 0.018, 0.0],\n",
       "  [-0.0787, -0.0045, 0.0],\n",
       "  [-0.0512, -0.045, 0.0],\n",
       "  [-0.0118, -0.0495, 0.0],\n",
       "  [0.1063, -0.0586, 0.0],\n",
       "  [0.1378, -0.0045, 0.0],\n",
       "  [0.0236, 0.0405, 0.0],\n",
       "  [-0.0079, 0.0856, 0.0],\n",
       "  [-0.0236, 0.0405, 0.0],\n",
       "  [-0.0512, 0.036, 0.0],\n",
       "  [-0.0787, 0.0045, 0.0],\n",
       "  [-0.0709, -0.027, 0.0],\n",
       "  [-0.0315, -0.0405, 0.0],\n",
       "  [-0.0079, -0.0405, 0.0],\n",
       "  [0.0118, -0.0045, 1.0],\n",
       "  [-0.2953, 0.4369, 0.0],\n",
       "  [0.0433, 0.0541, 0.0],\n",
       "  [0.0472, 0.0225, 0.0],\n",
       "  [0.1181, 0.045, 0.0],\n",
       "  [0.1693, 0.0225, 0.0],\n",
       "  [0.1929, 0.0, 0.0],\n",
       "  [0.0551, -0.0225, 0.0],\n",
       "  [0.0472, -0.0405, 0.0],\n",
       "  [0.0118, -0.0315, 1.0]]}"
      ]
     },
     "execution_count": 20,
     "metadata": {},
     "output_type": "execute_result"
    }
   ],
   "source": [
    "list_drawings[0]"
   ]
  },
  {
   "cell_type": "code",
   "execution_count": 21,
   "id": "21b36916-a706-4ab9-b7c4-b781792a0e4c",
   "metadata": {},
   "outputs": [
    {
     "data": {
      "text/plain": [
       "'/Users/loicregne/code/rs-uk/raw_data/full_simplified_face.ndjson'"
      ]
     },
     "execution_count": 21,
     "metadata": {},
     "output_type": "execute_result"
    }
   ],
   "source": [
    "ndjson_filepath"
   ]
  },
  {
   "cell_type": "code",
   "execution_count": 6,
   "id": "1989807d-2ded-4dd1-b5b1-9344d568bb8e",
   "metadata": {},
   "outputs": [
    {
     "data": {
      "text/plain": [
       "'/Users/loicregne/code/rs-uk/raw_data/processed_full_simplified_face.ndjson'"
      ]
     },
     "execution_count": 6,
     "metadata": {},
     "output_type": "execute_result"
    }
   ],
   "source": [
    "# Where we want to save the output file and a name is given\n",
    "output_filepath = '/'.join((path_data, 'processed_' + file_name_example))\n",
    "output_filepath"
   ]
  },
  {
   "cell_type": "code",
   "execution_count": 12,
   "id": "4412b427-a642-4dfb-94bc-8ee2da640279",
   "metadata": {},
   "outputs": [],
   "source": [
    "# Function to save the dictionary file for the processed images\n",
    "def save_images_dict_to_json(list_drawings, output_file):\n",
    "    with open(output_file, 'w') as json_file:\n",
    "        json.dump(list_drawings, json_file)"
   ]
  },
  {
   "cell_type": "code",
   "execution_count": 13,
   "id": "371be7c8-aea2-442b-8646-debc34bba7e9",
   "metadata": {},
   "outputs": [],
   "source": [
    "# Function to save the drawings in the list to an ndjson file locally\n",
    "def save_drawings_to_ndjson_local(list_drawings: list, output_file: str) -> None:\n",
    "    '''\n",
    "        - list_drawings: contains a dictionary for each drawing\n",
    "        - output_file: the complete filepath to the target file to save/create (.ndjson)\n",
    "    '''\n",
    "    with open(output_file, 'w') as ndjson_file:\n",
    "        # Write each drawing's dict to the file as a new line\n",
    "        for dict_drawing in list_drawings:\n",
    "            ndjson_file.write(str(dict_drawing) + '\\n')"
   ]
  },
  {
   "cell_type": "code",
   "execution_count": 40,
   "id": "191343f8-8f62-4c9f-9d57-a479a7c4a6cc",
   "metadata": {},
   "outputs": [
    {
     "name": "stdout",
     "output_type": "stream",
     "text": [
      "CPU times: user 349 ms, sys: 111 ms, total: 460 ms\n",
      "Wall time: 483 ms\n"
     ]
    }
   ],
   "source": [
    "%%time\n",
    "list_drawings = drawings_extraction_v2(ndjson_filepath, 1000)"
   ]
  },
  {
   "cell_type": "code",
   "execution_count": 42,
   "id": "b29b2584-da51-4051-87a2-b96e3cbee4ba",
   "metadata": {},
   "outputs": [
    {
     "name": "stdout",
     "output_type": "stream",
     "text": [
      "CPU times: user 51.7 ms, sys: 6.59 ms, total: 58.3 ms\n",
      "Wall time: 57.8 ms\n"
     ]
    }
   ],
   "source": [
    "%%time\n",
    "save_drawings_to_ndjson_local(list_drawings, output_file)"
   ]
  },
  {
   "cell_type": "code",
   "execution_count": 48,
   "id": "32eaa17c-5400-4af0-9632-ba9d4ff384c3",
   "metadata": {},
   "outputs": [],
   "source": [
    "upload_blob(bucket_drawings_simplified_processed, output_filepath, 'processed_' + file_name_example)"
   ]
  },
  {
   "cell_type": "markdown",
   "id": "26d90016-ebe8-4ea5-aea2-49b28491b55b",
   "metadata": {},
   "source": [
    "# Go through all the blobs in a bucket"
   ]
  },
  {
   "cell_type": "code",
   "execution_count": 25,
   "id": "582c82c4-ab06-4c4d-aa77-a89df20d4a7a",
   "metadata": {},
   "outputs": [],
   "source": [
    "# TODO:\n",
    "# Push the new file to gcp bucket\n",
    "# Run for the list of ndjson files in a loop\n",
    "# Include the resampling of the raw data "
   ]
  },
  {
   "cell_type": "code",
   "execution_count": 14,
   "id": "63087df3-bd3c-4139-a06c-ab431a23f9bd",
   "metadata": {},
   "outputs": [],
   "source": [
    "list_classes = list_blobs(bucket_drawings_simplified)"
   ]
  },
  {
   "cell_type": "code",
   "execution_count": null,
   "id": "a594bd0c-3906-4017-a465-8acc039c5b6e",
   "metadata": {},
   "outputs": [],
   "source": []
  },
  {
   "cell_type": "code",
   "execution_count": 1,
   "id": "d5c801f3-ef89-40ef-a7aa-4c2c93820e36",
   "metadata": {},
   "outputs": [
    {
     "name": "stdout",
     "output_type": "stream",
     "text": [
      "Collecting alive-progress\n",
      "  Downloading alive_progress-3.1.5-py3-none-any.whl.metadata (68 kB)\n",
      "\u001b[2K     \u001b[90m━━━━━━━━━━━━━━━━━━━━━━━━━━━━━━━━━━━━━━━━\u001b[0m \u001b[32m68.4/68.4 kB\u001b[0m \u001b[31m4.8 MB/s\u001b[0m eta \u001b[36m0:00:00\u001b[0m\n",
      "\u001b[?25hCollecting about-time==4.2.1 (from alive-progress)\n",
      "  Downloading about_time-4.2.1-py3-none-any.whl.metadata (13 kB)\n",
      "Collecting grapheme==0.6.0 (from alive-progress)\n",
      "  Downloading grapheme-0.6.0.tar.gz (207 kB)\n",
      "\u001b[2K     \u001b[90m━━━━━━━━━━━━━━━━━━━━━━━━━━━━━━━━━━━━━━━\u001b[0m \u001b[32m207.3/207.3 kB\u001b[0m \u001b[31m4.9 MB/s\u001b[0m eta \u001b[36m0:00:00\u001b[0m00:01\u001b[0m\n",
      "\u001b[?25h  Preparing metadata (setup.py) ... \u001b[?25ldone\n",
      "\u001b[?25hDownloading alive_progress-3.1.5-py3-none-any.whl (75 kB)\n",
      "\u001b[2K   \u001b[90m━━━━━━━━━━━━━━━━━━━━━━━━━━━━━━━━━━━━━━━━\u001b[0m \u001b[32m76.0/76.0 kB\u001b[0m \u001b[31m7.7 MB/s\u001b[0m eta \u001b[36m0:00:00\u001b[0m\n",
      "\u001b[?25hDownloading about_time-4.2.1-py3-none-any.whl (13 kB)\n",
      "Building wheels for collected packages: grapheme\n",
      "  Building wheel for grapheme (setup.py) ... \u001b[?25ldone\n",
      "\u001b[?25h  Created wheel for grapheme: filename=grapheme-0.6.0-py3-none-any.whl size=210078 sha256=8c799ed528b53d7960c6ad6a14a4edbacc43256c1644c5ea6930ef8284e6eddb\n",
      "  Stored in directory: /Users/loicregne/Library/Caches/pip/wheels/01/e1/49/37e6bde9886439057450c494a79b0bef8bbe897a54aebfc757\n",
      "Successfully built grapheme\n",
      "Installing collected packages: grapheme, about-time, alive-progress\n",
      "Successfully installed about-time-4.2.1 alive-progress-3.1.5 grapheme-0.6.0\n"
     ]
    }
   ],
   "source": [
    "!pip install alive-progress"
   ]
  },
  {
   "cell_type": "code",
   "execution_count": 32,
   "id": "f8a7cc97-f093-4166-b298-02eff2dec06b",
   "metadata": {},
   "outputs": [
    {
     "name": "stdout",
     "output_type": "stream",
     "text": [
      "Requirement already satisfied: tqdm in /Users/loicregne/.pyenv/versions/3.10.6/envs/pictionary-ai/lib/python3.10/site-packages (4.66.2)\n"
     ]
    }
   ],
   "source": [
    "!pip install tqdm"
   ]
  },
  {
   "cell_type": "code",
   "execution_count": 21,
   "id": "c8ae0004-8edb-43f2-b9ce-0af437313e87",
   "metadata": {},
   "outputs": [],
   "source": [
    "from alive_progress import alive_bar\n",
    "import time\n",
    "from tqdm.auto import tqdm\n"
   ]
  },
  {
   "cell_type": "code",
   "execution_count": 39,
   "id": "0f521286-1dd6-42ba-8662-fcf3288bdd97",
   "metadata": {
    "scrolled": true
   },
   "outputs": [
    {
     "data": {
      "application/vnd.jupyter.widget-view+json": {
       "model_id": "a04a13a41dc14cea8b446aceaecc337f",
       "version_major": 2,
       "version_minor": 0
      },
      "text/plain": [
       "  0%|          | 0/345 [00:00<?, ?it/s] "
      ]
     },
     "metadata": {},
     "output_type": "display_data"
    },
    {
     "data": {
      "application/vnd.jupyter.widget-view+json": {
       "model_id": "ac79f29194f84aac80842db7f527bb3a",
       "version_major": 2,
       "version_minor": 0
      },
      "text/plain": [
       "  0%|          | 0/10000 [00:00<?, ?it/s]"
      ]
     },
     "metadata": {},
     "output_type": "display_data"
    },
    {
     "data": {
      "application/vnd.jupyter.widget-view+json": {
       "model_id": "da4b04fbed6c4638baa64305430c4a6b",
       "version_major": 2,
       "version_minor": 0
      },
      "text/plain": [
       "  0%|          | 0/10000 [00:00<?, ?it/s]"
      ]
     },
     "metadata": {},
     "output_type": "display_data"
    },
    {
     "data": {
      "application/vnd.jupyter.widget-view+json": {
       "model_id": "ca5fc112a18b4d7e91869d20e337e13b",
       "version_major": 2,
       "version_minor": 0
      },
      "text/plain": [
       "  0%|          | 0/10000 [00:00<?, ?it/s]"
      ]
     },
     "metadata": {},
     "output_type": "display_data"
    },
    {
     "data": {
      "application/vnd.jupyter.widget-view+json": {
       "model_id": "1330620871b944bb9ba445f8801cd40b",
       "version_major": 2,
       "version_minor": 0
      },
      "text/plain": [
       "  0%|          | 0/10000 [00:00<?, ?it/s]"
      ]
     },
     "metadata": {},
     "output_type": "display_data"
    },
    {
     "data": {
      "application/vnd.jupyter.widget-view+json": {
       "model_id": "9bfece12cedb4d51bbfd2127d032f45c",
       "version_major": 2,
       "version_minor": 0
      },
      "text/plain": [
       "  0%|          | 0/10000 [00:00<?, ?it/s]"
      ]
     },
     "metadata": {},
     "output_type": "display_data"
    },
    {
     "data": {
      "application/vnd.jupyter.widget-view+json": {
       "model_id": "fd431442487c4d9ab0846cc86b88b3f0",
       "version_major": 2,
       "version_minor": 0
      },
      "text/plain": [
       "  0%|          | 0/10000 [00:00<?, ?it/s]"
      ]
     },
     "metadata": {},
     "output_type": "display_data"
    },
    {
     "data": {
      "application/vnd.jupyter.widget-view+json": {
       "model_id": "58fde5b951ae43859129935b0baad5d6",
       "version_major": 2,
       "version_minor": 0
      },
      "text/plain": [
       "  0%|          | 0/10000 [00:00<?, ?it/s]"
      ]
     },
     "metadata": {},
     "output_type": "display_data"
    },
    {
     "ename": "KeyboardInterrupt",
     "evalue": "",
     "output_type": "error",
     "traceback": [
      "\u001b[0;31m---------------------------------------------------------------------------\u001b[0m",
      "\u001b[0;31mKeyboardInterrupt\u001b[0m                         Traceback (most recent call last)",
      "Cell \u001b[0;32mIn[39], line 16\u001b[0m\n",
      "Cell \u001b[0;32mIn[37], line 31\u001b[0m, in \u001b[0;36mprocess_class\u001b[0;34m(ndjson_filepath, nb_drawings_to_load)\u001b[0m\n",
      "File \u001b[0;32m~/.pyenv/versions/3.10.6/lib/python3.10/json/__init__.py:346\u001b[0m, in \u001b[0;36mloads\u001b[0;34m(s, cls, object_hook, parse_float, parse_int, parse_constant, object_pairs_hook, **kw)\u001b[0m\n\u001b[1;32m    341\u001b[0m     s \u001b[38;5;241m=\u001b[39m s\u001b[38;5;241m.\u001b[39mdecode(detect_encoding(s), \u001b[38;5;124m'\u001b[39m\u001b[38;5;124msurrogatepass\u001b[39m\u001b[38;5;124m'\u001b[39m)\n\u001b[1;32m    343\u001b[0m \u001b[38;5;28;01mif\u001b[39;00m (\u001b[38;5;28mcls\u001b[39m \u001b[38;5;129;01mis\u001b[39;00m \u001b[38;5;28;01mNone\u001b[39;00m \u001b[38;5;129;01mand\u001b[39;00m object_hook \u001b[38;5;129;01mis\u001b[39;00m \u001b[38;5;28;01mNone\u001b[39;00m \u001b[38;5;129;01mand\u001b[39;00m\n\u001b[1;32m    344\u001b[0m         parse_int \u001b[38;5;129;01mis\u001b[39;00m \u001b[38;5;28;01mNone\u001b[39;00m \u001b[38;5;129;01mand\u001b[39;00m parse_float \u001b[38;5;129;01mis\u001b[39;00m \u001b[38;5;28;01mNone\u001b[39;00m \u001b[38;5;129;01mand\u001b[39;00m\n\u001b[1;32m    345\u001b[0m         parse_constant \u001b[38;5;129;01mis\u001b[39;00m \u001b[38;5;28;01mNone\u001b[39;00m \u001b[38;5;129;01mand\u001b[39;00m object_pairs_hook \u001b[38;5;129;01mis\u001b[39;00m \u001b[38;5;28;01mNone\u001b[39;00m \u001b[38;5;129;01mand\u001b[39;00m \u001b[38;5;129;01mnot\u001b[39;00m kw):\n\u001b[0;32m--> 346\u001b[0m     \u001b[38;5;28;01mreturn\u001b[39;00m \u001b[43m_default_decoder\u001b[49m\u001b[38;5;241;43m.\u001b[39;49m\u001b[43mdecode\u001b[49m\u001b[43m(\u001b[49m\u001b[43ms\u001b[49m\u001b[43m)\u001b[49m\n\u001b[1;32m    347\u001b[0m \u001b[38;5;28;01mif\u001b[39;00m \u001b[38;5;28mcls\u001b[39m \u001b[38;5;129;01mis\u001b[39;00m \u001b[38;5;28;01mNone\u001b[39;00m:\n\u001b[1;32m    348\u001b[0m     \u001b[38;5;28mcls\u001b[39m \u001b[38;5;241m=\u001b[39m JSONDecoder\n",
      "File \u001b[0;32m~/.pyenv/versions/3.10.6/lib/python3.10/json/decoder.py:337\u001b[0m, in \u001b[0;36mJSONDecoder.decode\u001b[0;34m(self, s, _w)\u001b[0m\n\u001b[1;32m    332\u001b[0m \u001b[38;5;28;01mdef\u001b[39;00m \u001b[38;5;21mdecode\u001b[39m(\u001b[38;5;28mself\u001b[39m, s, _w\u001b[38;5;241m=\u001b[39mWHITESPACE\u001b[38;5;241m.\u001b[39mmatch):\n\u001b[1;32m    333\u001b[0m \u001b[38;5;250m    \u001b[39m\u001b[38;5;124;03m\"\"\"Return the Python representation of ``s`` (a ``str`` instance\u001b[39;00m\n\u001b[1;32m    334\u001b[0m \u001b[38;5;124;03m    containing a JSON document).\u001b[39;00m\n\u001b[1;32m    335\u001b[0m \n\u001b[1;32m    336\u001b[0m \u001b[38;5;124;03m    \"\"\"\u001b[39;00m\n\u001b[0;32m--> 337\u001b[0m     obj, end \u001b[38;5;241m=\u001b[39m \u001b[38;5;28;43mself\u001b[39;49m\u001b[38;5;241;43m.\u001b[39;49m\u001b[43mraw_decode\u001b[49m\u001b[43m(\u001b[49m\u001b[43ms\u001b[49m\u001b[43m,\u001b[49m\u001b[43m \u001b[49m\u001b[43midx\u001b[49m\u001b[38;5;241;43m=\u001b[39;49m\u001b[43m_w\u001b[49m\u001b[43m(\u001b[49m\u001b[43ms\u001b[49m\u001b[43m,\u001b[49m\u001b[43m \u001b[49m\u001b[38;5;241;43m0\u001b[39;49m\u001b[43m)\u001b[49m\u001b[38;5;241;43m.\u001b[39;49m\u001b[43mend\u001b[49m\u001b[43m(\u001b[49m\u001b[43m)\u001b[49m\u001b[43m)\u001b[49m\n\u001b[1;32m    338\u001b[0m     end \u001b[38;5;241m=\u001b[39m _w(s, end)\u001b[38;5;241m.\u001b[39mend()\n\u001b[1;32m    339\u001b[0m     \u001b[38;5;28;01mif\u001b[39;00m end \u001b[38;5;241m!=\u001b[39m \u001b[38;5;28mlen\u001b[39m(s):\n",
      "File \u001b[0;32m~/.pyenv/versions/3.10.6/lib/python3.10/json/decoder.py:353\u001b[0m, in \u001b[0;36mJSONDecoder.raw_decode\u001b[0;34m(self, s, idx)\u001b[0m\n\u001b[1;32m    344\u001b[0m \u001b[38;5;250m\u001b[39m\u001b[38;5;124;03m\"\"\"Decode a JSON document from ``s`` (a ``str`` beginning with\u001b[39;00m\n\u001b[1;32m    345\u001b[0m \u001b[38;5;124;03ma JSON document) and return a 2-tuple of the Python\u001b[39;00m\n\u001b[1;32m    346\u001b[0m \u001b[38;5;124;03mrepresentation and the index in ``s`` where the document ended.\u001b[39;00m\n\u001b[0;32m   (...)\u001b[0m\n\u001b[1;32m    350\u001b[0m \n\u001b[1;32m    351\u001b[0m \u001b[38;5;124;03m\"\"\"\u001b[39;00m\n\u001b[1;32m    352\u001b[0m \u001b[38;5;28;01mtry\u001b[39;00m:\n\u001b[0;32m--> 353\u001b[0m     obj, end \u001b[38;5;241m=\u001b[39m \u001b[38;5;28;43mself\u001b[39;49m\u001b[38;5;241;43m.\u001b[39;49m\u001b[43mscan_once\u001b[49m\u001b[43m(\u001b[49m\u001b[43ms\u001b[49m\u001b[43m,\u001b[49m\u001b[43m \u001b[49m\u001b[43midx\u001b[49m\u001b[43m)\u001b[49m\n\u001b[1;32m    354\u001b[0m \u001b[38;5;28;01mexcept\u001b[39;00m \u001b[38;5;167;01mStopIteration\u001b[39;00m \u001b[38;5;28;01mas\u001b[39;00m err:\n\u001b[1;32m    355\u001b[0m     \u001b[38;5;28;01mraise\u001b[39;00m JSONDecodeError(\u001b[38;5;124m\"\u001b[39m\u001b[38;5;124mExpecting value\u001b[39m\u001b[38;5;124m\"\u001b[39m, s, err\u001b[38;5;241m.\u001b[39mvalue) \u001b[38;5;28;01mfrom\u001b[39;00m \u001b[38;5;28;01mNone\u001b[39;00m\n",
      "\u001b[0;31mKeyboardInterrupt\u001b[0m: "
     ]
    }
   ],
   "source": [
    "nb_classes = len(list_classes)\n",
    "\n",
    "l_bar='{percentage:3.0f}%|'\n",
    "bar = '{bar}'\n",
    "r_bar='| {n_fmt}/{total_fmt} [{elapsed}<{remaining}, {rate_fmt}{postfix}] {desc}'\n",
    "bar_format = l_bar + bar + r_bar\n",
    "processing_bar = tqdm(list_classes, bar_format=bar_format)\n",
    "\n",
    "for blob_name in processing_bar:\n",
    "    # Define the blob files locally\n",
    "    blob_filepath = '/'.join((path_data, blob_name))\n",
    "    blob_processed_filepath = '/'.join((path_data, 'test_' + blob_name))\n",
    "    # Download that blob from the cloud\n",
    "    # download_blob(bucket_drawings_simplified, blob_name, blob_filepath)\n",
    "    # Process that blob (class)\n",
    "    list_drawings = process_class(blob_filepath, 10000)\n",
    "    # print(f\"Processed {blob_name}\")\n",
    "    # bar()\n",
    "    # Save the processed drawings locally\n",
    "    save_drawings_to_ndjson_local(list_drawings, blob_processed_filepath)\n",
    "    # Upload the processed blobs to the cloud\n",
    "    # upload_blob(bucket_drawings_simplified_processed, blob_processed_filepath, 'test_' + blob_name)\n",
    "    processing_bar.set_description(\"Processing %s\" % blob_name)"
   ]
  },
  {
   "cell_type": "code",
   "execution_count": null,
   "id": "cc26511c-dc18-489f-8076-3c887c03e54e",
   "metadata": {},
   "outputs": [],
   "source": []
  }
 ],
 "metadata": {
  "kernelspec": {
   "display_name": "Python 3 (ipykernel)",
   "language": "python",
   "name": "python3"
  },
  "language_info": {
   "codemirror_mode": {
    "name": "ipython",
    "version": 3
   },
   "file_extension": ".py",
   "mimetype": "text/x-python",
   "name": "python",
   "nbconvert_exporter": "python",
   "pygments_lexer": "ipython3",
   "version": "3.10.6"
  },
  "toc": {
   "base_numbering": 1,
   "nav_menu": {},
   "number_sections": true,
   "sideBar": true,
   "skip_h1_title": false,
   "title_cell": "Table of Contents",
   "title_sidebar": "Contents",
   "toc_cell": false,
   "toc_position": {},
   "toc_section_display": true,
   "toc_window_display": false
  }
 },
 "nbformat": 4,
 "nbformat_minor": 5
}
