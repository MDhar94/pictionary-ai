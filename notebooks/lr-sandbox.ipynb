{
 "cells": [
  {
   "cell_type": "code",
   "execution_count": 1,
   "id": "a5cef320-3736-4045-9c78-fdd48332ac52",
   "metadata": {},
   "outputs": [],
   "source": [
    "import sys"
   ]
  },
  {
   "cell_type": "code",
   "execution_count": 2,
   "id": "842f1fde-d8af-43c4-be46-01db3233af19",
   "metadata": {},
   "outputs": [
    {
     "name": "stdout",
     "output_type": "stream",
     "text": [
      "['/Users/loicregne/.pyenv/versions/3.10.6/lib/python3.10', '/Users/loicregne/.pyenv/versions/3.10.6/lib', '/Users/loicregne/.pyenv/versions/3.10.6', '/Users/loicregne/.pyenv/versions', '/Users/loicregne/code/rs-uk/pictionary-ai', '/Users/loicregne/code/loicregne/04-Decision-Science/01-Project-Setup/data-context-and-setup', '/Users/loicregne/code/rs-uk/pictionary-ai/notebooks', '/Users/loicregne/.pyenv/versions/3.10.6/lib/python310.zip', '/Users/loicregne/.pyenv/versions/3.10.6/lib/python3.10/lib-dynload', '', '/Users/loicregne/.pyenv/versions/3.10.6/envs/pictionary-ai/lib/python3.10/site-packages']\n"
     ]
    }
   ],
   "source": [
    "print(sys.path)"
   ]
  },
  {
   "cell_type": "code",
   "execution_count": 1,
   "id": "cf794134-5eba-4aed-8fb7-16439eec7afa",
   "metadata": {},
   "outputs": [],
   "source": [
    "from datetime import datetime"
   ]
  },
  {
   "cell_type": "code",
   "execution_count": 13,
   "id": "90310fb5-2727-4a51-9cf3-27aaab7a98d3",
   "metadata": {},
   "outputs": [
    {
     "data": {
      "text/plain": [
       "'2024-03-12_20h21'"
      ]
     },
     "execution_count": 13,
     "metadata": {},
     "output_type": "execute_result"
    }
   ],
   "source": [
    "datetime.now().strftime(\"%Y-%m-%d_%Hh%M\")"
   ]
  },
  {
   "cell_type": "code",
   "execution_count": null,
   "id": "da619fca-2a45-4b93-8772-14ca96bfe06e",
   "metadata": {},
   "outputs": [],
   "source": []
  }
 ],
 "metadata": {
  "kernelspec": {
   "display_name": "Python 3 (ipykernel)",
   "language": "python",
   "name": "python3"
  },
  "language_info": {
   "codemirror_mode": {
    "name": "ipython",
    "version": 3
   },
   "file_extension": ".py",
   "mimetype": "text/x-python",
   "name": "python",
   "nbconvert_exporter": "python",
   "pygments_lexer": "ipython3",
   "version": "3.10.6"
  }
 },
 "nbformat": 4,
 "nbformat_minor": 5
}
